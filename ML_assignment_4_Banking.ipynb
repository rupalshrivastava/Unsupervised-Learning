{
  "nbformat": 4,
  "nbformat_minor": 0,
  "metadata": {
    "colab": {
      "name": "ML_assignment_4_Banking.ipynb",
      "provenance": [],
      "collapsed_sections": [],
      "toc_visible": true,
      "machine_shape": "hm"
    },
    "kernelspec": {
      "name": "python3",
      "display_name": "Python 3"
    }
  },
  "cells": [
    {
      "cell_type": "code",
      "metadata": {
        "id": "6X8A-SDW0W2X",
        "colab_type": "code",
        "colab": {}
      },
      "source": [
        "#from google.colab import files\n",
        "#uploaded = files.upload() \n",
        "#Please select file location"
      ],
      "execution_count": 0,
      "outputs": []
    },
    {
      "cell_type": "markdown",
      "metadata": {
        "id": "n5ka4SsKkGe5",
        "colab_type": "text"
      },
      "source": [
        "#**Data** **Preprocessing**"
      ]
    },
    {
      "cell_type": "code",
      "metadata": {
        "colab_type": "code",
        "id": "h2FP1n7VB91d",
        "colab": {}
      },
      "source": [
        "#import statements\n",
        "import numpy as np\n",
        "import pandas as pd\n",
        "import matplotlib.pyplot as plt\n",
        "import seaborn as sns\n",
        "from sklearn.model_selection import train_test_split, cross_val_score, GridSearchCV, learning_curve, KFold\n",
        "from sklearn.preprocessing import MinMaxScaler, OneHotEncoder, StandardScaler\n",
        "import random\n",
        "from sklearn.svm import SVC\n",
        "import sklearn.metrics as sk\n",
        "from sklearn.tree import DecisionTreeClassifier\n",
        "from sklearn import tree\n",
        "# Importing the Keras libraries and packages\n",
        "import keras\n",
        "from keras.models import Sequential\n",
        "from keras.layers import Dense\n",
        "from sklearn.neighbors import KNeighborsClassifier\n",
        "from sklearn.metrics import recall_score,auc, roc_auc_score, roc_curve,confusion_matrix,classification_report"
      ],
      "execution_count": 0,
      "outputs": []
    },
    {
      "cell_type": "code",
      "metadata": {
        "id": "8BA8YEtm7jBG",
        "colab_type": "code",
        "outputId": "c3cc1197-b50a-4b04-e0be-57005f8b1ba1",
        "colab": {
          "base_uri": "https://localhost:8080/",
          "height": 34
        }
      },
      "source": [
        "#change the dataset location\n",
        "df = pd.read_csv('bank-full.csv')\n",
        "df.shape"
      ],
      "execution_count": 0,
      "outputs": [
        {
          "output_type": "execute_result",
          "data": {
            "text/plain": [
              "(45211, 17)"
            ]
          },
          "metadata": {
            "tags": []
          },
          "execution_count": 53
        }
      ]
    },
    {
      "cell_type": "code",
      "metadata": {
        "id": "STEMeQrf0sPb",
        "colab_type": "code",
        "outputId": "51482534-efb0-4313-dcc0-18afffe65e6d",
        "colab": {
          "base_uri": "https://localhost:8080/",
          "height": 195
        }
      },
      "source": [
        "#viewing data\n",
        "df.head()"
      ],
      "execution_count": 0,
      "outputs": [
        {
          "output_type": "execute_result",
          "data": {
            "text/html": [
              "<div>\n",
              "<style scoped>\n",
              "    .dataframe tbody tr th:only-of-type {\n",
              "        vertical-align: middle;\n",
              "    }\n",
              "\n",
              "    .dataframe tbody tr th {\n",
              "        vertical-align: top;\n",
              "    }\n",
              "\n",
              "    .dataframe thead th {\n",
              "        text-align: right;\n",
              "    }\n",
              "</style>\n",
              "<table border=\"1\" class=\"dataframe\">\n",
              "  <thead>\n",
              "    <tr style=\"text-align: right;\">\n",
              "      <th></th>\n",
              "      <th>age</th>\n",
              "      <th>job</th>\n",
              "      <th>marital</th>\n",
              "      <th>education</th>\n",
              "      <th>default</th>\n",
              "      <th>balance</th>\n",
              "      <th>housing</th>\n",
              "      <th>loan</th>\n",
              "      <th>contact</th>\n",
              "      <th>day</th>\n",
              "      <th>month</th>\n",
              "      <th>duration</th>\n",
              "      <th>campaign</th>\n",
              "      <th>pdays</th>\n",
              "      <th>previous</th>\n",
              "      <th>poutcome</th>\n",
              "      <th>y</th>\n",
              "    </tr>\n",
              "  </thead>\n",
              "  <tbody>\n",
              "    <tr>\n",
              "      <th>0</th>\n",
              "      <td>58</td>\n",
              "      <td>management</td>\n",
              "      <td>married</td>\n",
              "      <td>tertiary</td>\n",
              "      <td>no</td>\n",
              "      <td>2143</td>\n",
              "      <td>yes</td>\n",
              "      <td>no</td>\n",
              "      <td>unknown</td>\n",
              "      <td>5</td>\n",
              "      <td>may</td>\n",
              "      <td>261</td>\n",
              "      <td>1</td>\n",
              "      <td>-1</td>\n",
              "      <td>0</td>\n",
              "      <td>unknown</td>\n",
              "      <td>no</td>\n",
              "    </tr>\n",
              "    <tr>\n",
              "      <th>1</th>\n",
              "      <td>44</td>\n",
              "      <td>technician</td>\n",
              "      <td>single</td>\n",
              "      <td>secondary</td>\n",
              "      <td>no</td>\n",
              "      <td>29</td>\n",
              "      <td>yes</td>\n",
              "      <td>no</td>\n",
              "      <td>unknown</td>\n",
              "      <td>5</td>\n",
              "      <td>may</td>\n",
              "      <td>151</td>\n",
              "      <td>1</td>\n",
              "      <td>-1</td>\n",
              "      <td>0</td>\n",
              "      <td>unknown</td>\n",
              "      <td>no</td>\n",
              "    </tr>\n",
              "    <tr>\n",
              "      <th>2</th>\n",
              "      <td>33</td>\n",
              "      <td>entrepreneur</td>\n",
              "      <td>married</td>\n",
              "      <td>secondary</td>\n",
              "      <td>no</td>\n",
              "      <td>2</td>\n",
              "      <td>yes</td>\n",
              "      <td>yes</td>\n",
              "      <td>unknown</td>\n",
              "      <td>5</td>\n",
              "      <td>may</td>\n",
              "      <td>76</td>\n",
              "      <td>1</td>\n",
              "      <td>-1</td>\n",
              "      <td>0</td>\n",
              "      <td>unknown</td>\n",
              "      <td>no</td>\n",
              "    </tr>\n",
              "    <tr>\n",
              "      <th>3</th>\n",
              "      <td>47</td>\n",
              "      <td>blue-collar</td>\n",
              "      <td>married</td>\n",
              "      <td>unknown</td>\n",
              "      <td>no</td>\n",
              "      <td>1506</td>\n",
              "      <td>yes</td>\n",
              "      <td>no</td>\n",
              "      <td>unknown</td>\n",
              "      <td>5</td>\n",
              "      <td>may</td>\n",
              "      <td>92</td>\n",
              "      <td>1</td>\n",
              "      <td>-1</td>\n",
              "      <td>0</td>\n",
              "      <td>unknown</td>\n",
              "      <td>no</td>\n",
              "    </tr>\n",
              "    <tr>\n",
              "      <th>4</th>\n",
              "      <td>33</td>\n",
              "      <td>unknown</td>\n",
              "      <td>single</td>\n",
              "      <td>unknown</td>\n",
              "      <td>no</td>\n",
              "      <td>1</td>\n",
              "      <td>no</td>\n",
              "      <td>no</td>\n",
              "      <td>unknown</td>\n",
              "      <td>5</td>\n",
              "      <td>may</td>\n",
              "      <td>198</td>\n",
              "      <td>1</td>\n",
              "      <td>-1</td>\n",
              "      <td>0</td>\n",
              "      <td>unknown</td>\n",
              "      <td>no</td>\n",
              "    </tr>\n",
              "  </tbody>\n",
              "</table>\n",
              "</div>"
            ],
            "text/plain": [
              "   age           job  marital  education  ... pdays  previous poutcome   y\n",
              "0   58    management  married   tertiary  ...    -1         0  unknown  no\n",
              "1   44    technician   single  secondary  ...    -1         0  unknown  no\n",
              "2   33  entrepreneur  married  secondary  ...    -1         0  unknown  no\n",
              "3   47   blue-collar  married    unknown  ...    -1         0  unknown  no\n",
              "4   33       unknown   single    unknown  ...    -1         0  unknown  no\n",
              "\n",
              "[5 rows x 17 columns]"
            ]
          },
          "metadata": {
            "tags": []
          },
          "execution_count": 54
        }
      ]
    },
    {
      "cell_type": "code",
      "metadata": {
        "id": "eS3kDX710wSt",
        "colab_type": "code",
        "outputId": "6bc8fffa-b93a-46bd-ed70-96524d179e89",
        "colab": {
          "base_uri": "https://localhost:8080/",
          "height": 254
        }
      },
      "source": [
        "#checking descriptive stats\n",
        "df.describe().T"
      ],
      "execution_count": 0,
      "outputs": [
        {
          "output_type": "execute_result",
          "data": {
            "text/html": [
              "<div>\n",
              "<style scoped>\n",
              "    .dataframe tbody tr th:only-of-type {\n",
              "        vertical-align: middle;\n",
              "    }\n",
              "\n",
              "    .dataframe tbody tr th {\n",
              "        vertical-align: top;\n",
              "    }\n",
              "\n",
              "    .dataframe thead th {\n",
              "        text-align: right;\n",
              "    }\n",
              "</style>\n",
              "<table border=\"1\" class=\"dataframe\">\n",
              "  <thead>\n",
              "    <tr style=\"text-align: right;\">\n",
              "      <th></th>\n",
              "      <th>count</th>\n",
              "      <th>mean</th>\n",
              "      <th>std</th>\n",
              "      <th>min</th>\n",
              "      <th>25%</th>\n",
              "      <th>50%</th>\n",
              "      <th>75%</th>\n",
              "      <th>max</th>\n",
              "    </tr>\n",
              "  </thead>\n",
              "  <tbody>\n",
              "    <tr>\n",
              "      <th>age</th>\n",
              "      <td>45211.0</td>\n",
              "      <td>40.936210</td>\n",
              "      <td>10.618762</td>\n",
              "      <td>18.0</td>\n",
              "      <td>33.0</td>\n",
              "      <td>39.0</td>\n",
              "      <td>48.0</td>\n",
              "      <td>95.0</td>\n",
              "    </tr>\n",
              "    <tr>\n",
              "      <th>balance</th>\n",
              "      <td>45211.0</td>\n",
              "      <td>1362.272058</td>\n",
              "      <td>3044.765829</td>\n",
              "      <td>-8019.0</td>\n",
              "      <td>72.0</td>\n",
              "      <td>448.0</td>\n",
              "      <td>1428.0</td>\n",
              "      <td>102127.0</td>\n",
              "    </tr>\n",
              "    <tr>\n",
              "      <th>day</th>\n",
              "      <td>45211.0</td>\n",
              "      <td>15.806419</td>\n",
              "      <td>8.322476</td>\n",
              "      <td>1.0</td>\n",
              "      <td>8.0</td>\n",
              "      <td>16.0</td>\n",
              "      <td>21.0</td>\n",
              "      <td>31.0</td>\n",
              "    </tr>\n",
              "    <tr>\n",
              "      <th>duration</th>\n",
              "      <td>45211.0</td>\n",
              "      <td>258.163080</td>\n",
              "      <td>257.527812</td>\n",
              "      <td>0.0</td>\n",
              "      <td>103.0</td>\n",
              "      <td>180.0</td>\n",
              "      <td>319.0</td>\n",
              "      <td>4918.0</td>\n",
              "    </tr>\n",
              "    <tr>\n",
              "      <th>campaign</th>\n",
              "      <td>45211.0</td>\n",
              "      <td>2.763841</td>\n",
              "      <td>3.098021</td>\n",
              "      <td>1.0</td>\n",
              "      <td>1.0</td>\n",
              "      <td>2.0</td>\n",
              "      <td>3.0</td>\n",
              "      <td>63.0</td>\n",
              "    </tr>\n",
              "    <tr>\n",
              "      <th>pdays</th>\n",
              "      <td>45211.0</td>\n",
              "      <td>40.197828</td>\n",
              "      <td>100.128746</td>\n",
              "      <td>-1.0</td>\n",
              "      <td>-1.0</td>\n",
              "      <td>-1.0</td>\n",
              "      <td>-1.0</td>\n",
              "      <td>871.0</td>\n",
              "    </tr>\n",
              "    <tr>\n",
              "      <th>previous</th>\n",
              "      <td>45211.0</td>\n",
              "      <td>0.580323</td>\n",
              "      <td>2.303441</td>\n",
              "      <td>0.0</td>\n",
              "      <td>0.0</td>\n",
              "      <td>0.0</td>\n",
              "      <td>0.0</td>\n",
              "      <td>275.0</td>\n",
              "    </tr>\n",
              "  </tbody>\n",
              "</table>\n",
              "</div>"
            ],
            "text/plain": [
              "            count         mean          std  ...    50%     75%       max\n",
              "age       45211.0    40.936210    10.618762  ...   39.0    48.0      95.0\n",
              "balance   45211.0  1362.272058  3044.765829  ...  448.0  1428.0  102127.0\n",
              "day       45211.0    15.806419     8.322476  ...   16.0    21.0      31.0\n",
              "duration  45211.0   258.163080   257.527812  ...  180.0   319.0    4918.0\n",
              "campaign  45211.0     2.763841     3.098021  ...    2.0     3.0      63.0\n",
              "pdays     45211.0    40.197828   100.128746  ...   -1.0    -1.0     871.0\n",
              "previous  45211.0     0.580323     2.303441  ...    0.0     0.0     275.0\n",
              "\n",
              "[7 rows x 8 columns]"
            ]
          },
          "metadata": {
            "tags": []
          },
          "execution_count": 55
        }
      ]
    },
    {
      "cell_type": "code",
      "metadata": {
        "id": "-qJMXO6Qi6TZ",
        "colab_type": "code",
        "outputId": "3d21e5fc-dee0-43ca-bb87-4c66d40a09d0",
        "colab": {
          "base_uri": "https://localhost:8080/",
          "height": 420
        }
      },
      "source": [
        "#data info\n",
        "df.info()\n",
        "#No null values in the data"
      ],
      "execution_count": 0,
      "outputs": [
        {
          "output_type": "stream",
          "text": [
            "<class 'pandas.core.frame.DataFrame'>\n",
            "RangeIndex: 45211 entries, 0 to 45210\n",
            "Data columns (total 17 columns):\n",
            " #   Column     Non-Null Count  Dtype \n",
            "---  ------     --------------  ----- \n",
            " 0   age        45211 non-null  int64 \n",
            " 1   job        45211 non-null  object\n",
            " 2   marital    45211 non-null  object\n",
            " 3   education  45211 non-null  object\n",
            " 4   default    45211 non-null  object\n",
            " 5   balance    45211 non-null  int64 \n",
            " 6   housing    45211 non-null  object\n",
            " 7   loan       45211 non-null  object\n",
            " 8   contact    45211 non-null  object\n",
            " 9   day        45211 non-null  int64 \n",
            " 10  month      45211 non-null  object\n",
            " 11  duration   45211 non-null  int64 \n",
            " 12  campaign   45211 non-null  int64 \n",
            " 13  pdays      45211 non-null  int64 \n",
            " 14  previous   45211 non-null  int64 \n",
            " 15  poutcome   45211 non-null  object\n",
            " 16  y          45211 non-null  object\n",
            "dtypes: int64(7), object(10)\n",
            "memory usage: 5.9+ MB\n"
          ],
          "name": "stdout"
        }
      ]
    },
    {
      "cell_type": "code",
      "metadata": {
        "id": "1dGcQI5V0ykI",
        "colab_type": "code",
        "outputId": "847a24e1-cff1-43cf-c49b-feaa794ad14a",
        "colab": {
          "base_uri": "https://localhost:8080/",
          "height": 402
        }
      },
      "source": [
        "#Removing non-relevant variables\n",
        "df1=df.drop(columns=['day','month','contact','poutcome'],axis=1)\n",
        "df1"
      ],
      "execution_count": 0,
      "outputs": [
        {
          "output_type": "execute_result",
          "data": {
            "text/html": [
              "<div>\n",
              "<style scoped>\n",
              "    .dataframe tbody tr th:only-of-type {\n",
              "        vertical-align: middle;\n",
              "    }\n",
              "\n",
              "    .dataframe tbody tr th {\n",
              "        vertical-align: top;\n",
              "    }\n",
              "\n",
              "    .dataframe thead th {\n",
              "        text-align: right;\n",
              "    }\n",
              "</style>\n",
              "<table border=\"1\" class=\"dataframe\">\n",
              "  <thead>\n",
              "    <tr style=\"text-align: right;\">\n",
              "      <th></th>\n",
              "      <th>age</th>\n",
              "      <th>job</th>\n",
              "      <th>marital</th>\n",
              "      <th>education</th>\n",
              "      <th>default</th>\n",
              "      <th>balance</th>\n",
              "      <th>housing</th>\n",
              "      <th>loan</th>\n",
              "      <th>duration</th>\n",
              "      <th>campaign</th>\n",
              "      <th>pdays</th>\n",
              "      <th>previous</th>\n",
              "      <th>y</th>\n",
              "    </tr>\n",
              "  </thead>\n",
              "  <tbody>\n",
              "    <tr>\n",
              "      <th>0</th>\n",
              "      <td>58</td>\n",
              "      <td>management</td>\n",
              "      <td>married</td>\n",
              "      <td>tertiary</td>\n",
              "      <td>no</td>\n",
              "      <td>2143</td>\n",
              "      <td>yes</td>\n",
              "      <td>no</td>\n",
              "      <td>261</td>\n",
              "      <td>1</td>\n",
              "      <td>-1</td>\n",
              "      <td>0</td>\n",
              "      <td>no</td>\n",
              "    </tr>\n",
              "    <tr>\n",
              "      <th>1</th>\n",
              "      <td>44</td>\n",
              "      <td>technician</td>\n",
              "      <td>single</td>\n",
              "      <td>secondary</td>\n",
              "      <td>no</td>\n",
              "      <td>29</td>\n",
              "      <td>yes</td>\n",
              "      <td>no</td>\n",
              "      <td>151</td>\n",
              "      <td>1</td>\n",
              "      <td>-1</td>\n",
              "      <td>0</td>\n",
              "      <td>no</td>\n",
              "    </tr>\n",
              "    <tr>\n",
              "      <th>2</th>\n",
              "      <td>33</td>\n",
              "      <td>entrepreneur</td>\n",
              "      <td>married</td>\n",
              "      <td>secondary</td>\n",
              "      <td>no</td>\n",
              "      <td>2</td>\n",
              "      <td>yes</td>\n",
              "      <td>yes</td>\n",
              "      <td>76</td>\n",
              "      <td>1</td>\n",
              "      <td>-1</td>\n",
              "      <td>0</td>\n",
              "      <td>no</td>\n",
              "    </tr>\n",
              "    <tr>\n",
              "      <th>3</th>\n",
              "      <td>47</td>\n",
              "      <td>blue-collar</td>\n",
              "      <td>married</td>\n",
              "      <td>unknown</td>\n",
              "      <td>no</td>\n",
              "      <td>1506</td>\n",
              "      <td>yes</td>\n",
              "      <td>no</td>\n",
              "      <td>92</td>\n",
              "      <td>1</td>\n",
              "      <td>-1</td>\n",
              "      <td>0</td>\n",
              "      <td>no</td>\n",
              "    </tr>\n",
              "    <tr>\n",
              "      <th>4</th>\n",
              "      <td>33</td>\n",
              "      <td>unknown</td>\n",
              "      <td>single</td>\n",
              "      <td>unknown</td>\n",
              "      <td>no</td>\n",
              "      <td>1</td>\n",
              "      <td>no</td>\n",
              "      <td>no</td>\n",
              "      <td>198</td>\n",
              "      <td>1</td>\n",
              "      <td>-1</td>\n",
              "      <td>0</td>\n",
              "      <td>no</td>\n",
              "    </tr>\n",
              "    <tr>\n",
              "      <th>...</th>\n",
              "      <td>...</td>\n",
              "      <td>...</td>\n",
              "      <td>...</td>\n",
              "      <td>...</td>\n",
              "      <td>...</td>\n",
              "      <td>...</td>\n",
              "      <td>...</td>\n",
              "      <td>...</td>\n",
              "      <td>...</td>\n",
              "      <td>...</td>\n",
              "      <td>...</td>\n",
              "      <td>...</td>\n",
              "      <td>...</td>\n",
              "    </tr>\n",
              "    <tr>\n",
              "      <th>45206</th>\n",
              "      <td>51</td>\n",
              "      <td>technician</td>\n",
              "      <td>married</td>\n",
              "      <td>tertiary</td>\n",
              "      <td>no</td>\n",
              "      <td>825</td>\n",
              "      <td>no</td>\n",
              "      <td>no</td>\n",
              "      <td>977</td>\n",
              "      <td>3</td>\n",
              "      <td>-1</td>\n",
              "      <td>0</td>\n",
              "      <td>yes</td>\n",
              "    </tr>\n",
              "    <tr>\n",
              "      <th>45207</th>\n",
              "      <td>71</td>\n",
              "      <td>retired</td>\n",
              "      <td>divorced</td>\n",
              "      <td>primary</td>\n",
              "      <td>no</td>\n",
              "      <td>1729</td>\n",
              "      <td>no</td>\n",
              "      <td>no</td>\n",
              "      <td>456</td>\n",
              "      <td>2</td>\n",
              "      <td>-1</td>\n",
              "      <td>0</td>\n",
              "      <td>yes</td>\n",
              "    </tr>\n",
              "    <tr>\n",
              "      <th>45208</th>\n",
              "      <td>72</td>\n",
              "      <td>retired</td>\n",
              "      <td>married</td>\n",
              "      <td>secondary</td>\n",
              "      <td>no</td>\n",
              "      <td>5715</td>\n",
              "      <td>no</td>\n",
              "      <td>no</td>\n",
              "      <td>1127</td>\n",
              "      <td>5</td>\n",
              "      <td>184</td>\n",
              "      <td>3</td>\n",
              "      <td>yes</td>\n",
              "    </tr>\n",
              "    <tr>\n",
              "      <th>45209</th>\n",
              "      <td>57</td>\n",
              "      <td>blue-collar</td>\n",
              "      <td>married</td>\n",
              "      <td>secondary</td>\n",
              "      <td>no</td>\n",
              "      <td>668</td>\n",
              "      <td>no</td>\n",
              "      <td>no</td>\n",
              "      <td>508</td>\n",
              "      <td>4</td>\n",
              "      <td>-1</td>\n",
              "      <td>0</td>\n",
              "      <td>no</td>\n",
              "    </tr>\n",
              "    <tr>\n",
              "      <th>45210</th>\n",
              "      <td>37</td>\n",
              "      <td>entrepreneur</td>\n",
              "      <td>married</td>\n",
              "      <td>secondary</td>\n",
              "      <td>no</td>\n",
              "      <td>2971</td>\n",
              "      <td>no</td>\n",
              "      <td>no</td>\n",
              "      <td>361</td>\n",
              "      <td>2</td>\n",
              "      <td>188</td>\n",
              "      <td>11</td>\n",
              "      <td>no</td>\n",
              "    </tr>\n",
              "  </tbody>\n",
              "</table>\n",
              "<p>45211 rows × 13 columns</p>\n",
              "</div>"
            ],
            "text/plain": [
              "       age           job   marital  education  ... campaign  pdays previous    y\n",
              "0       58    management   married   tertiary  ...        1     -1        0   no\n",
              "1       44    technician    single  secondary  ...        1     -1        0   no\n",
              "2       33  entrepreneur   married  secondary  ...        1     -1        0   no\n",
              "3       47   blue-collar   married    unknown  ...        1     -1        0   no\n",
              "4       33       unknown    single    unknown  ...        1     -1        0   no\n",
              "...    ...           ...       ...        ...  ...      ...    ...      ...  ...\n",
              "45206   51    technician   married   tertiary  ...        3     -1        0  yes\n",
              "45207   71       retired  divorced    primary  ...        2     -1        0  yes\n",
              "45208   72       retired   married  secondary  ...        5    184        3  yes\n",
              "45209   57   blue-collar   married  secondary  ...        4     -1        0   no\n",
              "45210   37  entrepreneur   married  secondary  ...        2    188       11   no\n",
              "\n",
              "[45211 rows x 13 columns]"
            ]
          },
          "metadata": {
            "tags": []
          },
          "execution_count": 57
        }
      ]
    },
    {
      "cell_type": "code",
      "metadata": {
        "id": "1PeHDptF00dF",
        "colab_type": "code",
        "outputId": "0d9ef056-5330-405f-b015-b0bcf426609d",
        "colab": {
          "base_uri": "https://localhost:8080/",
          "height": 402
        }
      },
      "source": [
        "#Replacing all the binary variables to 0 and 1\n",
        "df1.y.replace(('yes', 'no'), (1, 0), inplace=True)\n",
        "df1.default.replace(('yes', 'no'), (1, 0), inplace=True)\n",
        "df1.housing.replace(('yes', 'no'), (1, 0), inplace=True)\n",
        "df1.loan.replace(('yes', 'no'), (1, 0), inplace=True)\n",
        "df1"
      ],
      "execution_count": 0,
      "outputs": [
        {
          "output_type": "execute_result",
          "data": {
            "text/html": [
              "<div>\n",
              "<style scoped>\n",
              "    .dataframe tbody tr th:only-of-type {\n",
              "        vertical-align: middle;\n",
              "    }\n",
              "\n",
              "    .dataframe tbody tr th {\n",
              "        vertical-align: top;\n",
              "    }\n",
              "\n",
              "    .dataframe thead th {\n",
              "        text-align: right;\n",
              "    }\n",
              "</style>\n",
              "<table border=\"1\" class=\"dataframe\">\n",
              "  <thead>\n",
              "    <tr style=\"text-align: right;\">\n",
              "      <th></th>\n",
              "      <th>age</th>\n",
              "      <th>job</th>\n",
              "      <th>marital</th>\n",
              "      <th>education</th>\n",
              "      <th>default</th>\n",
              "      <th>balance</th>\n",
              "      <th>housing</th>\n",
              "      <th>loan</th>\n",
              "      <th>duration</th>\n",
              "      <th>campaign</th>\n",
              "      <th>pdays</th>\n",
              "      <th>previous</th>\n",
              "      <th>y</th>\n",
              "    </tr>\n",
              "  </thead>\n",
              "  <tbody>\n",
              "    <tr>\n",
              "      <th>0</th>\n",
              "      <td>58</td>\n",
              "      <td>management</td>\n",
              "      <td>married</td>\n",
              "      <td>tertiary</td>\n",
              "      <td>0</td>\n",
              "      <td>2143</td>\n",
              "      <td>1</td>\n",
              "      <td>0</td>\n",
              "      <td>261</td>\n",
              "      <td>1</td>\n",
              "      <td>-1</td>\n",
              "      <td>0</td>\n",
              "      <td>0</td>\n",
              "    </tr>\n",
              "    <tr>\n",
              "      <th>1</th>\n",
              "      <td>44</td>\n",
              "      <td>technician</td>\n",
              "      <td>single</td>\n",
              "      <td>secondary</td>\n",
              "      <td>0</td>\n",
              "      <td>29</td>\n",
              "      <td>1</td>\n",
              "      <td>0</td>\n",
              "      <td>151</td>\n",
              "      <td>1</td>\n",
              "      <td>-1</td>\n",
              "      <td>0</td>\n",
              "      <td>0</td>\n",
              "    </tr>\n",
              "    <tr>\n",
              "      <th>2</th>\n",
              "      <td>33</td>\n",
              "      <td>entrepreneur</td>\n",
              "      <td>married</td>\n",
              "      <td>secondary</td>\n",
              "      <td>0</td>\n",
              "      <td>2</td>\n",
              "      <td>1</td>\n",
              "      <td>1</td>\n",
              "      <td>76</td>\n",
              "      <td>1</td>\n",
              "      <td>-1</td>\n",
              "      <td>0</td>\n",
              "      <td>0</td>\n",
              "    </tr>\n",
              "    <tr>\n",
              "      <th>3</th>\n",
              "      <td>47</td>\n",
              "      <td>blue-collar</td>\n",
              "      <td>married</td>\n",
              "      <td>unknown</td>\n",
              "      <td>0</td>\n",
              "      <td>1506</td>\n",
              "      <td>1</td>\n",
              "      <td>0</td>\n",
              "      <td>92</td>\n",
              "      <td>1</td>\n",
              "      <td>-1</td>\n",
              "      <td>0</td>\n",
              "      <td>0</td>\n",
              "    </tr>\n",
              "    <tr>\n",
              "      <th>4</th>\n",
              "      <td>33</td>\n",
              "      <td>unknown</td>\n",
              "      <td>single</td>\n",
              "      <td>unknown</td>\n",
              "      <td>0</td>\n",
              "      <td>1</td>\n",
              "      <td>0</td>\n",
              "      <td>0</td>\n",
              "      <td>198</td>\n",
              "      <td>1</td>\n",
              "      <td>-1</td>\n",
              "      <td>0</td>\n",
              "      <td>0</td>\n",
              "    </tr>\n",
              "    <tr>\n",
              "      <th>...</th>\n",
              "      <td>...</td>\n",
              "      <td>...</td>\n",
              "      <td>...</td>\n",
              "      <td>...</td>\n",
              "      <td>...</td>\n",
              "      <td>...</td>\n",
              "      <td>...</td>\n",
              "      <td>...</td>\n",
              "      <td>...</td>\n",
              "      <td>...</td>\n",
              "      <td>...</td>\n",
              "      <td>...</td>\n",
              "      <td>...</td>\n",
              "    </tr>\n",
              "    <tr>\n",
              "      <th>45206</th>\n",
              "      <td>51</td>\n",
              "      <td>technician</td>\n",
              "      <td>married</td>\n",
              "      <td>tertiary</td>\n",
              "      <td>0</td>\n",
              "      <td>825</td>\n",
              "      <td>0</td>\n",
              "      <td>0</td>\n",
              "      <td>977</td>\n",
              "      <td>3</td>\n",
              "      <td>-1</td>\n",
              "      <td>0</td>\n",
              "      <td>1</td>\n",
              "    </tr>\n",
              "    <tr>\n",
              "      <th>45207</th>\n",
              "      <td>71</td>\n",
              "      <td>retired</td>\n",
              "      <td>divorced</td>\n",
              "      <td>primary</td>\n",
              "      <td>0</td>\n",
              "      <td>1729</td>\n",
              "      <td>0</td>\n",
              "      <td>0</td>\n",
              "      <td>456</td>\n",
              "      <td>2</td>\n",
              "      <td>-1</td>\n",
              "      <td>0</td>\n",
              "      <td>1</td>\n",
              "    </tr>\n",
              "    <tr>\n",
              "      <th>45208</th>\n",
              "      <td>72</td>\n",
              "      <td>retired</td>\n",
              "      <td>married</td>\n",
              "      <td>secondary</td>\n",
              "      <td>0</td>\n",
              "      <td>5715</td>\n",
              "      <td>0</td>\n",
              "      <td>0</td>\n",
              "      <td>1127</td>\n",
              "      <td>5</td>\n",
              "      <td>184</td>\n",
              "      <td>3</td>\n",
              "      <td>1</td>\n",
              "    </tr>\n",
              "    <tr>\n",
              "      <th>45209</th>\n",
              "      <td>57</td>\n",
              "      <td>blue-collar</td>\n",
              "      <td>married</td>\n",
              "      <td>secondary</td>\n",
              "      <td>0</td>\n",
              "      <td>668</td>\n",
              "      <td>0</td>\n",
              "      <td>0</td>\n",
              "      <td>508</td>\n",
              "      <td>4</td>\n",
              "      <td>-1</td>\n",
              "      <td>0</td>\n",
              "      <td>0</td>\n",
              "    </tr>\n",
              "    <tr>\n",
              "      <th>45210</th>\n",
              "      <td>37</td>\n",
              "      <td>entrepreneur</td>\n",
              "      <td>married</td>\n",
              "      <td>secondary</td>\n",
              "      <td>0</td>\n",
              "      <td>2971</td>\n",
              "      <td>0</td>\n",
              "      <td>0</td>\n",
              "      <td>361</td>\n",
              "      <td>2</td>\n",
              "      <td>188</td>\n",
              "      <td>11</td>\n",
              "      <td>0</td>\n",
              "    </tr>\n",
              "  </tbody>\n",
              "</table>\n",
              "<p>45211 rows × 13 columns</p>\n",
              "</div>"
            ],
            "text/plain": [
              "       age           job   marital  education  ...  campaign  pdays  previous  y\n",
              "0       58    management   married   tertiary  ...         1     -1         0  0\n",
              "1       44    technician    single  secondary  ...         1     -1         0  0\n",
              "2       33  entrepreneur   married  secondary  ...         1     -1         0  0\n",
              "3       47   blue-collar   married    unknown  ...         1     -1         0  0\n",
              "4       33       unknown    single    unknown  ...         1     -1         0  0\n",
              "...    ...           ...       ...        ...  ...       ...    ...       ... ..\n",
              "45206   51    technician   married   tertiary  ...         3     -1         0  1\n",
              "45207   71       retired  divorced    primary  ...         2     -1         0  1\n",
              "45208   72       retired   married  secondary  ...         5    184         3  1\n",
              "45209   57   blue-collar   married  secondary  ...         4     -1         0  0\n",
              "45210   37  entrepreneur   married  secondary  ...         2    188        11  0\n",
              "\n",
              "[45211 rows x 13 columns]"
            ]
          },
          "metadata": {
            "tags": []
          },
          "execution_count": 58
        }
      ]
    },
    {
      "cell_type": "code",
      "metadata": {
        "id": "T5cvJJ6W02WX",
        "colab_type": "code",
        "outputId": "2e35a600-f9cf-4549-d8f4-7a72b7f27134",
        "colab": {
          "base_uri": "https://localhost:8080/",
          "height": 232
        }
      },
      "source": [
        "#creating Dummies for categorical variables\n",
        "df2 = pd.get_dummies(df1)\n",
        "df2.head()"
      ],
      "execution_count": 0,
      "outputs": [
        {
          "output_type": "execute_result",
          "data": {
            "text/html": [
              "<div>\n",
              "<style scoped>\n",
              "    .dataframe tbody tr th:only-of-type {\n",
              "        vertical-align: middle;\n",
              "    }\n",
              "\n",
              "    .dataframe tbody tr th {\n",
              "        vertical-align: top;\n",
              "    }\n",
              "\n",
              "    .dataframe thead th {\n",
              "        text-align: right;\n",
              "    }\n",
              "</style>\n",
              "<table border=\"1\" class=\"dataframe\">\n",
              "  <thead>\n",
              "    <tr style=\"text-align: right;\">\n",
              "      <th></th>\n",
              "      <th>age</th>\n",
              "      <th>default</th>\n",
              "      <th>balance</th>\n",
              "      <th>housing</th>\n",
              "      <th>loan</th>\n",
              "      <th>duration</th>\n",
              "      <th>campaign</th>\n",
              "      <th>pdays</th>\n",
              "      <th>previous</th>\n",
              "      <th>y</th>\n",
              "      <th>job_admin.</th>\n",
              "      <th>job_blue-collar</th>\n",
              "      <th>job_entrepreneur</th>\n",
              "      <th>job_housemaid</th>\n",
              "      <th>job_management</th>\n",
              "      <th>job_retired</th>\n",
              "      <th>job_self-employed</th>\n",
              "      <th>job_services</th>\n",
              "      <th>job_student</th>\n",
              "      <th>job_technician</th>\n",
              "      <th>job_unemployed</th>\n",
              "      <th>job_unknown</th>\n",
              "      <th>marital_divorced</th>\n",
              "      <th>marital_married</th>\n",
              "      <th>marital_single</th>\n",
              "      <th>education_primary</th>\n",
              "      <th>education_secondary</th>\n",
              "      <th>education_tertiary</th>\n",
              "      <th>education_unknown</th>\n",
              "    </tr>\n",
              "  </thead>\n",
              "  <tbody>\n",
              "    <tr>\n",
              "      <th>0</th>\n",
              "      <td>58</td>\n",
              "      <td>0</td>\n",
              "      <td>2143</td>\n",
              "      <td>1</td>\n",
              "      <td>0</td>\n",
              "      <td>261</td>\n",
              "      <td>1</td>\n",
              "      <td>-1</td>\n",
              "      <td>0</td>\n",
              "      <td>0</td>\n",
              "      <td>0</td>\n",
              "      <td>0</td>\n",
              "      <td>0</td>\n",
              "      <td>0</td>\n",
              "      <td>1</td>\n",
              "      <td>0</td>\n",
              "      <td>0</td>\n",
              "      <td>0</td>\n",
              "      <td>0</td>\n",
              "      <td>0</td>\n",
              "      <td>0</td>\n",
              "      <td>0</td>\n",
              "      <td>0</td>\n",
              "      <td>1</td>\n",
              "      <td>0</td>\n",
              "      <td>0</td>\n",
              "      <td>0</td>\n",
              "      <td>1</td>\n",
              "      <td>0</td>\n",
              "    </tr>\n",
              "    <tr>\n",
              "      <th>1</th>\n",
              "      <td>44</td>\n",
              "      <td>0</td>\n",
              "      <td>29</td>\n",
              "      <td>1</td>\n",
              "      <td>0</td>\n",
              "      <td>151</td>\n",
              "      <td>1</td>\n",
              "      <td>-1</td>\n",
              "      <td>0</td>\n",
              "      <td>0</td>\n",
              "      <td>0</td>\n",
              "      <td>0</td>\n",
              "      <td>0</td>\n",
              "      <td>0</td>\n",
              "      <td>0</td>\n",
              "      <td>0</td>\n",
              "      <td>0</td>\n",
              "      <td>0</td>\n",
              "      <td>0</td>\n",
              "      <td>1</td>\n",
              "      <td>0</td>\n",
              "      <td>0</td>\n",
              "      <td>0</td>\n",
              "      <td>0</td>\n",
              "      <td>1</td>\n",
              "      <td>0</td>\n",
              "      <td>1</td>\n",
              "      <td>0</td>\n",
              "      <td>0</td>\n",
              "    </tr>\n",
              "    <tr>\n",
              "      <th>2</th>\n",
              "      <td>33</td>\n",
              "      <td>0</td>\n",
              "      <td>2</td>\n",
              "      <td>1</td>\n",
              "      <td>1</td>\n",
              "      <td>76</td>\n",
              "      <td>1</td>\n",
              "      <td>-1</td>\n",
              "      <td>0</td>\n",
              "      <td>0</td>\n",
              "      <td>0</td>\n",
              "      <td>0</td>\n",
              "      <td>1</td>\n",
              "      <td>0</td>\n",
              "      <td>0</td>\n",
              "      <td>0</td>\n",
              "      <td>0</td>\n",
              "      <td>0</td>\n",
              "      <td>0</td>\n",
              "      <td>0</td>\n",
              "      <td>0</td>\n",
              "      <td>0</td>\n",
              "      <td>0</td>\n",
              "      <td>1</td>\n",
              "      <td>0</td>\n",
              "      <td>0</td>\n",
              "      <td>1</td>\n",
              "      <td>0</td>\n",
              "      <td>0</td>\n",
              "    </tr>\n",
              "    <tr>\n",
              "      <th>3</th>\n",
              "      <td>47</td>\n",
              "      <td>0</td>\n",
              "      <td>1506</td>\n",
              "      <td>1</td>\n",
              "      <td>0</td>\n",
              "      <td>92</td>\n",
              "      <td>1</td>\n",
              "      <td>-1</td>\n",
              "      <td>0</td>\n",
              "      <td>0</td>\n",
              "      <td>0</td>\n",
              "      <td>1</td>\n",
              "      <td>0</td>\n",
              "      <td>0</td>\n",
              "      <td>0</td>\n",
              "      <td>0</td>\n",
              "      <td>0</td>\n",
              "      <td>0</td>\n",
              "      <td>0</td>\n",
              "      <td>0</td>\n",
              "      <td>0</td>\n",
              "      <td>0</td>\n",
              "      <td>0</td>\n",
              "      <td>1</td>\n",
              "      <td>0</td>\n",
              "      <td>0</td>\n",
              "      <td>0</td>\n",
              "      <td>0</td>\n",
              "      <td>1</td>\n",
              "    </tr>\n",
              "    <tr>\n",
              "      <th>4</th>\n",
              "      <td>33</td>\n",
              "      <td>0</td>\n",
              "      <td>1</td>\n",
              "      <td>0</td>\n",
              "      <td>0</td>\n",
              "      <td>198</td>\n",
              "      <td>1</td>\n",
              "      <td>-1</td>\n",
              "      <td>0</td>\n",
              "      <td>0</td>\n",
              "      <td>0</td>\n",
              "      <td>0</td>\n",
              "      <td>0</td>\n",
              "      <td>0</td>\n",
              "      <td>0</td>\n",
              "      <td>0</td>\n",
              "      <td>0</td>\n",
              "      <td>0</td>\n",
              "      <td>0</td>\n",
              "      <td>0</td>\n",
              "      <td>0</td>\n",
              "      <td>1</td>\n",
              "      <td>0</td>\n",
              "      <td>0</td>\n",
              "      <td>1</td>\n",
              "      <td>0</td>\n",
              "      <td>0</td>\n",
              "      <td>0</td>\n",
              "      <td>1</td>\n",
              "    </tr>\n",
              "  </tbody>\n",
              "</table>\n",
              "</div>"
            ],
            "text/plain": [
              "   age  default  ...  education_tertiary  education_unknown\n",
              "0   58        0  ...                   1                  0\n",
              "1   44        0  ...                   0                  0\n",
              "2   33        0  ...                   0                  0\n",
              "3   47        0  ...                   0                  1\n",
              "4   33        0  ...                   0                  1\n",
              "\n",
              "[5 rows x 29 columns]"
            ]
          },
          "metadata": {
            "tags": []
          },
          "execution_count": 59
        }
      ]
    },
    {
      "cell_type": "code",
      "metadata": {
        "id": "rX5Ag9qwi41Q",
        "colab_type": "code",
        "outputId": "4f130173-d80c-4c29-8535-20c3fc53ed6d",
        "colab": {
          "base_uri": "https://localhost:8080/",
          "height": 817
        }
      },
      "source": [
        "#Removing extra dummy variables & checking descriptive stats\n",
        "df3=df2.drop(columns=['job_unknown','marital_divorced','education_unknown'],axis=1)\n",
        "df3.describe().T"
      ],
      "execution_count": 0,
      "outputs": [
        {
          "output_type": "execute_result",
          "data": {
            "text/html": [
              "<div>\n",
              "<style scoped>\n",
              "    .dataframe tbody tr th:only-of-type {\n",
              "        vertical-align: middle;\n",
              "    }\n",
              "\n",
              "    .dataframe tbody tr th {\n",
              "        vertical-align: top;\n",
              "    }\n",
              "\n",
              "    .dataframe thead th {\n",
              "        text-align: right;\n",
              "    }\n",
              "</style>\n",
              "<table border=\"1\" class=\"dataframe\">\n",
              "  <thead>\n",
              "    <tr style=\"text-align: right;\">\n",
              "      <th></th>\n",
              "      <th>count</th>\n",
              "      <th>mean</th>\n",
              "      <th>std</th>\n",
              "      <th>min</th>\n",
              "      <th>25%</th>\n",
              "      <th>50%</th>\n",
              "      <th>75%</th>\n",
              "      <th>max</th>\n",
              "    </tr>\n",
              "  </thead>\n",
              "  <tbody>\n",
              "    <tr>\n",
              "      <th>age</th>\n",
              "      <td>45211.0</td>\n",
              "      <td>40.936210</td>\n",
              "      <td>10.618762</td>\n",
              "      <td>18.0</td>\n",
              "      <td>33.0</td>\n",
              "      <td>39.0</td>\n",
              "      <td>48.0</td>\n",
              "      <td>95.0</td>\n",
              "    </tr>\n",
              "    <tr>\n",
              "      <th>default</th>\n",
              "      <td>45211.0</td>\n",
              "      <td>0.018027</td>\n",
              "      <td>0.133049</td>\n",
              "      <td>0.0</td>\n",
              "      <td>0.0</td>\n",
              "      <td>0.0</td>\n",
              "      <td>0.0</td>\n",
              "      <td>1.0</td>\n",
              "    </tr>\n",
              "    <tr>\n",
              "      <th>balance</th>\n",
              "      <td>45211.0</td>\n",
              "      <td>1362.272058</td>\n",
              "      <td>3044.765829</td>\n",
              "      <td>-8019.0</td>\n",
              "      <td>72.0</td>\n",
              "      <td>448.0</td>\n",
              "      <td>1428.0</td>\n",
              "      <td>102127.0</td>\n",
              "    </tr>\n",
              "    <tr>\n",
              "      <th>housing</th>\n",
              "      <td>45211.0</td>\n",
              "      <td>0.555838</td>\n",
              "      <td>0.496878</td>\n",
              "      <td>0.0</td>\n",
              "      <td>0.0</td>\n",
              "      <td>1.0</td>\n",
              "      <td>1.0</td>\n",
              "      <td>1.0</td>\n",
              "    </tr>\n",
              "    <tr>\n",
              "      <th>loan</th>\n",
              "      <td>45211.0</td>\n",
              "      <td>0.160226</td>\n",
              "      <td>0.366820</td>\n",
              "      <td>0.0</td>\n",
              "      <td>0.0</td>\n",
              "      <td>0.0</td>\n",
              "      <td>0.0</td>\n",
              "      <td>1.0</td>\n",
              "    </tr>\n",
              "    <tr>\n",
              "      <th>duration</th>\n",
              "      <td>45211.0</td>\n",
              "      <td>258.163080</td>\n",
              "      <td>257.527812</td>\n",
              "      <td>0.0</td>\n",
              "      <td>103.0</td>\n",
              "      <td>180.0</td>\n",
              "      <td>319.0</td>\n",
              "      <td>4918.0</td>\n",
              "    </tr>\n",
              "    <tr>\n",
              "      <th>campaign</th>\n",
              "      <td>45211.0</td>\n",
              "      <td>2.763841</td>\n",
              "      <td>3.098021</td>\n",
              "      <td>1.0</td>\n",
              "      <td>1.0</td>\n",
              "      <td>2.0</td>\n",
              "      <td>3.0</td>\n",
              "      <td>63.0</td>\n",
              "    </tr>\n",
              "    <tr>\n",
              "      <th>pdays</th>\n",
              "      <td>45211.0</td>\n",
              "      <td>40.197828</td>\n",
              "      <td>100.128746</td>\n",
              "      <td>-1.0</td>\n",
              "      <td>-1.0</td>\n",
              "      <td>-1.0</td>\n",
              "      <td>-1.0</td>\n",
              "      <td>871.0</td>\n",
              "    </tr>\n",
              "    <tr>\n",
              "      <th>previous</th>\n",
              "      <td>45211.0</td>\n",
              "      <td>0.580323</td>\n",
              "      <td>2.303441</td>\n",
              "      <td>0.0</td>\n",
              "      <td>0.0</td>\n",
              "      <td>0.0</td>\n",
              "      <td>0.0</td>\n",
              "      <td>275.0</td>\n",
              "    </tr>\n",
              "    <tr>\n",
              "      <th>y</th>\n",
              "      <td>45211.0</td>\n",
              "      <td>0.116985</td>\n",
              "      <td>0.321406</td>\n",
              "      <td>0.0</td>\n",
              "      <td>0.0</td>\n",
              "      <td>0.0</td>\n",
              "      <td>0.0</td>\n",
              "      <td>1.0</td>\n",
              "    </tr>\n",
              "    <tr>\n",
              "      <th>job_admin.</th>\n",
              "      <td>45211.0</td>\n",
              "      <td>0.114375</td>\n",
              "      <td>0.318269</td>\n",
              "      <td>0.0</td>\n",
              "      <td>0.0</td>\n",
              "      <td>0.0</td>\n",
              "      <td>0.0</td>\n",
              "      <td>1.0</td>\n",
              "    </tr>\n",
              "    <tr>\n",
              "      <th>job_blue-collar</th>\n",
              "      <td>45211.0</td>\n",
              "      <td>0.215257</td>\n",
              "      <td>0.411005</td>\n",
              "      <td>0.0</td>\n",
              "      <td>0.0</td>\n",
              "      <td>0.0</td>\n",
              "      <td>0.0</td>\n",
              "      <td>1.0</td>\n",
              "    </tr>\n",
              "    <tr>\n",
              "      <th>job_entrepreneur</th>\n",
              "      <td>45211.0</td>\n",
              "      <td>0.032890</td>\n",
              "      <td>0.178351</td>\n",
              "      <td>0.0</td>\n",
              "      <td>0.0</td>\n",
              "      <td>0.0</td>\n",
              "      <td>0.0</td>\n",
              "      <td>1.0</td>\n",
              "    </tr>\n",
              "    <tr>\n",
              "      <th>job_housemaid</th>\n",
              "      <td>45211.0</td>\n",
              "      <td>0.027427</td>\n",
              "      <td>0.163326</td>\n",
              "      <td>0.0</td>\n",
              "      <td>0.0</td>\n",
              "      <td>0.0</td>\n",
              "      <td>0.0</td>\n",
              "      <td>1.0</td>\n",
              "    </tr>\n",
              "    <tr>\n",
              "      <th>job_management</th>\n",
              "      <td>45211.0</td>\n",
              "      <td>0.209197</td>\n",
              "      <td>0.406740</td>\n",
              "      <td>0.0</td>\n",
              "      <td>0.0</td>\n",
              "      <td>0.0</td>\n",
              "      <td>0.0</td>\n",
              "      <td>1.0</td>\n",
              "    </tr>\n",
              "    <tr>\n",
              "      <th>job_retired</th>\n",
              "      <td>45211.0</td>\n",
              "      <td>0.050076</td>\n",
              "      <td>0.218105</td>\n",
              "      <td>0.0</td>\n",
              "      <td>0.0</td>\n",
              "      <td>0.0</td>\n",
              "      <td>0.0</td>\n",
              "      <td>1.0</td>\n",
              "    </tr>\n",
              "    <tr>\n",
              "      <th>job_self-employed</th>\n",
              "      <td>45211.0</td>\n",
              "      <td>0.034925</td>\n",
              "      <td>0.183592</td>\n",
              "      <td>0.0</td>\n",
              "      <td>0.0</td>\n",
              "      <td>0.0</td>\n",
              "      <td>0.0</td>\n",
              "      <td>1.0</td>\n",
              "    </tr>\n",
              "    <tr>\n",
              "      <th>job_services</th>\n",
              "      <td>45211.0</td>\n",
              "      <td>0.091880</td>\n",
              "      <td>0.288860</td>\n",
              "      <td>0.0</td>\n",
              "      <td>0.0</td>\n",
              "      <td>0.0</td>\n",
              "      <td>0.0</td>\n",
              "      <td>1.0</td>\n",
              "    </tr>\n",
              "    <tr>\n",
              "      <th>job_student</th>\n",
              "      <td>45211.0</td>\n",
              "      <td>0.020747</td>\n",
              "      <td>0.142538</td>\n",
              "      <td>0.0</td>\n",
              "      <td>0.0</td>\n",
              "      <td>0.0</td>\n",
              "      <td>0.0</td>\n",
              "      <td>1.0</td>\n",
              "    </tr>\n",
              "    <tr>\n",
              "      <th>job_technician</th>\n",
              "      <td>45211.0</td>\n",
              "      <td>0.168034</td>\n",
              "      <td>0.373901</td>\n",
              "      <td>0.0</td>\n",
              "      <td>0.0</td>\n",
              "      <td>0.0</td>\n",
              "      <td>0.0</td>\n",
              "      <td>1.0</td>\n",
              "    </tr>\n",
              "    <tr>\n",
              "      <th>job_unemployed</th>\n",
              "      <td>45211.0</td>\n",
              "      <td>0.028820</td>\n",
              "      <td>0.167303</td>\n",
              "      <td>0.0</td>\n",
              "      <td>0.0</td>\n",
              "      <td>0.0</td>\n",
              "      <td>0.0</td>\n",
              "      <td>1.0</td>\n",
              "    </tr>\n",
              "    <tr>\n",
              "      <th>marital_married</th>\n",
              "      <td>45211.0</td>\n",
              "      <td>0.601933</td>\n",
              "      <td>0.489505</td>\n",
              "      <td>0.0</td>\n",
              "      <td>0.0</td>\n",
              "      <td>1.0</td>\n",
              "      <td>1.0</td>\n",
              "      <td>1.0</td>\n",
              "    </tr>\n",
              "    <tr>\n",
              "      <th>marital_single</th>\n",
              "      <td>45211.0</td>\n",
              "      <td>0.282896</td>\n",
              "      <td>0.450411</td>\n",
              "      <td>0.0</td>\n",
              "      <td>0.0</td>\n",
              "      <td>0.0</td>\n",
              "      <td>1.0</td>\n",
              "      <td>1.0</td>\n",
              "    </tr>\n",
              "    <tr>\n",
              "      <th>education_primary</th>\n",
              "      <td>45211.0</td>\n",
              "      <td>0.151534</td>\n",
              "      <td>0.358572</td>\n",
              "      <td>0.0</td>\n",
              "      <td>0.0</td>\n",
              "      <td>0.0</td>\n",
              "      <td>0.0</td>\n",
              "      <td>1.0</td>\n",
              "    </tr>\n",
              "    <tr>\n",
              "      <th>education_secondary</th>\n",
              "      <td>45211.0</td>\n",
              "      <td>0.513194</td>\n",
              "      <td>0.499831</td>\n",
              "      <td>0.0</td>\n",
              "      <td>0.0</td>\n",
              "      <td>1.0</td>\n",
              "      <td>1.0</td>\n",
              "      <td>1.0</td>\n",
              "    </tr>\n",
              "    <tr>\n",
              "      <th>education_tertiary</th>\n",
              "      <td>45211.0</td>\n",
              "      <td>0.294198</td>\n",
              "      <td>0.455687</td>\n",
              "      <td>0.0</td>\n",
              "      <td>0.0</td>\n",
              "      <td>0.0</td>\n",
              "      <td>1.0</td>\n",
              "      <td>1.0</td>\n",
              "    </tr>\n",
              "  </tbody>\n",
              "</table>\n",
              "</div>"
            ],
            "text/plain": [
              "                       count         mean          std  ...    50%     75%       max\n",
              "age                  45211.0    40.936210    10.618762  ...   39.0    48.0      95.0\n",
              "default              45211.0     0.018027     0.133049  ...    0.0     0.0       1.0\n",
              "balance              45211.0  1362.272058  3044.765829  ...  448.0  1428.0  102127.0\n",
              "housing              45211.0     0.555838     0.496878  ...    1.0     1.0       1.0\n",
              "loan                 45211.0     0.160226     0.366820  ...    0.0     0.0       1.0\n",
              "duration             45211.0   258.163080   257.527812  ...  180.0   319.0    4918.0\n",
              "campaign             45211.0     2.763841     3.098021  ...    2.0     3.0      63.0\n",
              "pdays                45211.0    40.197828   100.128746  ...   -1.0    -1.0     871.0\n",
              "previous             45211.0     0.580323     2.303441  ...    0.0     0.0     275.0\n",
              "y                    45211.0     0.116985     0.321406  ...    0.0     0.0       1.0\n",
              "job_admin.           45211.0     0.114375     0.318269  ...    0.0     0.0       1.0\n",
              "job_blue-collar      45211.0     0.215257     0.411005  ...    0.0     0.0       1.0\n",
              "job_entrepreneur     45211.0     0.032890     0.178351  ...    0.0     0.0       1.0\n",
              "job_housemaid        45211.0     0.027427     0.163326  ...    0.0     0.0       1.0\n",
              "job_management       45211.0     0.209197     0.406740  ...    0.0     0.0       1.0\n",
              "job_retired          45211.0     0.050076     0.218105  ...    0.0     0.0       1.0\n",
              "job_self-employed    45211.0     0.034925     0.183592  ...    0.0     0.0       1.0\n",
              "job_services         45211.0     0.091880     0.288860  ...    0.0     0.0       1.0\n",
              "job_student          45211.0     0.020747     0.142538  ...    0.0     0.0       1.0\n",
              "job_technician       45211.0     0.168034     0.373901  ...    0.0     0.0       1.0\n",
              "job_unemployed       45211.0     0.028820     0.167303  ...    0.0     0.0       1.0\n",
              "marital_married      45211.0     0.601933     0.489505  ...    1.0     1.0       1.0\n",
              "marital_single       45211.0     0.282896     0.450411  ...    0.0     1.0       1.0\n",
              "education_primary    45211.0     0.151534     0.358572  ...    0.0     0.0       1.0\n",
              "education_secondary  45211.0     0.513194     0.499831  ...    1.0     1.0       1.0\n",
              "education_tertiary   45211.0     0.294198     0.455687  ...    0.0     1.0       1.0\n",
              "\n",
              "[26 rows x 8 columns]"
            ]
          },
          "metadata": {
            "tags": []
          },
          "execution_count": 60
        }
      ]
    },
    {
      "cell_type": "code",
      "metadata": {
        "id": "bdNWm8k504VI",
        "colab_type": "code",
        "outputId": "d657f56f-664a-4f0a-8617-84ce5f4cfcb2",
        "colab": {
          "base_uri": "https://localhost:8080/",
          "height": 596
        }
      },
      "source": [
        "#Correlation plot\n",
        "plt.figure(figsize=(14,8))\n",
        "df3.corr()['y'].sort_values(ascending = False).plot(kind='bar')"
      ],
      "execution_count": 0,
      "outputs": [
        {
          "output_type": "execute_result",
          "data": {
            "text/plain": [
              "<matplotlib.axes._subplots.AxesSubplot at 0x7f9ae385bd68>"
            ]
          },
          "metadata": {
            "tags": []
          },
          "execution_count": 61
        },
        {
          "output_type": "display_data",
          "data": {
            "image/png": "[encoded data removed]",
            "text/plain": [
              "<Figure size 1008x576 with 1 Axes>"
            ]
          },
          "metadata": {
            "tags": [],
            "needs_background": "light"
          }
        }
      ]
    },
    {
      "cell_type": "code",
      "metadata": {
        "id": "hLDgATXIjRR9",
        "colab_type": "code",
        "colab": {}
      },
      "source": [
        "#Creating binary classification target variable\n",
        "df_target=df3[['y']].values\n",
        "df_features=df3.drop(columns=['y'],axis=1).values\n",
        "df_target1=df3[['y']]\n",
        "df_features1=df3.drop(columns=['y'],axis=1)"
      ],
      "execution_count": 0,
      "outputs": []
    },
    {
      "cell_type": "markdown",
      "metadata": {
        "id": "guJzhm2vVyLS",
        "colab_type": "text"
      },
      "source": [
        "##Feature Selection"
      ]
    },
    {
      "cell_type": "code",
      "metadata": {
        "id": "yvyVGDmjV1_T",
        "colab_type": "code",
        "outputId": "9f3d9906-c9ed-4ac8-b1e0-8d17edfbf3ea",
        "colab": {
          "base_uri": "https://localhost:8080/",
          "height": 1000
        }
      },
      "source": [
        "##Feature Selection\n",
        "from mlxtend.feature_selection import SequentialFeatureSelector\n",
        "from sklearn.ensemble import RandomForestRegressor, RandomForestClassifier  \n",
        "feature_selector = SequentialFeatureSelector(RandomForestClassifier(n_jobs=-1),  \n",
        "           k_features=12,\n",
        "           forward=True,\n",
        "           verbose=2,\n",
        "           scoring='roc_auc',\n",
        "           cv=2)\n",
        "features = feature_selector.fit(df_features1,df_target1)\n",
        "filtered_features= df_features1.columns[list(features.k_feature_idx_)] \n",
        "filtered_features"
      ],
      "execution_count": 0,
      "outputs": [
        {
          "output_type": "stream",
          "text": [
            "[Parallel(n_jobs=1)]: Using backend SequentialBackend with 1 concurrent workers.\n",
            "/usr/local/lib/python3.6/dist-packages/sklearn/model_selection/_validation.py:515: DataConversionWarning: A column-vector y was passed when a 1d array was expected. Please change the shape of y to (n_samples,), for example using ravel().\n",
            "  estimator.fit(X_train, y_train, **fit_params)\n",
            "/usr/local/lib/python3.6/dist-packages/sklearn/model_selection/_validation.py:515: DataConversionWarning: A column-vector y was passed when a 1d array was expected. Please change the shape of y to (n_samples,), for example using ravel().\n",
            "  estimator.fit(X_train, y_train, **fit_params)\n",
            "[Parallel(n_jobs=1)]: Done   1 out of   1 | elapsed:    1.0s remaining:    0.0s\n",
            "/usr/local/lib/python3.6/dist-packages/sklearn/model_selection/_validation.py:515: DataConversionWarning: A column-vector y was passed when a 1d array was expected. Please change the shape of y to (n_samples,), for example using ravel().\n",
            "  estimator.fit(X_train, y_train, **fit_params)\n",
            "/usr/local/lib/python3.6/dist-packages/sklearn/model_selection/_validation.py:515: DataConversionWarning: A column-vector y was passed when a 1d array was expected. Please change the shape of y to (n_samples,), for example using ravel().\n",
            "  estimator.fit(X_train, y_train, **fit_params)\n",
            "/usr/local/lib/python3.6/dist-packages/sklearn/model_selection/_validation.py:515: DataConversionWarning: A column-vector y was passed when a 1d array was expected. Please change the shape of y to (n_samples,), for example using ravel().\n",
            "  estimator.fit(X_train, y_train, **fit_params)\n",
            "/usr/local/lib/python3.6/dist-packages/sklearn/model_selection/_validation.py:515: DataConversionWarning: A column-vector y was passed when a 1d array was expected. Please change the shape of y to (n_samples,), for example using ravel().\n",
            "  estimator.fit(X_train, y_train, **fit_params)\n",
            "/usr/local/lib/python3.6/dist-packages/sklearn/model_selection/_validation.py:515: DataConversionWarning: A column-vector y was passed when a 1d array was expected. Please change the shape of y to (n_samples,), for example using ravel().\n",
            "  estimator.fit(X_train, y_train, **fit_params)\n",
            "/usr/local/lib/python3.6/dist-packages/sklearn/model_selection/_validation.py:515: DataConversionWarning: A column-vector y was passed when a 1d array was expected. Please change the shape of y to (n_samples,), for example using ravel().\n",
            "  estimator.fit(X_train, y_train, **fit_params)\n",
            "/usr/local/lib/python3.6/dist-packages/sklearn/model_selection/_validation.py:515: DataConversionWarning: A column-vector y was passed when a 1d array was expected. Please change the shape of y to (n_samples,), for example using ravel().\n",
            "  estimator.fit(X_train, y_train, **fit_params)\n",
            "/usr/local/lib/python3.6/dist-packages/sklearn/model_selection/_validation.py:515: DataConversionWarning: A column-vector y was passed when a 1d array was expected. Please change the shape of y to (n_samples,), for example using ravel().\n",
            "  estimator.fit(X_train, y_train, **fit_params)\n",
            "/usr/local/lib/python3.6/dist-packages/sklearn/model_selection/_validation.py:515: DataConversionWarning: A column-vector y was passed when a 1d array was expected. Please change the shape of y to (n_samples,), for example using ravel().\n",
            "  estimator.fit(X_train, y_train, **fit_params)\n",
            "/usr/local/lib/python3.6/dist-packages/sklearn/model_selection/_validation.py:515: DataConversionWarning: A column-vector y was passed when a 1d array was expected. Please change the shape of y to (n_samples,), for example using ravel().\n",
            "  estimator.fit(X_train, y_train, **fit_params)\n",
            "/usr/local/lib/python3.6/dist-packages/sklearn/model_selection/_validation.py:515: DataConversionWarning: A column-vector y was passed when a 1d array was expected. Please change the shape of y to (n_samples,), for example using ravel().\n",
            "  estimator.fit(X_train, y_train, **fit_params)\n",
            "/usr/local/lib/python3.6/dist-packages/sklearn/model_selection/_validation.py:515: DataConversionWarning: A column-vector y was passed when a 1d array was expected. Please change the shape of y to (n_samples,), for example using ravel().\n",
            "  estimator.fit(X_train, y_train, **fit_params)\n",
            "/usr/local/lib/python3.6/dist-packages/sklearn/model_selection/_validation.py:515: DataConversionWarning: A column-vector y was passed when a 1d array was expected. Please change the shape of y to (n_samples,), for example using ravel().\n",
            "  estimator.fit(X_train, y_train, **fit_params)\n",
            "/usr/local/lib/python3.6/dist-packages/sklearn/model_selection/_validation.py:515: DataConversionWarning: A column-vector y was passed when a 1d array was expected. Please change the shape of y to (n_samples,), for example using ravel().\n",
            "  estimator.fit(X_train, y_train, **fit_params)\n",
            "/usr/local/lib/python3.6/dist-packages/sklearn/model_selection/_validation.py:515: DataConversionWarning: A column-vector y was passed when a 1d array was expected. Please change the shape of y to (n_samples,), for example using ravel().\n",
            "  estimator.fit(X_train, y_train, **fit_params)\n",
            "/usr/local/lib/python3.6/dist-packages/sklearn/model_selection/_validation.py:515: DataConversionWarning: A column-vector y was passed when a 1d array was expected. Please change the shape of y to (n_samples,), for example using ravel().\n",
            "  estimator.fit(X_train, y_train, **fit_params)\n",
            "/usr/local/lib/python3.6/dist-packages/sklearn/model_selection/_validation.py:515: DataConversionWarning: A column-vector y was passed when a 1d array was expected. Please change the shape of y to (n_samples,), for example using ravel().\n",
            "  estimator.fit(X_train, y_train, **fit_params)\n",
            "/usr/local/lib/python3.6/dist-packages/sklearn/model_selection/_validation.py:515: DataConversionWarning: A column-vector y was passed when a 1d array was expected. Please change the shape of y to (n_samples,), for example using ravel().\n",
            "  estimator.fit(X_train, y_train, **fit_params)\n",
            "/usr/local/lib/python3.6/dist-packages/sklearn/model_selection/_validation.py:515: DataConversionWarning: A column-vector y was passed when a 1d array was expected. Please change the shape of y to (n_samples,), for example using ravel().\n",
            "  estimator.fit(X_train, y_train, **fit_params)\n",
            "/usr/local/lib/python3.6/dist-packages/sklearn/model_selection/_validation.py:515: DataConversionWarning: A column-vector y was passed when a 1d array was expected. Please change the shape of y to (n_samples,), for example using ravel().\n",
            "  estimator.fit(X_train, y_train, **fit_params)\n",
            "/usr/local/lib/python3.6/dist-packages/sklearn/model_selection/_validation.py:515: DataConversionWarning: A column-vector y was passed when a 1d array was expected. Please change the shape of y to (n_samples,), for example using ravel().\n",
            "  estimator.fit(X_train, y_train, **fit_params)\n",
            "/usr/local/lib/python3.6/dist-packages/sklearn/model_selection/_validation.py:515: DataConversionWarning: A column-vector y was passed when a 1d array was expected. Please change the shape of y to (n_samples,), for example using ravel().\n",
            "  estimator.fit(X_train, y_train, **fit_params)\n",
            "/usr/local/lib/python3.6/dist-packages/sklearn/model_selection/_validation.py:515: DataConversionWarning: A column-vector y was passed when a 1d array was expected. Please change the shape of y to (n_samples,), for example using ravel().\n",
            "  estimator.fit(X_train, y_train, **fit_params)\n",
            "/usr/local/lib/python3.6/dist-packages/sklearn/model_selection/_validation.py:515: DataConversionWarning: A column-vector y was passed when a 1d array was expected. Please change the shape of y to (n_samples,), for example using ravel().\n",
            "  estimator.fit(X_train, y_train, **fit_params)\n",
            "/usr/local/lib/python3.6/dist-packages/sklearn/model_selection/_validation.py:515: DataConversionWarning: A column-vector y was passed when a 1d array was expected. Please change the shape of y to (n_samples,), for example using ravel().\n",
            "  estimator.fit(X_train, y_train, **fit_params)\n",
            "/usr/local/lib/python3.6/dist-packages/sklearn/model_selection/_validation.py:515: DataConversionWarning: A column-vector y was passed when a 1d array was expected. Please change the shape of y to (n_samples,), for example using ravel().\n",
            "  estimator.fit(X_train, y_train, **fit_params)\n",
            "/usr/local/lib/python3.6/dist-packages/sklearn/model_selection/_validation.py:515: DataConversionWarning: A column-vector y was passed when a 1d array was expected. Please change the shape of y to (n_samples,), for example using ravel().\n",
            "  estimator.fit(X_train, y_train, **fit_params)\n",
            "/usr/local/lib/python3.6/dist-packages/sklearn/model_selection/_validation.py:515: DataConversionWarning: A column-vector y was passed when a 1d array was expected. Please change the shape of y to (n_samples,), for example using ravel().\n",
            "  estimator.fit(X_train, y_train, **fit_params)\n",
            "/usr/local/lib/python3.6/dist-packages/sklearn/model_selection/_validation.py:515: DataConversionWarning: A column-vector y was passed when a 1d array was expected. Please change the shape of y to (n_samples,), for example using ravel().\n",
            "  estimator.fit(X_train, y_train, **fit_params)\n",
            "/usr/local/lib/python3.6/dist-packages/sklearn/model_selection/_validation.py:515: DataConversionWarning: A column-vector y was passed when a 1d array was expected. Please change the shape of y to (n_samples,), for example using ravel().\n",
            "  estimator.fit(X_train, y_train, **fit_params)\n",
            "/usr/local/lib/python3.6/dist-packages/sklearn/model_selection/_validation.py:515: DataConversionWarning: A column-vector y was passed when a 1d array was expected. Please change the shape of y to (n_samples,), for example using ravel().\n",
            "  estimator.fit(X_train, y_train, **fit_params)\n",
            "/usr/local/lib/python3.6/dist-packages/sklearn/model_selection/_validation.py:515: DataConversionWarning: A column-vector y was passed when a 1d array was expected. Please change the shape of y to (n_samples,), for example using ravel().\n",
            "  estimator.fit(X_train, y_train, **fit_params)\n",
            "/usr/local/lib/python3.6/dist-packages/sklearn/model_selection/_validation.py:515: DataConversionWarning: A column-vector y was passed when a 1d array was expected. Please change the shape of y to (n_samples,), for example using ravel().\n",
            "  estimator.fit(X_train, y_train, **fit_params)\n",
            "/usr/local/lib/python3.6/dist-packages/sklearn/model_selection/_validation.py:515: DataConversionWarning: A column-vector y was passed when a 1d array was expected. Please change the shape of y to (n_samples,), for example using ravel().\n",
            "  estimator.fit(X_train, y_train, **fit_params)\n",
            "/usr/local/lib/python3.6/dist-packages/sklearn/model_selection/_validation.py:515: DataConversionWarning: A column-vector y was passed when a 1d array was expected. Please change the shape of y to (n_samples,), for example using ravel().\n",
            "  estimator.fit(X_train, y_train, **fit_params)\n",
            "/usr/local/lib/python3.6/dist-packages/sklearn/model_selection/_validation.py:515: DataConversionWarning: A column-vector y was passed when a 1d array was expected. Please change the shape of y to (n_samples,), for example using ravel().\n",
            "  estimator.fit(X_train, y_train, **fit_params)\n",
            "/usr/local/lib/python3.6/dist-packages/sklearn/model_selection/_validation.py:515: DataConversionWarning: A column-vector y was passed when a 1d array was expected. Please change the shape of y to (n_samples,), for example using ravel().\n",
            "  estimator.fit(X_train, y_train, **fit_params)\n",
            "/usr/local/lib/python3.6/dist-packages/sklearn/model_selection/_validation.py:515: DataConversionWarning: A column-vector y was passed when a 1d array was expected. Please change the shape of y to (n_samples,), for example using ravel().\n",
            "  estimator.fit(X_train, y_train, **fit_params)\n",
            "/usr/local/lib/python3.6/dist-packages/sklearn/model_selection/_validation.py:515: DataConversionWarning: A column-vector y was passed when a 1d array was expected. Please change the shape of y to (n_samples,), for example using ravel().\n",
            "  estimator.fit(X_train, y_train, **fit_params)\n",
            "/usr/local/lib/python3.6/dist-packages/sklearn/model_selection/_validation.py:515: DataConversionWarning: A column-vector y was passed when a 1d array was expected. Please change the shape of y to (n_samples,), for example using ravel().\n",
            "  estimator.fit(X_train, y_train, **fit_params)\n",
            "/usr/local/lib/python3.6/dist-packages/sklearn/model_selection/_validation.py:515: DataConversionWarning: A column-vector y was passed when a 1d array was expected. Please change the shape of y to (n_samples,), for example using ravel().\n",
            "  estimator.fit(X_train, y_train, **fit_params)\n",
            "/usr/local/lib/python3.6/dist-packages/sklearn/model_selection/_validation.py:515: DataConversionWarning: A column-vector y was passed when a 1d array was expected. Please change the shape of y to (n_samples,), for example using ravel().\n",
            "  estimator.fit(X_train, y_train, **fit_params)\n",
            "/usr/local/lib/python3.6/dist-packages/sklearn/model_selection/_validation.py:515: DataConversionWarning: A column-vector y was passed when a 1d array was expected. Please change the shape of y to (n_samples,), for example using ravel().\n",
            "  estimator.fit(X_train, y_train, **fit_params)\n",
            "/usr/local/lib/python3.6/dist-packages/sklearn/model_selection/_validation.py:515: DataConversionWarning: A column-vector y was passed when a 1d array was expected. Please change the shape of y to (n_samples,), for example using ravel().\n",
            "  estimator.fit(X_train, y_train, **fit_params)\n",
            "/usr/local/lib/python3.6/dist-packages/sklearn/model_selection/_validation.py:515: DataConversionWarning: A column-vector y was passed when a 1d array was expected. Please change the shape of y to (n_samples,), for example using ravel().\n",
            "  estimator.fit(X_train, y_train, **fit_params)\n",
            "/usr/local/lib/python3.6/dist-packages/sklearn/model_selection/_validation.py:515: DataConversionWarning: A column-vector y was passed when a 1d array was expected. Please change the shape of y to (n_samples,), for example using ravel().\n",
            "  estimator.fit(X_train, y_train, **fit_params)\n",
            "/usr/local/lib/python3.6/dist-packages/sklearn/model_selection/_validation.py:515: DataConversionWarning: A column-vector y was passed when a 1d array was expected. Please change the shape of y to (n_samples,), for example using ravel().\n",
            "  estimator.fit(X_train, y_train, **fit_params)\n",
            "/usr/local/lib/python3.6/dist-packages/sklearn/model_selection/_validation.py:515: DataConversionWarning: A column-vector y was passed when a 1d array was expected. Please change the shape of y to (n_samples,), for example using ravel().\n",
            "  estimator.fit(X_train, y_train, **fit_params)\n",
            "[Parallel(n_jobs=1)]: Done  25 out of  25 | elapsed:   22.1s finished\n",
            "\n",
            "[2020-05-06 03:27:19] Features: 1/12 -- score: 0.6656359569521932[Parallel(n_jobs=1)]: Using backend SequentialBackend with 1 concurrent workers.\n",
            "/usr/local/lib/python3.6/dist-packages/sklearn/model_selection/_validation.py:515: DataConversionWarning: A column-vector y was passed when a 1d array was expected. Please change the shape of y to (n_samples,), for example using ravel().\n",
            "  estimator.fit(X_train, y_train, **fit_params)\n",
            "/usr/local/lib/python3.6/dist-packages/sklearn/model_selection/_validation.py:515: DataConversionWarning: A column-vector y was passed when a 1d array was expected. Please change the shape of y to (n_samples,), for example using ravel().\n",
            "  estimator.fit(X_train, y_train, **fit_params)\n",
            "[Parallel(n_jobs=1)]: Done   1 out of   1 | elapsed:    2.1s remaining:    0.0s\n",
            "/usr/local/lib/python3.6/dist-packages/sklearn/model_selection/_validation.py:515: DataConversionWarning: A column-vector y was passed when a 1d array was expected. Please change the shape of y to (n_samples,), for example using ravel().\n",
            "  estimator.fit(X_train, y_train, **fit_params)\n",
            "/usr/local/lib/python3.6/dist-packages/sklearn/model_selection/_validation.py:515: DataConversionWarning: A column-vector y was passed when a 1d array was expected. Please change the shape of y to (n_samples,), for example using ravel().\n",
            "  estimator.fit(X_train, y_train, **fit_params)\n",
            "/usr/local/lib/python3.6/dist-packages/sklearn/model_selection/_validation.py:515: DataConversionWarning: A column-vector y was passed when a 1d array was expected. Please change the shape of y to (n_samples,), for example using ravel().\n",
            "  estimator.fit(X_train, y_train, **fit_params)\n",
            "/usr/local/lib/python3.6/dist-packages/sklearn/model_selection/_validation.py:515: DataConversionWarning: A column-vector y was passed when a 1d array was expected. Please change the shape of y to (n_samples,), for example using ravel().\n",
            "  estimator.fit(X_train, y_train, **fit_params)\n",
            "/usr/local/lib/python3.6/dist-packages/sklearn/model_selection/_validation.py:515: DataConversionWarning: A column-vector y was passed when a 1d array was expected. Please change the shape of y to (n_samples,), for example using ravel().\n",
            "  estimator.fit(X_train, y_train, **fit_params)\n",
            "/usr/local/lib/python3.6/dist-packages/sklearn/model_selection/_validation.py:515: DataConversionWarning: A column-vector y was passed when a 1d array was expected. Please change the shape of y to (n_samples,), for example using ravel().\n",
            "  estimator.fit(X_train, y_train, **fit_params)\n",
            "/usr/local/lib/python3.6/dist-packages/sklearn/model_selection/_validation.py:515: DataConversionWarning: A column-vector y was passed when a 1d array was expected. Please change the shape of y to (n_samples,), for example using ravel().\n",
            "  estimator.fit(X_train, y_train, **fit_params)\n",
            "/usr/local/lib/python3.6/dist-packages/sklearn/model_selection/_validation.py:515: DataConversionWarning: A column-vector y was passed when a 1d array was expected. Please change the shape of y to (n_samples,), for example using ravel().\n",
            "  estimator.fit(X_train, y_train, **fit_params)\n",
            "/usr/local/lib/python3.6/dist-packages/sklearn/model_selection/_validation.py:515: DataConversionWarning: A column-vector y was passed when a 1d array was expected. Please change the shape of y to (n_samples,), for example using ravel().\n",
            "  estimator.fit(X_train, y_train, **fit_params)\n",
            "/usr/local/lib/python3.6/dist-packages/sklearn/model_selection/_validation.py:515: DataConversionWarning: A column-vector y was passed when a 1d array was expected. Please change the shape of y to (n_samples,), for example using ravel().\n",
            "  estimator.fit(X_train, y_train, **fit_params)\n",
            "/usr/local/lib/python3.6/dist-packages/sklearn/model_selection/_validation.py:515: DataConversionWarning: A column-vector y was passed when a 1d array was expected. Please change the shape of y to (n_samples,), for example using ravel().\n",
            "  estimator.fit(X_train, y_train, **fit_params)\n",
            "/usr/local/lib/python3.6/dist-packages/sklearn/model_selection/_validation.py:515: DataConversionWarning: A column-vector y was passed when a 1d array was expected. Please change the shape of y to (n_samples,), for example using ravel().\n",
            "  estimator.fit(X_train, y_train, **fit_params)\n",
            "/usr/local/lib/python3.6/dist-packages/sklearn/model_selection/_validation.py:515: DataConversionWarning: A column-vector y was passed when a 1d array was expected. Please change the shape of y to (n_samples,), for example using ravel().\n",
            "  estimator.fit(X_train, y_train, **fit_params)\n",
            "/usr/local/lib/python3.6/dist-packages/sklearn/model_selection/_validation.py:515: DataConversionWarning: A column-vector y was passed when a 1d array was expected. Please change the shape of y to (n_samples,), for example using ravel().\n",
            "  estimator.fit(X_train, y_train, **fit_params)\n",
            "/usr/local/lib/python3.6/dist-packages/sklearn/model_selection/_validation.py:515: DataConversionWarning: A column-vector y was passed when a 1d array was expected. Please change the shape of y to (n_samples,), for example using ravel().\n",
            "  estimator.fit(X_train, y_train, **fit_params)\n",
            "/usr/local/lib/python3.6/dist-packages/sklearn/model_selection/_validation.py:515: DataConversionWarning: A column-vector y was passed when a 1d array was expected. Please change the shape of y to (n_samples,), for example using ravel().\n",
            "  estimator.fit(X_train, y_train, **fit_params)\n",
            "/usr/local/lib/python3.6/dist-packages/sklearn/model_selection/_validation.py:515: DataConversionWarning: A column-vector y was passed when a 1d array was expected. Please change the shape of y to (n_samples,), for example using ravel().\n",
            "  estimator.fit(X_train, y_train, **fit_params)\n",
            "/usr/local/lib/python3.6/dist-packages/sklearn/model_selection/_validation.py:515: DataConversionWarning: A column-vector y was passed when a 1d array was expected. Please change the shape of y to (n_samples,), for example using ravel().\n",
            "  estimator.fit(X_train, y_train, **fit_params)\n",
            "/usr/local/lib/python3.6/dist-packages/sklearn/model_selection/_validation.py:515: DataConversionWarning: A column-vector y was passed when a 1d array was expected. Please change the shape of y to (n_samples,), for example using ravel().\n",
            "  estimator.fit(X_train, y_train, **fit_params)\n",
            "/usr/local/lib/python3.6/dist-packages/sklearn/model_selection/_validation.py:515: DataConversionWarning: A column-vector y was passed when a 1d array was expected. Please change the shape of y to (n_samples,), for example using ravel().\n",
            "  estimator.fit(X_train, y_train, **fit_params)\n",
            "/usr/local/lib/python3.6/dist-packages/sklearn/model_selection/_validation.py:515: DataConversionWarning: A column-vector y was passed when a 1d array was expected. Please change the shape of y to (n_samples,), for example using ravel().\n",
            "  estimator.fit(X_train, y_train, **fit_params)\n",
            "/usr/local/lib/python3.6/dist-packages/sklearn/model_selection/_validation.py:515: DataConversionWarning: A column-vector y was passed when a 1d array was expected. Please change the shape of y to (n_samples,), for example using ravel().\n",
            "  estimator.fit(X_train, y_train, **fit_params)\n",
            "/usr/local/lib/python3.6/dist-packages/sklearn/model_selection/_validation.py:515: DataConversionWarning: A column-vector y was passed when a 1d array was expected. Please change the shape of y to (n_samples,), for example using ravel().\n",
            "  estimator.fit(X_train, y_train, **fit_params)\n",
            "/usr/local/lib/python3.6/dist-packages/sklearn/model_selection/_validation.py:515: DataConversionWarning: A column-vector y was passed when a 1d array was expected. Please change the shape of y to (n_samples,), for example using ravel().\n",
            "  estimator.fit(X_train, y_train, **fit_params)\n",
            "/usr/local/lib/python3.6/dist-packages/sklearn/model_selection/_validation.py:515: DataConversionWarning: A column-vector y was passed when a 1d array was expected. Please change the shape of y to (n_samples,), for example using ravel().\n",
            "  estimator.fit(X_train, y_train, **fit_params)\n",
            "/usr/local/lib/python3.6/dist-packages/sklearn/model_selection/_validation.py:515: DataConversionWarning: A column-vector y was passed when a 1d array was expected. Please change the shape of y to (n_samples,), for example using ravel().\n",
            "  estimator.fit(X_train, y_train, **fit_params)\n",
            "/usr/local/lib/python3.6/dist-packages/sklearn/model_selection/_validation.py:515: DataConversionWarning: A column-vector y was passed when a 1d array was expected. Please change the shape of y to (n_samples,), for example using ravel().\n",
            "  estimator.fit(X_train, y_train, **fit_params)\n",
            "/usr/local/lib/python3.6/dist-packages/sklearn/model_selection/_validation.py:515: DataConversionWarning: A column-vector y was passed when a 1d array was expected. Please change the shape of y to (n_samples,), for example using ravel().\n",
            "  estimator.fit(X_train, y_train, **fit_params)\n",
            "/usr/local/lib/python3.6/dist-packages/sklearn/model_selection/_validation.py:515: DataConversionWarning: A column-vector y was passed when a 1d array was expected. Please change the shape of y to (n_samples,), for example using ravel().\n",
            "  estimator.fit(X_train, y_train, **fit_params)\n",
            "/usr/local/lib/python3.6/dist-packages/sklearn/model_selection/_validation.py:515: DataConversionWarning: A column-vector y was passed when a 1d array was expected. Please change the shape of y to (n_samples,), for example using ravel().\n",
            "  estimator.fit(X_train, y_train, **fit_params)\n",
            "/usr/local/lib/python3.6/dist-packages/sklearn/model_selection/_validation.py:515: DataConversionWarning: A column-vector y was passed when a 1d array was expected. Please change the shape of y to (n_samples,), for example using ravel().\n",
            "  estimator.fit(X_train, y_train, **fit_params)\n",
            "/usr/local/lib/python3.6/dist-packages/sklearn/model_selection/_validation.py:515: DataConversionWarning: A column-vector y was passed when a 1d array was expected. Please change the shape of y to (n_samples,), for example using ravel().\n",
            "  estimator.fit(X_train, y_train, **fit_params)\n",
            "/usr/local/lib/python3.6/dist-packages/sklearn/model_selection/_validation.py:515: DataConversionWarning: A column-vector y was passed when a 1d array was expected. Please change the shape of y to (n_samples,), for example using ravel().\n",
            "  estimator.fit(X_train, y_train, **fit_params)\n",
            "/usr/local/lib/python3.6/dist-packages/sklearn/model_selection/_validation.py:515: DataConversionWarning: A column-vector y was passed when a 1d array was expected. Please change the shape of y to (n_samples,), for example using ravel().\n",
            "  estimator.fit(X_train, y_train, **fit_params)\n",
            "/usr/local/lib/python3.6/dist-packages/sklearn/model_selection/_validation.py:515: DataConversionWarning: A column-vector y was passed when a 1d array was expected. Please change the shape of y to (n_samples,), for example using ravel().\n",
            "  estimator.fit(X_train, y_train, **fit_params)\n",
            "/usr/local/lib/python3.6/dist-packages/sklearn/model_selection/_validation.py:515: DataConversionWarning: A column-vector y was passed when a 1d array was expected. Please change the shape of y to (n_samples,), for example using ravel().\n",
            "  estimator.fit(X_train, y_train, **fit_params)\n",
            "/usr/local/lib/python3.6/dist-packages/sklearn/model_selection/_validation.py:515: DataConversionWarning: A column-vector y was passed when a 1d array was expected. Please change the shape of y to (n_samples,), for example using ravel().\n",
            "  estimator.fit(X_train, y_train, **fit_params)\n",
            "/usr/local/lib/python3.6/dist-packages/sklearn/model_selection/_validation.py:515: DataConversionWarning: A column-vector y was passed when a 1d array was expected. Please change the shape of y to (n_samples,), for example using ravel().\n",
            "  estimator.fit(X_train, y_train, **fit_params)\n",
            "/usr/local/lib/python3.6/dist-packages/sklearn/model_selection/_validation.py:515: DataConversionWarning: A column-vector y was passed when a 1d array was expected. Please change the shape of y to (n_samples,), for example using ravel().\n",
            "  estimator.fit(X_train, y_train, **fit_params)\n",
            "/usr/local/lib/python3.6/dist-packages/sklearn/model_selection/_validation.py:515: DataConversionWarning: A column-vector y was passed when a 1d array was expected. Please change the shape of y to (n_samples,), for example using ravel().\n",
            "  estimator.fit(X_train, y_train, **fit_params)\n",
            "/usr/local/lib/python3.6/dist-packages/sklearn/model_selection/_validation.py:515: DataConversionWarning: A column-vector y was passed when a 1d array was expected. Please change the shape of y to (n_samples,), for example using ravel().\n",
            "  estimator.fit(X_train, y_train, **fit_params)\n",
            "/usr/local/lib/python3.6/dist-packages/sklearn/model_selection/_validation.py:515: DataConversionWarning: A column-vector y was passed when a 1d array was expected. Please change the shape of y to (n_samples,), for example using ravel().\n",
            "  estimator.fit(X_train, y_train, **fit_params)\n",
            "/usr/local/lib/python3.6/dist-packages/sklearn/model_selection/_validation.py:515: DataConversionWarning: A column-vector y was passed when a 1d array was expected. Please change the shape of y to (n_samples,), for example using ravel().\n",
            "  estimator.fit(X_train, y_train, **fit_params)\n",
            "/usr/local/lib/python3.6/dist-packages/sklearn/model_selection/_validation.py:515: DataConversionWarning: A column-vector y was passed when a 1d array was expected. Please change the shape of y to (n_samples,), for example using ravel().\n",
            "  estimator.fit(X_train, y_train, **fit_params)\n",
            "/usr/local/lib/python3.6/dist-packages/sklearn/model_selection/_validation.py:515: DataConversionWarning: A column-vector y was passed when a 1d array was expected. Please change the shape of y to (n_samples,), for example using ravel().\n",
            "  estimator.fit(X_train, y_train, **fit_params)\n",
            "/usr/local/lib/python3.6/dist-packages/sklearn/model_selection/_validation.py:515: DataConversionWarning: A column-vector y was passed when a 1d array was expected. Please change the shape of y to (n_samples,), for example using ravel().\n",
            "  estimator.fit(X_train, y_train, **fit_params)\n",
            "[Parallel(n_jobs=1)]: Done  24 out of  24 | elapsed:   47.0s finished\n",
            "\n",
            "[2020-05-06 03:28:06] Features: 2/12 -- score: 0.7072193363988415[Parallel(n_jobs=1)]: Using backend SequentialBackend with 1 concurrent workers.\n",
            "/usr/local/lib/python3.6/dist-packages/sklearn/model_selection/_validation.py:515: DataConversionWarning: A column-vector y was passed when a 1d array was expected. Please change the shape of y to (n_samples,), for example using ravel().\n",
            "  estimator.fit(X_train, y_train, **fit_params)\n",
            "/usr/local/lib/python3.6/dist-packages/sklearn/model_selection/_validation.py:515: DataConversionWarning: A column-vector y was passed when a 1d array was expected. Please change the shape of y to (n_samples,), for example using ravel().\n",
            "  estimator.fit(X_train, y_train, **fit_params)\n",
            "[Parallel(n_jobs=1)]: Done   1 out of   1 | elapsed:    2.4s remaining:    0.0s\n",
            "/usr/local/lib/python3.6/dist-packages/sklearn/model_selection/_validation.py:515: DataConversionWarning: A column-vector y was passed when a 1d array was expected. Please change the shape of y to (n_samples,), for example using ravel().\n",
            "  estimator.fit(X_train, y_train, **fit_params)\n",
            "/usr/local/lib/python3.6/dist-packages/sklearn/model_selection/_validation.py:515: DataConversionWarning: A column-vector y was passed when a 1d array was expected. Please change the shape of y to (n_samples,), for example using ravel().\n",
            "  estimator.fit(X_train, y_train, **fit_params)\n",
            "/usr/local/lib/python3.6/dist-packages/sklearn/model_selection/_validation.py:515: DataConversionWarning: A column-vector y was passed when a 1d array was expected. Please change the shape of y to (n_samples,), for example using ravel().\n",
            "  estimator.fit(X_train, y_train, **fit_params)\n",
            "/usr/local/lib/python3.6/dist-packages/sklearn/model_selection/_validation.py:515: DataConversionWarning: A column-vector y was passed when a 1d array was expected. Please change the shape of y to (n_samples,), for example using ravel().\n",
            "  estimator.fit(X_train, y_train, **fit_params)\n",
            "/usr/local/lib/python3.6/dist-packages/sklearn/model_selection/_validation.py:515: DataConversionWarning: A column-vector y was passed when a 1d array was expected. Please change the shape of y to (n_samples,), for example using ravel().\n",
            "  estimator.fit(X_train, y_train, **fit_params)\n",
            "/usr/local/lib/python3.6/dist-packages/sklearn/model_selection/_validation.py:515: DataConversionWarning: A column-vector y was passed when a 1d array was expected. Please change the shape of y to (n_samples,), for example using ravel().\n",
            "  estimator.fit(X_train, y_train, **fit_params)\n",
            "/usr/local/lib/python3.6/dist-packages/sklearn/model_selection/_validation.py:515: DataConversionWarning: A column-vector y was passed when a 1d array was expected. Please change the shape of y to (n_samples,), for example using ravel().\n",
            "  estimator.fit(X_train, y_train, **fit_params)\n",
            "/usr/local/lib/python3.6/dist-packages/sklearn/model_selection/_validation.py:515: DataConversionWarning: A column-vector y was passed when a 1d array was expected. Please change the shape of y to (n_samples,), for example using ravel().\n",
            "  estimator.fit(X_train, y_train, **fit_params)\n",
            "/usr/local/lib/python3.6/dist-packages/sklearn/model_selection/_validation.py:515: DataConversionWarning: A column-vector y was passed when a 1d array was expected. Please change the shape of y to (n_samples,), for example using ravel().\n",
            "  estimator.fit(X_train, y_train, **fit_params)\n",
            "/usr/local/lib/python3.6/dist-packages/sklearn/model_selection/_validation.py:515: DataConversionWarning: A column-vector y was passed when a 1d array was expected. Please change the shape of y to (n_samples,), for example using ravel().\n",
            "  estimator.fit(X_train, y_train, **fit_params)\n",
            "/usr/local/lib/python3.6/dist-packages/sklearn/model_selection/_validation.py:515: DataConversionWarning: A column-vector y was passed when a 1d array was expected. Please change the shape of y to (n_samples,), for example using ravel().\n",
            "  estimator.fit(X_train, y_train, **fit_params)\n",
            "/usr/local/lib/python3.6/dist-packages/sklearn/model_selection/_validation.py:515: DataConversionWarning: A column-vector y was passed when a 1d array was expected. Please change the shape of y to (n_samples,), for example using ravel().\n",
            "  estimator.fit(X_train, y_train, **fit_params)\n",
            "/usr/local/lib/python3.6/dist-packages/sklearn/model_selection/_validation.py:515: DataConversionWarning: A column-vector y was passed when a 1d array was expected. Please change the shape of y to (n_samples,), for example using ravel().\n",
            "  estimator.fit(X_train, y_train, **fit_params)\n",
            "/usr/local/lib/python3.6/dist-packages/sklearn/model_selection/_validation.py:515: DataConversionWarning: A column-vector y was passed when a 1d array was expected. Please change the shape of y to (n_samples,), for example using ravel().\n",
            "  estimator.fit(X_train, y_train, **fit_params)\n",
            "/usr/local/lib/python3.6/dist-packages/sklearn/model_selection/_validation.py:515: DataConversionWarning: A column-vector y was passed when a 1d array was expected. Please change the shape of y to (n_samples,), for example using ravel().\n",
            "  estimator.fit(X_train, y_train, **fit_params)\n",
            "/usr/local/lib/python3.6/dist-packages/sklearn/model_selection/_validation.py:515: DataConversionWarning: A column-vector y was passed when a 1d array was expected. Please change the shape of y to (n_samples,), for example using ravel().\n",
            "  estimator.fit(X_train, y_train, **fit_params)\n",
            "/usr/local/lib/python3.6/dist-packages/sklearn/model_selection/_validation.py:515: DataConversionWarning: A column-vector y was passed when a 1d array was expected. Please change the shape of y to (n_samples,), for example using ravel().\n",
            "  estimator.fit(X_train, y_train, **fit_params)\n",
            "/usr/local/lib/python3.6/dist-packages/sklearn/model_selection/_validation.py:515: DataConversionWarning: A column-vector y was passed when a 1d array was expected. Please change the shape of y to (n_samples,), for example using ravel().\n",
            "  estimator.fit(X_train, y_train, **fit_params)\n",
            "/usr/local/lib/python3.6/dist-packages/sklearn/model_selection/_validation.py:515: DataConversionWarning: A column-vector y was passed when a 1d array was expected. Please change the shape of y to (n_samples,), for example using ravel().\n",
            "  estimator.fit(X_train, y_train, **fit_params)\n",
            "/usr/local/lib/python3.6/dist-packages/sklearn/model_selection/_validation.py:515: DataConversionWarning: A column-vector y was passed when a 1d array was expected. Please change the shape of y to (n_samples,), for example using ravel().\n",
            "  estimator.fit(X_train, y_train, **fit_params)\n",
            "/usr/local/lib/python3.6/dist-packages/sklearn/model_selection/_validation.py:515: DataConversionWarning: A column-vector y was passed when a 1d array was expected. Please change the shape of y to (n_samples,), for example using ravel().\n",
            "  estimator.fit(X_train, y_train, **fit_params)\n",
            "/usr/local/lib/python3.6/dist-packages/sklearn/model_selection/_validation.py:515: DataConversionWarning: A column-vector y was passed when a 1d array was expected. Please change the shape of y to (n_samples,), for example using ravel().\n",
            "  estimator.fit(X_train, y_train, **fit_params)\n",
            "/usr/local/lib/python3.6/dist-packages/sklearn/model_selection/_validation.py:515: DataConversionWarning: A column-vector y was passed when a 1d array was expected. Please change the shape of y to (n_samples,), for example using ravel().\n",
            "  estimator.fit(X_train, y_train, **fit_params)\n",
            "/usr/local/lib/python3.6/dist-packages/sklearn/model_selection/_validation.py:515: DataConversionWarning: A column-vector y was passed when a 1d array was expected. Please change the shape of y to (n_samples,), for example using ravel().\n",
            "  estimator.fit(X_train, y_train, **fit_params)\n",
            "/usr/local/lib/python3.6/dist-packages/sklearn/model_selection/_validation.py:515: DataConversionWarning: A column-vector y was passed when a 1d array was expected. Please change the shape of y to (n_samples,), for example using ravel().\n",
            "  estimator.fit(X_train, y_train, **fit_params)\n",
            "/usr/local/lib/python3.6/dist-packages/sklearn/model_selection/_validation.py:515: DataConversionWarning: A column-vector y was passed when a 1d array was expected. Please change the shape of y to (n_samples,), for example using ravel().\n",
            "  estimator.fit(X_train, y_train, **fit_params)\n",
            "/usr/local/lib/python3.6/dist-packages/sklearn/model_selection/_validation.py:515: DataConversionWarning: A column-vector y was passed when a 1d array was expected. Please change the shape of y to (n_samples,), for example using ravel().\n",
            "  estimator.fit(X_train, y_train, **fit_params)\n",
            "/usr/local/lib/python3.6/dist-packages/sklearn/model_selection/_validation.py:515: DataConversionWarning: A column-vector y was passed when a 1d array was expected. Please change the shape of y to (n_samples,), for example using ravel().\n",
            "  estimator.fit(X_train, y_train, **fit_params)\n",
            "/usr/local/lib/python3.6/dist-packages/sklearn/model_selection/_validation.py:515: DataConversionWarning: A column-vector y was passed when a 1d array was expected. Please change the shape of y to (n_samples,), for example using ravel().\n",
            "  estimator.fit(X_train, y_train, **fit_params)\n",
            "/usr/local/lib/python3.6/dist-packages/sklearn/model_selection/_validation.py:515: DataConversionWarning: A column-vector y was passed when a 1d array was expected. Please change the shape of y to (n_samples,), for example using ravel().\n",
            "  estimator.fit(X_train, y_train, **fit_params)\n",
            "/usr/local/lib/python3.6/dist-packages/sklearn/model_selection/_validation.py:515: DataConversionWarning: A column-vector y was passed when a 1d array was expected. Please change the shape of y to (n_samples,), for example using ravel().\n",
            "  estimator.fit(X_train, y_train, **fit_params)\n",
            "/usr/local/lib/python3.6/dist-packages/sklearn/model_selection/_validation.py:515: DataConversionWarning: A column-vector y was passed when a 1d array was expected. Please change the shape of y to (n_samples,), for example using ravel().\n",
            "  estimator.fit(X_train, y_train, **fit_params)\n",
            "/usr/local/lib/python3.6/dist-packages/sklearn/model_selection/_validation.py:515: DataConversionWarning: A column-vector y was passed when a 1d array was expected. Please change the shape of y to (n_samples,), for example using ravel().\n",
            "  estimator.fit(X_train, y_train, **fit_params)\n",
            "/usr/local/lib/python3.6/dist-packages/sklearn/model_selection/_validation.py:515: DataConversionWarning: A column-vector y was passed when a 1d array was expected. Please change the shape of y to (n_samples,), for example using ravel().\n",
            "  estimator.fit(X_train, y_train, **fit_params)\n",
            "/usr/local/lib/python3.6/dist-packages/sklearn/model_selection/_validation.py:515: DataConversionWarning: A column-vector y was passed when a 1d array was expected. Please change the shape of y to (n_samples,), for example using ravel().\n",
            "  estimator.fit(X_train, y_train, **fit_params)\n",
            "/usr/local/lib/python3.6/dist-packages/sklearn/model_selection/_validation.py:515: DataConversionWarning: A column-vector y was passed when a 1d array was expected. Please change the shape of y to (n_samples,), for example using ravel().\n",
            "  estimator.fit(X_train, y_train, **fit_params)\n",
            "/usr/local/lib/python3.6/dist-packages/sklearn/model_selection/_validation.py:515: DataConversionWarning: A column-vector y was passed when a 1d array was expected. Please change the shape of y to (n_samples,), for example using ravel().\n",
            "  estimator.fit(X_train, y_train, **fit_params)\n",
            "/usr/local/lib/python3.6/dist-packages/sklearn/model_selection/_validation.py:515: DataConversionWarning: A column-vector y was passed when a 1d array was expected. Please change the shape of y to (n_samples,), for example using ravel().\n",
            "  estimator.fit(X_train, y_train, **fit_params)\n",
            "/usr/local/lib/python3.6/dist-packages/sklearn/model_selection/_validation.py:515: DataConversionWarning: A column-vector y was passed when a 1d array was expected. Please change the shape of y to (n_samples,), for example using ravel().\n",
            "  estimator.fit(X_train, y_train, **fit_params)\n",
            "/usr/local/lib/python3.6/dist-packages/sklearn/model_selection/_validation.py:515: DataConversionWarning: A column-vector y was passed when a 1d array was expected. Please change the shape of y to (n_samples,), for example using ravel().\n",
            "  estimator.fit(X_train, y_train, **fit_params)\n",
            "/usr/local/lib/python3.6/dist-packages/sklearn/model_selection/_validation.py:515: DataConversionWarning: A column-vector y was passed when a 1d array was expected. Please change the shape of y to (n_samples,), for example using ravel().\n",
            "  estimator.fit(X_train, y_train, **fit_params)\n",
            "/usr/local/lib/python3.6/dist-packages/sklearn/model_selection/_validation.py:515: DataConversionWarning: A column-vector y was passed when a 1d array was expected. Please change the shape of y to (n_samples,), for example using ravel().\n",
            "  estimator.fit(X_train, y_train, **fit_params)\n",
            "/usr/local/lib/python3.6/dist-packages/sklearn/model_selection/_validation.py:515: DataConversionWarning: A column-vector y was passed when a 1d array was expected. Please change the shape of y to (n_samples,), for example using ravel().\n",
            "  estimator.fit(X_train, y_train, **fit_params)\n",
            "/usr/local/lib/python3.6/dist-packages/sklearn/model_selection/_validation.py:515: DataConversionWarning: A column-vector y was passed when a 1d array was expected. Please change the shape of y to (n_samples,), for example using ravel().\n",
            "  estimator.fit(X_train, y_train, **fit_params)\n",
            "[Parallel(n_jobs=1)]: Done  23 out of  23 | elapsed:   57.3s finished\n",
            "\n",
            "[2020-05-06 03:29:03] Features: 3/12 -- score: 0.747271475855444[Parallel(n_jobs=1)]: Using backend SequentialBackend with 1 concurrent workers.\n",
            "/usr/local/lib/python3.6/dist-packages/sklearn/model_selection/_validation.py:515: DataConversionWarning: A column-vector y was passed when a 1d array was expected. Please change the shape of y to (n_samples,), for example using ravel().\n",
            "  estimator.fit(X_train, y_train, **fit_params)\n",
            "/usr/local/lib/python3.6/dist-packages/sklearn/model_selection/_validation.py:515: DataConversionWarning: A column-vector y was passed when a 1d array was expected. Please change the shape of y to (n_samples,), for example using ravel().\n",
            "  estimator.fit(X_train, y_train, **fit_params)\n",
            "[Parallel(n_jobs=1)]: Done   1 out of   1 | elapsed:    2.9s remaining:    0.0s\n",
            "/usr/local/lib/python3.6/dist-packages/sklearn/model_selection/_validation.py:515: DataConversionWarning: A column-vector y was passed when a 1d array was expected. Please change the shape of y to (n_samples,), for example using ravel().\n",
            "  estimator.fit(X_train, y_train, **fit_params)\n",
            "/usr/local/lib/python3.6/dist-packages/sklearn/model_selection/_validation.py:515: DataConversionWarning: A column-vector y was passed when a 1d array was expected. Please change the shape of y to (n_samples,), for example using ravel().\n",
            "  estimator.fit(X_train, y_train, **fit_params)\n",
            "/usr/local/lib/python3.6/dist-packages/sklearn/model_selection/_validation.py:515: DataConversionWarning: A column-vector y was passed when a 1d array was expected. Please change the shape of y to (n_samples,), for example using ravel().\n",
            "  estimator.fit(X_train, y_train, **fit_params)\n",
            "/usr/local/lib/python3.6/dist-packages/sklearn/model_selection/_validation.py:515: DataConversionWarning: A column-vector y was passed when a 1d array was expected. Please change the shape of y to (n_samples,), for example using ravel().\n",
            "  estimator.fit(X_train, y_train, **fit_params)\n",
            "/usr/local/lib/python3.6/dist-packages/sklearn/model_selection/_validation.py:515: DataConversionWarning: A column-vector y was passed when a 1d array was expected. Please change the shape of y to (n_samples,), for example using ravel().\n",
            "  estimator.fit(X_train, y_train, **fit_params)\n",
            "/usr/local/lib/python3.6/dist-packages/sklearn/model_selection/_validation.py:515: DataConversionWarning: A column-vector y was passed when a 1d array was expected. Please change the shape of y to (n_samples,), for example using ravel().\n",
            "  estimator.fit(X_train, y_train, **fit_params)\n",
            "/usr/local/lib/python3.6/dist-packages/sklearn/model_selection/_validation.py:515: DataConversionWarning: A column-vector y was passed when a 1d array was expected. Please change the shape of y to (n_samples,), for example using ravel().\n",
            "  estimator.fit(X_train, y_train, **fit_params)\n",
            "/usr/local/lib/python3.6/dist-packages/sklearn/model_selection/_validation.py:515: DataConversionWarning: A column-vector y was passed when a 1d array was expected. Please change the shape of y to (n_samples,), for example using ravel().\n",
            "  estimator.fit(X_train, y_train, **fit_params)\n",
            "/usr/local/lib/python3.6/dist-packages/sklearn/model_selection/_validation.py:515: DataConversionWarning: A column-vector y was passed when a 1d array was expected. Please change the shape of y to (n_samples,), for example using ravel().\n",
            "  estimator.fit(X_train, y_train, **fit_params)\n",
            "/usr/local/lib/python3.6/dist-packages/sklearn/model_selection/_validation.py:515: DataConversionWarning: A column-vector y was passed when a 1d array was expected. Please change the shape of y to (n_samples,), for example using ravel().\n",
            "  estimator.fit(X_train, y_train, **fit_params)\n",
            "/usr/local/lib/python3.6/dist-packages/sklearn/model_selection/_validation.py:515: DataConversionWarning: A column-vector y was passed when a 1d array was expected. Please change the shape of y to (n_samples,), for example using ravel().\n",
            "  estimator.fit(X_train, y_train, **fit_params)\n",
            "/usr/local/lib/python3.6/dist-packages/sklearn/model_selection/_validation.py:515: DataConversionWarning: A column-vector y was passed when a 1d array was expected. Please change the shape of y to (n_samples,), for example using ravel().\n",
            "  estimator.fit(X_train, y_train, **fit_params)\n",
            "/usr/local/lib/python3.6/dist-packages/sklearn/model_selection/_validation.py:515: DataConversionWarning: A column-vector y was passed when a 1d array was expected. Please change the shape of y to (n_samples,), for example using ravel().\n",
            "  estimator.fit(X_train, y_train, **fit_params)\n",
            "/usr/local/lib/python3.6/dist-packages/sklearn/model_selection/_validation.py:515: DataConversionWarning: A column-vector y was passed when a 1d array was expected. Please change the shape of y to (n_samples,), for example using ravel().\n",
            "  estimator.fit(X_train, y_train, **fit_params)\n",
            "/usr/local/lib/python3.6/dist-packages/sklearn/model_selection/_validation.py:515: DataConversionWarning: A column-vector y was passed when a 1d array was expected. Please change the shape of y to (n_samples,), for example using ravel().\n",
            "  estimator.fit(X_train, y_train, **fit_params)\n",
            "/usr/local/lib/python3.6/dist-packages/sklearn/model_selection/_validation.py:515: DataConversionWarning: A column-vector y was passed when a 1d array was expected. Please change the shape of y to (n_samples,), for example using ravel().\n",
            "  estimator.fit(X_train, y_train, **fit_params)\n",
            "/usr/local/lib/python3.6/dist-packages/sklearn/model_selection/_validation.py:515: DataConversionWarning: A column-vector y was passed when a 1d array was expected. Please change the shape of y to (n_samples,), for example using ravel().\n",
            "  estimator.fit(X_train, y_train, **fit_params)\n",
            "/usr/local/lib/python3.6/dist-packages/sklearn/model_selection/_validation.py:515: DataConversionWarning: A column-vector y was passed when a 1d array was expected. Please change the shape of y to (n_samples,), for example using ravel().\n",
            "  estimator.fit(X_train, y_train, **fit_params)\n",
            "/usr/local/lib/python3.6/dist-packages/sklearn/model_selection/_validation.py:515: DataConversionWarning: A column-vector y was passed when a 1d array was expected. Please change the shape of y to (n_samples,), for example using ravel().\n",
            "  estimator.fit(X_train, y_train, **fit_params)\n",
            "/usr/local/lib/python3.6/dist-packages/sklearn/model_selection/_validation.py:515: DataConversionWarning: A column-vector y was passed when a 1d array was expected. Please change the shape of y to (n_samples,), for example using ravel().\n",
            "  estimator.fit(X_train, y_train, **fit_params)\n",
            "/usr/local/lib/python3.6/dist-packages/sklearn/model_selection/_validation.py:515: DataConversionWarning: A column-vector y was passed when a 1d array was expected. Please change the shape of y to (n_samples,), for example using ravel().\n",
            "  estimator.fit(X_train, y_train, **fit_params)\n",
            "/usr/local/lib/python3.6/dist-packages/sklearn/model_selection/_validation.py:515: DataConversionWarning: A column-vector y was passed when a 1d array was expected. Please change the shape of y to (n_samples,), for example using ravel().\n",
            "  estimator.fit(X_train, y_train, **fit_params)\n",
            "/usr/local/lib/python3.6/dist-packages/sklearn/model_selection/_validation.py:515: DataConversionWarning: A column-vector y was passed when a 1d array was expected. Please change the shape of y to (n_samples,), for example using ravel().\n",
            "  estimator.fit(X_train, y_train, **fit_params)\n",
            "/usr/local/lib/python3.6/dist-packages/sklearn/model_selection/_validation.py:515: DataConversionWarning: A column-vector y was passed when a 1d array was expected. Please change the shape of y to (n_samples,), for example using ravel().\n",
            "  estimator.fit(X_train, y_train, **fit_params)\n",
            "/usr/local/lib/python3.6/dist-packages/sklearn/model_selection/_validation.py:515: DataConversionWarning: A column-vector y was passed when a 1d array was expected. Please change the shape of y to (n_samples,), for example using ravel().\n",
            "  estimator.fit(X_train, y_train, **fit_params)\n",
            "/usr/local/lib/python3.6/dist-packages/sklearn/model_selection/_validation.py:515: DataConversionWarning: A column-vector y was passed when a 1d array was expected. Please change the shape of y to (n_samples,), for example using ravel().\n",
            "  estimator.fit(X_train, y_train, **fit_params)\n",
            "/usr/local/lib/python3.6/dist-packages/sklearn/model_selection/_validation.py:515: DataConversionWarning: A column-vector y was passed when a 1d array was expected. Please change the shape of y to (n_samples,), for example using ravel().\n",
            "  estimator.fit(X_train, y_train, **fit_params)\n",
            "/usr/local/lib/python3.6/dist-packages/sklearn/model_selection/_validation.py:515: DataConversionWarning: A column-vector y was passed when a 1d array was expected. Please change the shape of y to (n_samples,), for example using ravel().\n",
            "  estimator.fit(X_train, y_train, **fit_params)\n",
            "/usr/local/lib/python3.6/dist-packages/sklearn/model_selection/_validation.py:515: DataConversionWarning: A column-vector y was passed when a 1d array was expected. Please change the shape of y to (n_samples,), for example using ravel().\n",
            "  estimator.fit(X_train, y_train, **fit_params)\n",
            "/usr/local/lib/python3.6/dist-packages/sklearn/model_selection/_validation.py:515: DataConversionWarning: A column-vector y was passed when a 1d array was expected. Please change the shape of y to (n_samples,), for example using ravel().\n",
            "  estimator.fit(X_train, y_train, **fit_params)\n",
            "/usr/local/lib/python3.6/dist-packages/sklearn/model_selection/_validation.py:515: DataConversionWarning: A column-vector y was passed when a 1d array was expected. Please change the shape of y to (n_samples,), for example using ravel().\n",
            "  estimator.fit(X_train, y_train, **fit_params)\n",
            "/usr/local/lib/python3.6/dist-packages/sklearn/model_selection/_validation.py:515: DataConversionWarning: A column-vector y was passed when a 1d array was expected. Please change the shape of y to (n_samples,), for example using ravel().\n",
            "  estimator.fit(X_train, y_train, **fit_params)\n",
            "/usr/local/lib/python3.6/dist-packages/sklearn/model_selection/_validation.py:515: DataConversionWarning: A column-vector y was passed when a 1d array was expected. Please change the shape of y to (n_samples,), for example using ravel().\n",
            "  estimator.fit(X_train, y_train, **fit_params)\n",
            "/usr/local/lib/python3.6/dist-packages/sklearn/model_selection/_validation.py:515: DataConversionWarning: A column-vector y was passed when a 1d array was expected. Please change the shape of y to (n_samples,), for example using ravel().\n",
            "  estimator.fit(X_train, y_train, **fit_params)\n",
            "/usr/local/lib/python3.6/dist-packages/sklearn/model_selection/_validation.py:515: DataConversionWarning: A column-vector y was passed when a 1d array was expected. Please change the shape of y to (n_samples,), for example using ravel().\n",
            "  estimator.fit(X_train, y_train, **fit_params)\n",
            "/usr/local/lib/python3.6/dist-packages/sklearn/model_selection/_validation.py:515: DataConversionWarning: A column-vector y was passed when a 1d array was expected. Please change the shape of y to (n_samples,), for example using ravel().\n",
            "  estimator.fit(X_train, y_train, **fit_params)\n",
            "/usr/local/lib/python3.6/dist-packages/sklearn/model_selection/_validation.py:515: DataConversionWarning: A column-vector y was passed when a 1d array was expected. Please change the shape of y to (n_samples,), for example using ravel().\n",
            "  estimator.fit(X_train, y_train, **fit_params)\n",
            "/usr/local/lib/python3.6/dist-packages/sklearn/model_selection/_validation.py:515: DataConversionWarning: A column-vector y was passed when a 1d array was expected. Please change the shape of y to (n_samples,), for example using ravel().\n",
            "  estimator.fit(X_train, y_train, **fit_params)\n",
            "/usr/local/lib/python3.6/dist-packages/sklearn/model_selection/_validation.py:515: DataConversionWarning: A column-vector y was passed when a 1d array was expected. Please change the shape of y to (n_samples,), for example using ravel().\n",
            "  estimator.fit(X_train, y_train, **fit_params)\n",
            "/usr/local/lib/python3.6/dist-packages/sklearn/model_selection/_validation.py:515: DataConversionWarning: A column-vector y was passed when a 1d array was expected. Please change the shape of y to (n_samples,), for example using ravel().\n",
            "  estimator.fit(X_train, y_train, **fit_params)\n",
            "/usr/local/lib/python3.6/dist-packages/sklearn/model_selection/_validation.py:515: DataConversionWarning: A column-vector y was passed when a 1d array was expected. Please change the shape of y to (n_samples,), for example using ravel().\n",
            "  estimator.fit(X_train, y_train, **fit_params)\n",
            "/usr/local/lib/python3.6/dist-packages/sklearn/model_selection/_validation.py:515: DataConversionWarning: A column-vector y was passed when a 1d array was expected. Please change the shape of y to (n_samples,), for example using ravel().\n",
            "  estimator.fit(X_train, y_train, **fit_params)\n",
            "[Parallel(n_jobs=1)]: Done  22 out of  22 | elapsed:  1.1min finished\n",
            "\n",
            "[2020-05-06 03:30:07] Features: 4/12 -- score: 0.7690628401553923[Parallel(n_jobs=1)]: Using backend SequentialBackend with 1 concurrent workers.\n",
            "/usr/local/lib/python3.6/dist-packages/sklearn/model_selection/_validation.py:515: DataConversionWarning: A column-vector y was passed when a 1d array was expected. Please change the shape of y to (n_samples,), for example using ravel().\n",
            "  estimator.fit(X_train, y_train, **fit_params)\n",
            "/usr/local/lib/python3.6/dist-packages/sklearn/model_selection/_validation.py:515: DataConversionWarning: A column-vector y was passed when a 1d array was expected. Please change the shape of y to (n_samples,), for example using ravel().\n",
            "  estimator.fit(X_train, y_train, **fit_params)\n",
            "[Parallel(n_jobs=1)]: Done   1 out of   1 | elapsed:    2.6s remaining:    0.0s\n",
            "/usr/local/lib/python3.6/dist-packages/sklearn/model_selection/_validation.py:515: DataConversionWarning: A column-vector y was passed when a 1d array was expected. Please change the shape of y to (n_samples,), for example using ravel().\n",
            "  estimator.fit(X_train, y_train, **fit_params)\n",
            "/usr/local/lib/python3.6/dist-packages/sklearn/model_selection/_validation.py:515: DataConversionWarning: A column-vector y was passed when a 1d array was expected. Please change the shape of y to (n_samples,), for example using ravel().\n",
            "  estimator.fit(X_train, y_train, **fit_params)\n",
            "/usr/local/lib/python3.6/dist-packages/sklearn/model_selection/_validation.py:515: DataConversionWarning: A column-vector y was passed when a 1d array was expected. Please change the shape of y to (n_samples,), for example using ravel().\n",
            "  estimator.fit(X_train, y_train, **fit_params)\n",
            "/usr/local/lib/python3.6/dist-packages/sklearn/model_selection/_validation.py:515: DataConversionWarning: A column-vector y was passed when a 1d array was expected. Please change the shape of y to (n_samples,), for example using ravel().\n",
            "  estimator.fit(X_train, y_train, **fit_params)\n",
            "/usr/local/lib/python3.6/dist-packages/sklearn/model_selection/_validation.py:515: DataConversionWarning: A column-vector y was passed when a 1d array was expected. Please change the shape of y to (n_samples,), for example using ravel().\n",
            "  estimator.fit(X_train, y_train, **fit_params)\n",
            "/usr/local/lib/python3.6/dist-packages/sklearn/model_selection/_validation.py:515: DataConversionWarning: A column-vector y was passed when a 1d array was expected. Please change the shape of y to (n_samples,), for example using ravel().\n",
            "  estimator.fit(X_train, y_train, **fit_params)\n",
            "/usr/local/lib/python3.6/dist-packages/sklearn/model_selection/_validation.py:515: DataConversionWarning: A column-vector y was passed when a 1d array was expected. Please change the shape of y to (n_samples,), for example using ravel().\n",
            "  estimator.fit(X_train, y_train, **fit_params)\n",
            "/usr/local/lib/python3.6/dist-packages/sklearn/model_selection/_validation.py:515: DataConversionWarning: A column-vector y was passed when a 1d array was expected. Please change the shape of y to (n_samples,), for example using ravel().\n",
            "  estimator.fit(X_train, y_train, **fit_params)\n",
            "/usr/local/lib/python3.6/dist-packages/sklearn/model_selection/_validation.py:515: DataConversionWarning: A column-vector y was passed when a 1d array was expected. Please change the shape of y to (n_samples,), for example using ravel().\n",
            "  estimator.fit(X_train, y_train, **fit_params)\n",
            "/usr/local/lib/python3.6/dist-packages/sklearn/model_selection/_validation.py:515: DataConversionWarning: A column-vector y was passed when a 1d array was expected. Please change the shape of y to (n_samples,), for example using ravel().\n",
            "  estimator.fit(X_train, y_train, **fit_params)\n",
            "/usr/local/lib/python3.6/dist-packages/sklearn/model_selection/_validation.py:515: DataConversionWarning: A column-vector y was passed when a 1d array was expected. Please change the shape of y to (n_samples,), for example using ravel().\n",
            "  estimator.fit(X_train, y_train, **fit_params)\n",
            "/usr/local/lib/python3.6/dist-packages/sklearn/model_selection/_validation.py:515: DataConversionWarning: A column-vector y was passed when a 1d array was expected. Please change the shape of y to (n_samples,), for example using ravel().\n",
            "  estimator.fit(X_train, y_train, **fit_params)\n",
            "/usr/local/lib/python3.6/dist-packages/sklearn/model_selection/_validation.py:515: DataConversionWarning: A column-vector y was passed when a 1d array was expected. Please change the shape of y to (n_samples,), for example using ravel().\n",
            "  estimator.fit(X_train, y_train, **fit_params)\n",
            "/usr/local/lib/python3.6/dist-packages/sklearn/model_selection/_validation.py:515: DataConversionWarning: A column-vector y was passed when a 1d array was expected. Please change the shape of y to (n_samples,), for example using ravel().\n",
            "  estimator.fit(X_train, y_train, **fit_params)\n",
            "/usr/local/lib/python3.6/dist-packages/sklearn/model_selection/_validation.py:515: DataConversionWarning: A column-vector y was passed when a 1d array was expected. Please change the shape of y to (n_samples,), for example using ravel().\n",
            "  estimator.fit(X_train, y_train, **fit_params)\n",
            "/usr/local/lib/python3.6/dist-packages/sklearn/model_selection/_validation.py:515: DataConversionWarning: A column-vector y was passed when a 1d array was expected. Please change the shape of y to (n_samples,), for example using ravel().\n",
            "  estimator.fit(X_train, y_train, **fit_params)\n",
            "/usr/local/lib/python3.6/dist-packages/sklearn/model_selection/_validation.py:515: DataConversionWarning: A column-vector y was passed when a 1d array was expected. Please change the shape of y to (n_samples,), for example using ravel().\n",
            "  estimator.fit(X_train, y_train, **fit_params)\n",
            "/usr/local/lib/python3.6/dist-packages/sklearn/model_selection/_validation.py:515: DataConversionWarning: A column-vector y was passed when a 1d array was expected. Please change the shape of y to (n_samples,), for example using ravel().\n",
            "  estimator.fit(X_train, y_train, **fit_params)\n",
            "/usr/local/lib/python3.6/dist-packages/sklearn/model_selection/_validation.py:515: DataConversionWarning: A column-vector y was passed when a 1d array was expected. Please change the shape of y to (n_samples,), for example using ravel().\n",
            "  estimator.fit(X_train, y_train, **fit_params)\n",
            "/usr/local/lib/python3.6/dist-packages/sklearn/model_selection/_validation.py:515: DataConversionWarning: A column-vector y was passed when a 1d array was expected. Please change the shape of y to (n_samples,), for example using ravel().\n",
            "  estimator.fit(X_train, y_train, **fit_params)\n",
            "/usr/local/lib/python3.6/dist-packages/sklearn/model_selection/_validation.py:515: DataConversionWarning: A column-vector y was passed when a 1d array was expected. Please change the shape of y to (n_samples,), for example using ravel().\n",
            "  estimator.fit(X_train, y_train, **fit_params)\n",
            "/usr/local/lib/python3.6/dist-packages/sklearn/model_selection/_validation.py:515: DataConversionWarning: A column-vector y was passed when a 1d array was expected. Please change the shape of y to (n_samples,), for example using ravel().\n",
            "  estimator.fit(X_train, y_train, **fit_params)\n",
            "/usr/local/lib/python3.6/dist-packages/sklearn/model_selection/_validation.py:515: DataConversionWarning: A column-vector y was passed when a 1d array was expected. Please change the shape of y to (n_samples,), for example using ravel().\n",
            "  estimator.fit(X_train, y_train, **fit_params)\n",
            "/usr/local/lib/python3.6/dist-packages/sklearn/model_selection/_validation.py:515: DataConversionWarning: A column-vector y was passed when a 1d array was expected. Please change the shape of y to (n_samples,), for example using ravel().\n",
            "  estimator.fit(X_train, y_train, **fit_params)\n",
            "/usr/local/lib/python3.6/dist-packages/sklearn/model_selection/_validation.py:515: DataConversionWarning: A column-vector y was passed when a 1d array was expected. Please change the shape of y to (n_samples,), for example using ravel().\n",
            "  estimator.fit(X_train, y_train, **fit_params)\n",
            "/usr/local/lib/python3.6/dist-packages/sklearn/model_selection/_validation.py:515: DataConversionWarning: A column-vector y was passed when a 1d array was expected. Please change the shape of y to (n_samples,), for example using ravel().\n",
            "  estimator.fit(X_train, y_train, **fit_params)\n",
            "/usr/local/lib/python3.6/dist-packages/sklearn/model_selection/_validation.py:515: DataConversionWarning: A column-vector y was passed when a 1d array was expected. Please change the shape of y to (n_samples,), for example using ravel().\n",
            "  estimator.fit(X_train, y_train, **fit_params)\n",
            "/usr/local/lib/python3.6/dist-packages/sklearn/model_selection/_validation.py:515: DataConversionWarning: A column-vector y was passed when a 1d array was expected. Please change the shape of y to (n_samples,), for example using ravel().\n",
            "  estimator.fit(X_train, y_train, **fit_params)\n",
            "/usr/local/lib/python3.6/dist-packages/sklearn/model_selection/_validation.py:515: DataConversionWarning: A column-vector y was passed when a 1d array was expected. Please change the shape of y to (n_samples,), for example using ravel().\n",
            "  estimator.fit(X_train, y_train, **fit_params)\n",
            "/usr/local/lib/python3.6/dist-packages/sklearn/model_selection/_validation.py:515: DataConversionWarning: A column-vector y was passed when a 1d array was expected. Please change the shape of y to (n_samples,), for example using ravel().\n",
            "  estimator.fit(X_train, y_train, **fit_params)\n",
            "/usr/local/lib/python3.6/dist-packages/sklearn/model_selection/_validation.py:515: DataConversionWarning: A column-vector y was passed when a 1d array was expected. Please change the shape of y to (n_samples,), for example using ravel().\n",
            "  estimator.fit(X_train, y_train, **fit_params)\n",
            "/usr/local/lib/python3.6/dist-packages/sklearn/model_selection/_validation.py:515: DataConversionWarning: A column-vector y was passed when a 1d array was expected. Please change the shape of y to (n_samples,), for example using ravel().\n",
            "  estimator.fit(X_train, y_train, **fit_params)\n",
            "/usr/local/lib/python3.6/dist-packages/sklearn/model_selection/_validation.py:515: DataConversionWarning: A column-vector y was passed when a 1d array was expected. Please change the shape of y to (n_samples,), for example using ravel().\n",
            "  estimator.fit(X_train, y_train, **fit_params)\n",
            "/usr/local/lib/python3.6/dist-packages/sklearn/model_selection/_validation.py:515: DataConversionWarning: A column-vector y was passed when a 1d array was expected. Please change the shape of y to (n_samples,), for example using ravel().\n",
            "  estimator.fit(X_train, y_train, **fit_params)\n",
            "/usr/local/lib/python3.6/dist-packages/sklearn/model_selection/_validation.py:515: DataConversionWarning: A column-vector y was passed when a 1d array was expected. Please change the shape of y to (n_samples,), for example using ravel().\n",
            "  estimator.fit(X_train, y_train, **fit_params)\n",
            "/usr/local/lib/python3.6/dist-packages/sklearn/model_selection/_validation.py:515: DataConversionWarning: A column-vector y was passed when a 1d array was expected. Please change the shape of y to (n_samples,), for example using ravel().\n",
            "  estimator.fit(X_train, y_train, **fit_params)\n",
            "/usr/local/lib/python3.6/dist-packages/sklearn/model_selection/_validation.py:515: DataConversionWarning: A column-vector y was passed when a 1d array was expected. Please change the shape of y to (n_samples,), for example using ravel().\n",
            "  estimator.fit(X_train, y_train, **fit_params)\n",
            "/usr/local/lib/python3.6/dist-packages/sklearn/model_selection/_validation.py:515: DataConversionWarning: A column-vector y was passed when a 1d array was expected. Please change the shape of y to (n_samples,), for example using ravel().\n",
            "  estimator.fit(X_train, y_train, **fit_params)\n",
            "/usr/local/lib/python3.6/dist-packages/sklearn/model_selection/_validation.py:515: DataConversionWarning: A column-vector y was passed when a 1d array was expected. Please change the shape of y to (n_samples,), for example using ravel().\n",
            "  estimator.fit(X_train, y_train, **fit_params)\n",
            "/usr/local/lib/python3.6/dist-packages/sklearn/model_selection/_validation.py:515: DataConversionWarning: A column-vector y was passed when a 1d array was expected. Please change the shape of y to (n_samples,), for example using ravel().\n",
            "  estimator.fit(X_train, y_train, **fit_params)\n",
            "[Parallel(n_jobs=1)]: Done  21 out of  21 | elapsed:   55.7s finished\n",
            "\n",
            "[2020-05-06 03:31:03] Features: 5/12 -- score: 0.7751296290725598[Parallel(n_jobs=1)]: Using backend SequentialBackend with 1 concurrent workers.\n",
            "/usr/local/lib/python3.6/dist-packages/sklearn/model_selection/_validation.py:515: DataConversionWarning: A column-vector y was passed when a 1d array was expected. Please change the shape of y to (n_samples,), for example using ravel().\n",
            "  estimator.fit(X_train, y_train, **fit_params)\n",
            "/usr/local/lib/python3.6/dist-packages/sklearn/model_selection/_validation.py:515: DataConversionWarning: A column-vector y was passed when a 1d array was expected. Please change the shape of y to (n_samples,), for example using ravel().\n",
            "  estimator.fit(X_train, y_train, **fit_params)\n",
            "[Parallel(n_jobs=1)]: Done   1 out of   1 | elapsed:    2.5s remaining:    0.0s\n",
            "/usr/local/lib/python3.6/dist-packages/sklearn/model_selection/_validation.py:515: DataConversionWarning: A column-vector y was passed when a 1d array was expected. Please change the shape of y to (n_samples,), for example using ravel().\n",
            "  estimator.fit(X_train, y_train, **fit_params)\n",
            "/usr/local/lib/python3.6/dist-packages/sklearn/model_selection/_validation.py:515: DataConversionWarning: A column-vector y was passed when a 1d array was expected. Please change the shape of y to (n_samples,), for example using ravel().\n",
            "  estimator.fit(X_train, y_train, **fit_params)\n",
            "/usr/local/lib/python3.6/dist-packages/sklearn/model_selection/_validation.py:515: DataConversionWarning: A column-vector y was passed when a 1d array was expected. Please change the shape of y to (n_samples,), for example using ravel().\n",
            "  estimator.fit(X_train, y_train, **fit_params)\n",
            "/usr/local/lib/python3.6/dist-packages/sklearn/model_selection/_validation.py:515: DataConversionWarning: A column-vector y was passed when a 1d array was expected. Please change the shape of y to (n_samples,), for example using ravel().\n",
            "  estimator.fit(X_train, y_train, **fit_params)\n",
            "/usr/local/lib/python3.6/dist-packages/sklearn/model_selection/_validation.py:515: DataConversionWarning: A column-vector y was passed when a 1d array was expected. Please change the shape of y to (n_samples,), for example using ravel().\n",
            "  estimator.fit(X_train, y_train, **fit_params)\n",
            "/usr/local/lib/python3.6/dist-packages/sklearn/model_selection/_validation.py:515: DataConversionWarning: A column-vector y was passed when a 1d array was expected. Please change the shape of y to (n_samples,), for example using ravel().\n",
            "  estimator.fit(X_train, y_train, **fit_params)\n",
            "/usr/local/lib/python3.6/dist-packages/sklearn/model_selection/_validation.py:515: DataConversionWarning: A column-vector y was passed when a 1d array was expected. Please change the shape of y to (n_samples,), for example using ravel().\n",
            "  estimator.fit(X_train, y_train, **fit_params)\n",
            "/usr/local/lib/python3.6/dist-packages/sklearn/model_selection/_validation.py:515: DataConversionWarning: A column-vector y was passed when a 1d array was expected. Please change the shape of y to (n_samples,), for example using ravel().\n",
            "  estimator.fit(X_train, y_train, **fit_params)\n",
            "/usr/local/lib/python3.6/dist-packages/sklearn/model_selection/_validation.py:515: DataConversionWarning: A column-vector y was passed when a 1d array was expected. Please change the shape of y to (n_samples,), for example using ravel().\n",
            "  estimator.fit(X_train, y_train, **fit_params)\n",
            "/usr/local/lib/python3.6/dist-packages/sklearn/model_selection/_validation.py:515: DataConversionWarning: A column-vector y was passed when a 1d array was expected. Please change the shape of y to (n_samples,), for example using ravel().\n",
            "  estimator.fit(X_train, y_train, **fit_params)\n",
            "/usr/local/lib/python3.6/dist-packages/sklearn/model_selection/_validation.py:515: DataConversionWarning: A column-vector y was passed when a 1d array was expected. Please change the shape of y to (n_samples,), for example using ravel().\n",
            "  estimator.fit(X_train, y_train, **fit_params)\n",
            "/usr/local/lib/python3.6/dist-packages/sklearn/model_selection/_validation.py:515: DataConversionWarning: A column-vector y was passed when a 1d array was expected. Please change the shape of y to (n_samples,), for example using ravel().\n",
            "  estimator.fit(X_train, y_train, **fit_params)\n",
            "/usr/local/lib/python3.6/dist-packages/sklearn/model_selection/_validation.py:515: DataConversionWarning: A column-vector y was passed when a 1d array was expected. Please change the shape of y to (n_samples,), for example using ravel().\n",
            "  estimator.fit(X_train, y_train, **fit_params)\n",
            "/usr/local/lib/python3.6/dist-packages/sklearn/model_selection/_validation.py:515: DataConversionWarning: A column-vector y was passed when a 1d array was expected. Please change the shape of y to (n_samples,), for example using ravel().\n",
            "  estimator.fit(X_train, y_train, **fit_params)\n",
            "/usr/local/lib/python3.6/dist-packages/sklearn/model_selection/_validation.py:515: DataConversionWarning: A column-vector y was passed when a 1d array was expected. Please change the shape of y to (n_samples,), for example using ravel().\n",
            "  estimator.fit(X_train, y_train, **fit_params)\n",
            "/usr/local/lib/python3.6/dist-packages/sklearn/model_selection/_validation.py:515: DataConversionWarning: A column-vector y was passed when a 1d array was expected. Please change the shape of y to (n_samples,), for example using ravel().\n",
            "  estimator.fit(X_train, y_train, **fit_params)\n",
            "/usr/local/lib/python3.6/dist-packages/sklearn/model_selection/_validation.py:515: DataConversionWarning: A column-vector y was passed when a 1d array was expected. Please change the shape of y to (n_samples,), for example using ravel().\n",
            "  estimator.fit(X_train, y_train, **fit_params)\n",
            "/usr/local/lib/python3.6/dist-packages/sklearn/model_selection/_validation.py:515: DataConversionWarning: A column-vector y was passed when a 1d array was expected. Please change the shape of y to (n_samples,), for example using ravel().\n",
            "  estimator.fit(X_train, y_train, **fit_params)\n",
            "/usr/local/lib/python3.6/dist-packages/sklearn/model_selection/_validation.py:515: DataConversionWarning: A column-vector y was passed when a 1d array was expected. Please change the shape of y to (n_samples,), for example using ravel().\n",
            "  estimator.fit(X_train, y_train, **fit_params)\n",
            "/usr/local/lib/python3.6/dist-packages/sklearn/model_selection/_validation.py:515: DataConversionWarning: A column-vector y was passed when a 1d array was expected. Please change the shape of y to (n_samples,), for example using ravel().\n",
            "  estimator.fit(X_train, y_train, **fit_params)\n",
            "/usr/local/lib/python3.6/dist-packages/sklearn/model_selection/_validation.py:515: DataConversionWarning: A column-vector y was passed when a 1d array was expected. Please change the shape of y to (n_samples,), for example using ravel().\n",
            "  estimator.fit(X_train, y_train, **fit_params)\n",
            "/usr/local/lib/python3.6/dist-packages/sklearn/model_selection/_validation.py:515: DataConversionWarning: A column-vector y was passed when a 1d array was expected. Please change the shape of y to (n_samples,), for example using ravel().\n",
            "  estimator.fit(X_train, y_train, **fit_params)\n",
            "/usr/local/lib/python3.6/dist-packages/sklearn/model_selection/_validation.py:515: DataConversionWarning: A column-vector y was passed when a 1d array was expected. Please change the shape of y to (n_samples,), for example using ravel().\n",
            "  estimator.fit(X_train, y_train, **fit_params)\n",
            "/usr/local/lib/python3.6/dist-packages/sklearn/model_selection/_validation.py:515: DataConversionWarning: A column-vector y was passed when a 1d array was expected. Please change the shape of y to (n_samples,), for example using ravel().\n",
            "  estimator.fit(X_train, y_train, **fit_params)\n",
            "/usr/local/lib/python3.6/dist-packages/sklearn/model_selection/_validation.py:515: DataConversionWarning: A column-vector y was passed when a 1d array was expected. Please change the shape of y to (n_samples,), for example using ravel().\n",
            "  estimator.fit(X_train, y_train, **fit_params)\n",
            "/usr/local/lib/python3.6/dist-packages/sklearn/model_selection/_validation.py:515: DataConversionWarning: A column-vector y was passed when a 1d array was expected. Please change the shape of y to (n_samples,), for example using ravel().\n",
            "  estimator.fit(X_train, y_train, **fit_params)\n",
            "/usr/local/lib/python3.6/dist-packages/sklearn/model_selection/_validation.py:515: DataConversionWarning: A column-vector y was passed when a 1d array was expected. Please change the shape of y to (n_samples,), for example using ravel().\n",
            "  estimator.fit(X_train, y_train, **fit_params)\n",
            "/usr/local/lib/python3.6/dist-packages/sklearn/model_selection/_validation.py:515: DataConversionWarning: A column-vector y was passed when a 1d array was expected. Please change the shape of y to (n_samples,), for example using ravel().\n",
            "  estimator.fit(X_train, y_train, **fit_params)\n",
            "/usr/local/lib/python3.6/dist-packages/sklearn/model_selection/_validation.py:515: DataConversionWarning: A column-vector y was passed when a 1d array was expected. Please change the shape of y to (n_samples,), for example using ravel().\n",
            "  estimator.fit(X_train, y_train, **fit_params)\n",
            "/usr/local/lib/python3.6/dist-packages/sklearn/model_selection/_validation.py:515: DataConversionWarning: A column-vector y was passed when a 1d array was expected. Please change the shape of y to (n_samples,), for example using ravel().\n",
            "  estimator.fit(X_train, y_train, **fit_params)\n",
            "/usr/local/lib/python3.6/dist-packages/sklearn/model_selection/_validation.py:515: DataConversionWarning: A column-vector y was passed when a 1d array was expected. Please change the shape of y to (n_samples,), for example using ravel().\n",
            "  estimator.fit(X_train, y_train, **fit_params)\n",
            "/usr/local/lib/python3.6/dist-packages/sklearn/model_selection/_validation.py:515: DataConversionWarning: A column-vector y was passed when a 1d array was expected. Please change the shape of y to (n_samples,), for example using ravel().\n",
            "  estimator.fit(X_train, y_train, **fit_params)\n",
            "/usr/local/lib/python3.6/dist-packages/sklearn/model_selection/_validation.py:515: DataConversionWarning: A column-vector y was passed when a 1d array was expected. Please change the shape of y to (n_samples,), for example using ravel().\n",
            "  estimator.fit(X_train, y_train, **fit_params)\n",
            "/usr/local/lib/python3.6/dist-packages/sklearn/model_selection/_validation.py:515: DataConversionWarning: A column-vector y was passed when a 1d array was expected. Please change the shape of y to (n_samples,), for example using ravel().\n",
            "  estimator.fit(X_train, y_train, **fit_params)\n",
            "/usr/local/lib/python3.6/dist-packages/sklearn/model_selection/_validation.py:515: DataConversionWarning: A column-vector y was passed when a 1d array was expected. Please change the shape of y to (n_samples,), for example using ravel().\n",
            "  estimator.fit(X_train, y_train, **fit_params)\n",
            "/usr/local/lib/python3.6/dist-packages/sklearn/model_selection/_validation.py:515: DataConversionWarning: A column-vector y was passed when a 1d array was expected. Please change the shape of y to (n_samples,), for example using ravel().\n",
            "  estimator.fit(X_train, y_train, **fit_params)\n",
            "/usr/local/lib/python3.6/dist-packages/sklearn/model_selection/_validation.py:515: DataConversionWarning: A column-vector y was passed when a 1d array was expected. Please change the shape of y to (n_samples,), for example using ravel().\n",
            "  estimator.fit(X_train, y_train, **fit_params)\n",
            "/usr/local/lib/python3.6/dist-packages/sklearn/model_selection/_validation.py:515: DataConversionWarning: A column-vector y was passed when a 1d array was expected. Please change the shape of y to (n_samples,), for example using ravel().\n",
            "  estimator.fit(X_train, y_train, **fit_params)\n",
            "[Parallel(n_jobs=1)]: Done  20 out of  20 | elapsed:   50.2s finished\n",
            "\n",
            "[2020-05-06 03:31:53] Features: 6/12 -- score: 0.7815857012499312[Parallel(n_jobs=1)]: Using backend SequentialBackend with 1 concurrent workers.\n",
            "/usr/local/lib/python3.6/dist-packages/sklearn/model_selection/_validation.py:515: DataConversionWarning: A column-vector y was passed when a 1d array was expected. Please change the shape of y to (n_samples,), for example using ravel().\n",
            "  estimator.fit(X_train, y_train, **fit_params)\n",
            "/usr/local/lib/python3.6/dist-packages/sklearn/model_selection/_validation.py:515: DataConversionWarning: A column-vector y was passed when a 1d array was expected. Please change the shape of y to (n_samples,), for example using ravel().\n",
            "  estimator.fit(X_train, y_train, **fit_params)\n",
            "[Parallel(n_jobs=1)]: Done   1 out of   1 | elapsed:    2.4s remaining:    0.0s\n",
            "/usr/local/lib/python3.6/dist-packages/sklearn/model_selection/_validation.py:515: DataConversionWarning: A column-vector y was passed when a 1d array was expected. Please change the shape of y to (n_samples,), for example using ravel().\n",
            "  estimator.fit(X_train, y_train, **fit_params)\n",
            "/usr/local/lib/python3.6/dist-packages/sklearn/model_selection/_validation.py:515: DataConversionWarning: A column-vector y was passed when a 1d array was expected. Please change the shape of y to (n_samples,), for example using ravel().\n",
            "  estimator.fit(X_train, y_train, **fit_params)\n",
            "/usr/local/lib/python3.6/dist-packages/sklearn/model_selection/_validation.py:515: DataConversionWarning: A column-vector y was passed when a 1d array was expected. Please change the shape of y to (n_samples,), for example using ravel().\n",
            "  estimator.fit(X_train, y_train, **fit_params)\n",
            "/usr/local/lib/python3.6/dist-packages/sklearn/model_selection/_validation.py:515: DataConversionWarning: A column-vector y was passed when a 1d array was expected. Please change the shape of y to (n_samples,), for example using ravel().\n",
            "  estimator.fit(X_train, y_train, **fit_params)\n",
            "/usr/local/lib/python3.6/dist-packages/sklearn/model_selection/_validation.py:515: DataConversionWarning: A column-vector y was passed when a 1d array was expected. Please change the shape of y to (n_samples,), for example using ravel().\n",
            "  estimator.fit(X_train, y_train, **fit_params)\n",
            "/usr/local/lib/python3.6/dist-packages/sklearn/model_selection/_validation.py:515: DataConversionWarning: A column-vector y was passed when a 1d array was expected. Please change the shape of y to (n_samples,), for example using ravel().\n",
            "  estimator.fit(X_train, y_train, **fit_params)\n",
            "/usr/local/lib/python3.6/dist-packages/sklearn/model_selection/_validation.py:515: DataConversionWarning: A column-vector y was passed when a 1d array was expected. Please change the shape of y to (n_samples,), for example using ravel().\n",
            "  estimator.fit(X_train, y_train, **fit_params)\n",
            "/usr/local/lib/python3.6/dist-packages/sklearn/model_selection/_validation.py:515: DataConversionWarning: A column-vector y was passed when a 1d array was expected. Please change the shape of y to (n_samples,), for example using ravel().\n",
            "  estimator.fit(X_train, y_train, **fit_params)\n",
            "/usr/local/lib/python3.6/dist-packages/sklearn/model_selection/_validation.py:515: DataConversionWarning: A column-vector y was passed when a 1d array was expected. Please change the shape of y to (n_samples,), for example using ravel().\n",
            "  estimator.fit(X_train, y_train, **fit_params)\n",
            "/usr/local/lib/python3.6/dist-packages/sklearn/model_selection/_validation.py:515: DataConversionWarning: A column-vector y was passed when a 1d array was expected. Please change the shape of y to (n_samples,), for example using ravel().\n",
            "  estimator.fit(X_train, y_train, **fit_params)\n",
            "/usr/local/lib/python3.6/dist-packages/sklearn/model_selection/_validation.py:515: DataConversionWarning: A column-vector y was passed when a 1d array was expected. Please change the shape of y to (n_samples,), for example using ravel().\n",
            "  estimator.fit(X_train, y_train, **fit_params)\n",
            "/usr/local/lib/python3.6/dist-packages/sklearn/model_selection/_validation.py:515: DataConversionWarning: A column-vector y was passed when a 1d array was expected. Please change the shape of y to (n_samples,), for example using ravel().\n",
            "  estimator.fit(X_train, y_train, **fit_params)\n",
            "/usr/local/lib/python3.6/dist-packages/sklearn/model_selection/_validation.py:515: DataConversionWarning: A column-vector y was passed when a 1d array was expected. Please change the shape of y to (n_samples,), for example using ravel().\n",
            "  estimator.fit(X_train, y_train, **fit_params)\n",
            "/usr/local/lib/python3.6/dist-packages/sklearn/model_selection/_validation.py:515: DataConversionWarning: A column-vector y was passed when a 1d array was expected. Please change the shape of y to (n_samples,), for example using ravel().\n",
            "  estimator.fit(X_train, y_train, **fit_params)\n",
            "/usr/local/lib/python3.6/dist-packages/sklearn/model_selection/_validation.py:515: DataConversionWarning: A column-vector y was passed when a 1d array was expected. Please change the shape of y to (n_samples,), for example using ravel().\n",
            "  estimator.fit(X_train, y_train, **fit_params)\n",
            "/usr/local/lib/python3.6/dist-packages/sklearn/model_selection/_validation.py:515: DataConversionWarning: A column-vector y was passed when a 1d array was expected. Please change the shape of y to (n_samples,), for example using ravel().\n",
            "  estimator.fit(X_train, y_train, **fit_params)\n",
            "/usr/local/lib/python3.6/dist-packages/sklearn/model_selection/_validation.py:515: DataConversionWarning: A column-vector y was passed when a 1d array was expected. Please change the shape of y to (n_samples,), for example using ravel().\n",
            "  estimator.fit(X_train, y_train, **fit_params)\n",
            "/usr/local/lib/python3.6/dist-packages/sklearn/model_selection/_validation.py:515: DataConversionWarning: A column-vector y was passed when a 1d array was expected. Please change the shape of y to (n_samples,), for example using ravel().\n",
            "  estimator.fit(X_train, y_train, **fit_params)\n",
            "/usr/local/lib/python3.6/dist-packages/sklearn/model_selection/_validation.py:515: DataConversionWarning: A column-vector y was passed when a 1d array was expected. Please change the shape of y to (n_samples,), for example using ravel().\n",
            "  estimator.fit(X_train, y_train, **fit_params)\n",
            "/usr/local/lib/python3.6/dist-packages/sklearn/model_selection/_validation.py:515: DataConversionWarning: A column-vector y was passed when a 1d array was expected. Please change the shape of y to (n_samples,), for example using ravel().\n",
            "  estimator.fit(X_train, y_train, **fit_params)\n",
            "/usr/local/lib/python3.6/dist-packages/sklearn/model_selection/_validation.py:515: DataConversionWarning: A column-vector y was passed when a 1d array was expected. Please change the shape of y to (n_samples,), for example using ravel().\n",
            "  estimator.fit(X_train, y_train, **fit_params)\n",
            "/usr/local/lib/python3.6/dist-packages/sklearn/model_selection/_validation.py:515: DataConversionWarning: A column-vector y was passed when a 1d array was expected. Please change the shape of y to (n_samples,), for example using ravel().\n",
            "  estimator.fit(X_train, y_train, **fit_params)\n",
            "/usr/local/lib/python3.6/dist-packages/sklearn/model_selection/_validation.py:515: DataConversionWarning: A column-vector y was passed when a 1d array was expected. Please change the shape of y to (n_samples,), for example using ravel().\n",
            "  estimator.fit(X_train, y_train, **fit_params)\n",
            "/usr/local/lib/python3.6/dist-packages/sklearn/model_selection/_validation.py:515: DataConversionWarning: A column-vector y was passed when a 1d array was expected. Please change the shape of y to (n_samples,), for example using ravel().\n",
            "  estimator.fit(X_train, y_train, **fit_params)\n",
            "/usr/local/lib/python3.6/dist-packages/sklearn/model_selection/_validation.py:515: DataConversionWarning: A column-vector y was passed when a 1d array was expected. Please change the shape of y to (n_samples,), for example using ravel().\n",
            "  estimator.fit(X_train, y_train, **fit_params)\n",
            "/usr/local/lib/python3.6/dist-packages/sklearn/model_selection/_validation.py:515: DataConversionWarning: A column-vector y was passed when a 1d array was expected. Please change the shape of y to (n_samples,), for example using ravel().\n",
            "  estimator.fit(X_train, y_train, **fit_params)\n",
            "/usr/local/lib/python3.6/dist-packages/sklearn/model_selection/_validation.py:515: DataConversionWarning: A column-vector y was passed when a 1d array was expected. Please change the shape of y to (n_samples,), for example using ravel().\n",
            "  estimator.fit(X_train, y_train, **fit_params)\n",
            "/usr/local/lib/python3.6/dist-packages/sklearn/model_selection/_validation.py:515: DataConversionWarning: A column-vector y was passed when a 1d array was expected. Please change the shape of y to (n_samples,), for example using ravel().\n",
            "  estimator.fit(X_train, y_train, **fit_params)\n",
            "/usr/local/lib/python3.6/dist-packages/sklearn/model_selection/_validation.py:515: DataConversionWarning: A column-vector y was passed when a 1d array was expected. Please change the shape of y to (n_samples,), for example using ravel().\n",
            "  estimator.fit(X_train, y_train, **fit_params)\n",
            "/usr/local/lib/python3.6/dist-packages/sklearn/model_selection/_validation.py:515: DataConversionWarning: A column-vector y was passed when a 1d array was expected. Please change the shape of y to (n_samples,), for example using ravel().\n",
            "  estimator.fit(X_train, y_train, **fit_params)\n",
            "/usr/local/lib/python3.6/dist-packages/sklearn/model_selection/_validation.py:515: DataConversionWarning: A column-vector y was passed when a 1d array was expected. Please change the shape of y to (n_samples,), for example using ravel().\n",
            "  estimator.fit(X_train, y_train, **fit_params)\n",
            "/usr/local/lib/python3.6/dist-packages/sklearn/model_selection/_validation.py:515: DataConversionWarning: A column-vector y was passed when a 1d array was expected. Please change the shape of y to (n_samples,), for example using ravel().\n",
            "  estimator.fit(X_train, y_train, **fit_params)\n",
            "/usr/local/lib/python3.6/dist-packages/sklearn/model_selection/_validation.py:515: DataConversionWarning: A column-vector y was passed when a 1d array was expected. Please change the shape of y to (n_samples,), for example using ravel().\n",
            "  estimator.fit(X_train, y_train, **fit_params)\n",
            "/usr/local/lib/python3.6/dist-packages/sklearn/model_selection/_validation.py:515: DataConversionWarning: A column-vector y was passed when a 1d array was expected. Please change the shape of y to (n_samples,), for example using ravel().\n",
            "  estimator.fit(X_train, y_train, **fit_params)\n",
            "/usr/local/lib/python3.6/dist-packages/sklearn/model_selection/_validation.py:515: DataConversionWarning: A column-vector y was passed when a 1d array was expected. Please change the shape of y to (n_samples,), for example using ravel().\n",
            "  estimator.fit(X_train, y_train, **fit_params)\n",
            "/usr/local/lib/python3.6/dist-packages/sklearn/model_selection/_validation.py:515: DataConversionWarning: A column-vector y was passed when a 1d array was expected. Please change the shape of y to (n_samples,), for example using ravel().\n",
            "  estimator.fit(X_train, y_train, **fit_params)\n",
            "[Parallel(n_jobs=1)]: Done  19 out of  19 | elapsed:   46.2s finished\n",
            "\n",
            "[2020-05-06 03:32:40] Features: 7/12 -- score: 0.7862989828014739[Parallel(n_jobs=1)]: Using backend SequentialBackend with 1 concurrent workers.\n",
            "/usr/local/lib/python3.6/dist-packages/sklearn/model_selection/_validation.py:515: DataConversionWarning: A column-vector y was passed when a 1d array was expected. Please change the shape of y to (n_samples,), for example using ravel().\n",
            "  estimator.fit(X_train, y_train, **fit_params)\n",
            "/usr/local/lib/python3.6/dist-packages/sklearn/model_selection/_validation.py:515: DataConversionWarning: A column-vector y was passed when a 1d array was expected. Please change the shape of y to (n_samples,), for example using ravel().\n",
            "  estimator.fit(X_train, y_train, **fit_params)\n",
            "[Parallel(n_jobs=1)]: Done   1 out of   1 | elapsed:    2.4s remaining:    0.0s\n",
            "/usr/local/lib/python3.6/dist-packages/sklearn/model_selection/_validation.py:515: DataConversionWarning: A column-vector y was passed when a 1d array was expected. Please change the shape of y to (n_samples,), for example using ravel().\n",
            "  estimator.fit(X_train, y_train, **fit_params)\n",
            "/usr/local/lib/python3.6/dist-packages/sklearn/model_selection/_validation.py:515: DataConversionWarning: A column-vector y was passed when a 1d array was expected. Please change the shape of y to (n_samples,), for example using ravel().\n",
            "  estimator.fit(X_train, y_train, **fit_params)\n",
            "/usr/local/lib/python3.6/dist-packages/sklearn/model_selection/_validation.py:515: DataConversionWarning: A column-vector y was passed when a 1d array was expected. Please change the shape of y to (n_samples,), for example using ravel().\n",
            "  estimator.fit(X_train, y_train, **fit_params)\n",
            "/usr/local/lib/python3.6/dist-packages/sklearn/model_selection/_validation.py:515: DataConversionWarning: A column-vector y was passed when a 1d array was expected. Please change the shape of y to (n_samples,), for example using ravel().\n",
            "  estimator.fit(X_train, y_train, **fit_params)\n",
            "/usr/local/lib/python3.6/dist-packages/sklearn/model_selection/_validation.py:515: DataConversionWarning: A column-vector y was passed when a 1d array was expected. Please change the shape of y to (n_samples,), for example using ravel().\n",
            "  estimator.fit(X_train, y_train, **fit_params)\n",
            "/usr/local/lib/python3.6/dist-packages/sklearn/model_selection/_validation.py:515: DataConversionWarning: A column-vector y was passed when a 1d array was expected. Please change the shape of y to (n_samples,), for example using ravel().\n",
            "  estimator.fit(X_train, y_train, **fit_params)\n",
            "/usr/local/lib/python3.6/dist-packages/sklearn/model_selection/_validation.py:515: DataConversionWarning: A column-vector y was passed when a 1d array was expected. Please change the shape of y to (n_samples,), for example using ravel().\n",
            "  estimator.fit(X_train, y_train, **fit_params)\n",
            "/usr/local/lib/python3.6/dist-packages/sklearn/model_selection/_validation.py:515: DataConversionWarning: A column-vector y was passed when a 1d array was expected. Please change the shape of y to (n_samples,), for example using ravel().\n",
            "  estimator.fit(X_train, y_train, **fit_params)\n",
            "/usr/local/lib/python3.6/dist-packages/sklearn/model_selection/_validation.py:515: DataConversionWarning: A column-vector y was passed when a 1d array was expected. Please change the shape of y to (n_samples,), for example using ravel().\n",
            "  estimator.fit(X_train, y_train, **fit_params)\n",
            "/usr/local/lib/python3.6/dist-packages/sklearn/model_selection/_validation.py:515: DataConversionWarning: A column-vector y was passed when a 1d array was expected. Please change the shape of y to (n_samples,), for example using ravel().\n",
            "  estimator.fit(X_train, y_train, **fit_params)\n",
            "/usr/local/lib/python3.6/dist-packages/sklearn/model_selection/_validation.py:515: DataConversionWarning: A column-vector y was passed when a 1d array was expected. Please change the shape of y to (n_samples,), for example using ravel().\n",
            "  estimator.fit(X_train, y_train, **fit_params)\n",
            "/usr/local/lib/python3.6/dist-packages/sklearn/model_selection/_validation.py:515: DataConversionWarning: A column-vector y was passed when a 1d array was expected. Please change the shape of y to (n_samples,), for example using ravel().\n",
            "  estimator.fit(X_train, y_train, **fit_params)\n",
            "/usr/local/lib/python3.6/dist-packages/sklearn/model_selection/_validation.py:515: DataConversionWarning: A column-vector y was passed when a 1d array was expected. Please change the shape of y to (n_samples,), for example using ravel().\n",
            "  estimator.fit(X_train, y_train, **fit_params)\n",
            "/usr/local/lib/python3.6/dist-packages/sklearn/model_selection/_validation.py:515: DataConversionWarning: A column-vector y was passed when a 1d array was expected. Please change the shape of y to (n_samples,), for example using ravel().\n",
            "  estimator.fit(X_train, y_train, **fit_params)\n",
            "/usr/local/lib/python3.6/dist-packages/sklearn/model_selection/_validation.py:515: DataConversionWarning: A column-vector y was passed when a 1d array was expected. Please change the shape of y to (n_samples,), for example using ravel().\n",
            "  estimator.fit(X_train, y_train, **fit_params)\n",
            "/usr/local/lib/python3.6/dist-packages/sklearn/model_selection/_validation.py:515: DataConversionWarning: A column-vector y was passed when a 1d array was expected. Please change the shape of y to (n_samples,), for example using ravel().\n",
            "  estimator.fit(X_train, y_train, **fit_params)\n",
            "/usr/local/lib/python3.6/dist-packages/sklearn/model_selection/_validation.py:515: DataConversionWarning: A column-vector y was passed when a 1d array was expected. Please change the shape of y to (n_samples,), for example using ravel().\n",
            "  estimator.fit(X_train, y_train, **fit_params)\n",
            "/usr/local/lib/python3.6/dist-packages/sklearn/model_selection/_validation.py:515: DataConversionWarning: A column-vector y was passed when a 1d array was expected. Please change the shape of y to (n_samples,), for example using ravel().\n",
            "  estimator.fit(X_train, y_train, **fit_params)\n",
            "/usr/local/lib/python3.6/dist-packages/sklearn/model_selection/_validation.py:515: DataConversionWarning: A column-vector y was passed when a 1d array was expected. Please change the shape of y to (n_samples,), for example using ravel().\n",
            "  estimator.fit(X_train, y_train, **fit_params)\n",
            "/usr/local/lib/python3.6/dist-packages/sklearn/model_selection/_validation.py:515: DataConversionWarning: A column-vector y was passed when a 1d array was expected. Please change the shape of y to (n_samples,), for example using ravel().\n",
            "  estimator.fit(X_train, y_train, **fit_params)\n",
            "/usr/local/lib/python3.6/dist-packages/sklearn/model_selection/_validation.py:515: DataConversionWarning: A column-vector y was passed when a 1d array was expected. Please change the shape of y to (n_samples,), for example using ravel().\n",
            "  estimator.fit(X_train, y_train, **fit_params)\n",
            "/usr/local/lib/python3.6/dist-packages/sklearn/model_selection/_validation.py:515: DataConversionWarning: A column-vector y was passed when a 1d array was expected. Please change the shape of y to (n_samples,), for example using ravel().\n",
            "  estimator.fit(X_train, y_train, **fit_params)\n",
            "/usr/local/lib/python3.6/dist-packages/sklearn/model_selection/_validation.py:515: DataConversionWarning: A column-vector y was passed when a 1d array was expected. Please change the shape of y to (n_samples,), for example using ravel().\n",
            "  estimator.fit(X_train, y_train, **fit_params)\n",
            "/usr/local/lib/python3.6/dist-packages/sklearn/model_selection/_validation.py:515: DataConversionWarning: A column-vector y was passed when a 1d array was expected. Please change the shape of y to (n_samples,), for example using ravel().\n",
            "  estimator.fit(X_train, y_train, **fit_params)\n",
            "/usr/local/lib/python3.6/dist-packages/sklearn/model_selection/_validation.py:515: DataConversionWarning: A column-vector y was passed when a 1d array was expected. Please change the shape of y to (n_samples,), for example using ravel().\n",
            "  estimator.fit(X_train, y_train, **fit_params)\n",
            "/usr/local/lib/python3.6/dist-packages/sklearn/model_selection/_validation.py:515: DataConversionWarning: A column-vector y was passed when a 1d array was expected. Please change the shape of y to (n_samples,), for example using ravel().\n",
            "  estimator.fit(X_train, y_train, **fit_params)\n",
            "/usr/local/lib/python3.6/dist-packages/sklearn/model_selection/_validation.py:515: DataConversionWarning: A column-vector y was passed when a 1d array was expected. Please change the shape of y to (n_samples,), for example using ravel().\n",
            "  estimator.fit(X_train, y_train, **fit_params)\n",
            "/usr/local/lib/python3.6/dist-packages/sklearn/model_selection/_validation.py:515: DataConversionWarning: A column-vector y was passed when a 1d array was expected. Please change the shape of y to (n_samples,), for example using ravel().\n",
            "  estimator.fit(X_train, y_train, **fit_params)\n",
            "/usr/local/lib/python3.6/dist-packages/sklearn/model_selection/_validation.py:515: DataConversionWarning: A column-vector y was passed when a 1d array was expected. Please change the shape of y to (n_samples,), for example using ravel().\n",
            "  estimator.fit(X_train, y_train, **fit_params)\n",
            "/usr/local/lib/python3.6/dist-packages/sklearn/model_selection/_validation.py:515: DataConversionWarning: A column-vector y was passed when a 1d array was expected. Please change the shape of y to (n_samples,), for example using ravel().\n",
            "  estimator.fit(X_train, y_train, **fit_params)\n",
            "/usr/local/lib/python3.6/dist-packages/sklearn/model_selection/_validation.py:515: DataConversionWarning: A column-vector y was passed when a 1d array was expected. Please change the shape of y to (n_samples,), for example using ravel().\n",
            "  estimator.fit(X_train, y_train, **fit_params)\n",
            "/usr/local/lib/python3.6/dist-packages/sklearn/model_selection/_validation.py:515: DataConversionWarning: A column-vector y was passed when a 1d array was expected. Please change the shape of y to (n_samples,), for example using ravel().\n",
            "  estimator.fit(X_train, y_train, **fit_params)\n",
            "/usr/local/lib/python3.6/dist-packages/sklearn/model_selection/_validation.py:515: DataConversionWarning: A column-vector y was passed when a 1d array was expected. Please change the shape of y to (n_samples,), for example using ravel().\n",
            "  estimator.fit(X_train, y_train, **fit_params)\n",
            "/usr/local/lib/python3.6/dist-packages/sklearn/model_selection/_validation.py:515: DataConversionWarning: A column-vector y was passed when a 1d array was expected. Please change the shape of y to (n_samples,), for example using ravel().\n",
            "  estimator.fit(X_train, y_train, **fit_params)\n",
            "[Parallel(n_jobs=1)]: Done  18 out of  18 | elapsed:   42.5s finished\n",
            "\n",
            "[2020-05-06 03:33:22] Features: 8/12 -- score: 0.7905192639255848[Parallel(n_jobs=1)]: Using backend SequentialBackend with 1 concurrent workers.\n",
            "/usr/local/lib/python3.6/dist-packages/sklearn/model_selection/_validation.py:515: DataConversionWarning: A column-vector y was passed when a 1d array was expected. Please change the shape of y to (n_samples,), for example using ravel().\n",
            "  estimator.fit(X_train, y_train, **fit_params)\n",
            "/usr/local/lib/python3.6/dist-packages/sklearn/model_selection/_validation.py:515: DataConversionWarning: A column-vector y was passed when a 1d array was expected. Please change the shape of y to (n_samples,), for example using ravel().\n",
            "  estimator.fit(X_train, y_train, **fit_params)\n",
            "[Parallel(n_jobs=1)]: Done   1 out of   1 | elapsed:    2.6s remaining:    0.0s\n",
            "/usr/local/lib/python3.6/dist-packages/sklearn/model_selection/_validation.py:515: DataConversionWarning: A column-vector y was passed when a 1d array was expected. Please change the shape of y to (n_samples,), for example using ravel().\n",
            "  estimator.fit(X_train, y_train, **fit_params)\n",
            "/usr/local/lib/python3.6/dist-packages/sklearn/model_selection/_validation.py:515: DataConversionWarning: A column-vector y was passed when a 1d array was expected. Please change the shape of y to (n_samples,), for example using ravel().\n",
            "  estimator.fit(X_train, y_train, **fit_params)\n",
            "/usr/local/lib/python3.6/dist-packages/sklearn/model_selection/_validation.py:515: DataConversionWarning: A column-vector y was passed when a 1d array was expected. Please change the shape of y to (n_samples,), for example using ravel().\n",
            "  estimator.fit(X_train, y_train, **fit_params)\n",
            "/usr/local/lib/python3.6/dist-packages/sklearn/model_selection/_validation.py:515: DataConversionWarning: A column-vector y was passed when a 1d array was expected. Please change the shape of y to (n_samples,), for example using ravel().\n",
            "  estimator.fit(X_train, y_train, **fit_params)\n",
            "/usr/local/lib/python3.6/dist-packages/sklearn/model_selection/_validation.py:515: DataConversionWarning: A column-vector y was passed when a 1d array was expected. Please change the shape of y to (n_samples,), for example using ravel().\n",
            "  estimator.fit(X_train, y_train, **fit_params)\n",
            "/usr/local/lib/python3.6/dist-packages/sklearn/model_selection/_validation.py:515: DataConversionWarning: A column-vector y was passed when a 1d array was expected. Please change the shape of y to (n_samples,), for example using ravel().\n",
            "  estimator.fit(X_train, y_train, **fit_params)\n",
            "/usr/local/lib/python3.6/dist-packages/sklearn/model_selection/_validation.py:515: DataConversionWarning: A column-vector y was passed when a 1d array was expected. Please change the shape of y to (n_samples,), for example using ravel().\n",
            "  estimator.fit(X_train, y_train, **fit_params)\n",
            "/usr/local/lib/python3.6/dist-packages/sklearn/model_selection/_validation.py:515: DataConversionWarning: A column-vector y was passed when a 1d array was expected. Please change the shape of y to (n_samples,), for example using ravel().\n",
            "  estimator.fit(X_train, y_train, **fit_params)\n",
            "/usr/local/lib/python3.6/dist-packages/sklearn/model_selection/_validation.py:515: DataConversionWarning: A column-vector y was passed when a 1d array was expected. Please change the shape of y to (n_samples,), for example using ravel().\n",
            "  estimator.fit(X_train, y_train, **fit_params)\n",
            "/usr/local/lib/python3.6/dist-packages/sklearn/model_selection/_validation.py:515: DataConversionWarning: A column-vector y was passed when a 1d array was expected. Please change the shape of y to (n_samples,), for example using ravel().\n",
            "  estimator.fit(X_train, y_train, **fit_params)\n",
            "/usr/local/lib/python3.6/dist-packages/sklearn/model_selection/_validation.py:515: DataConversionWarning: A column-vector y was passed when a 1d array was expected. Please change the shape of y to (n_samples,), for example using ravel().\n",
            "  estimator.fit(X_train, y_train, **fit_params)\n",
            "/usr/local/lib/python3.6/dist-packages/sklearn/model_selection/_validation.py:515: DataConversionWarning: A column-vector y was passed when a 1d array was expected. Please change the shape of y to (n_samples,), for example using ravel().\n",
            "  estimator.fit(X_train, y_train, **fit_params)\n",
            "/usr/local/lib/python3.6/dist-packages/sklearn/model_selection/_validation.py:515: DataConversionWarning: A column-vector y was passed when a 1d array was expected. Please change the shape of y to (n_samples,), for example using ravel().\n",
            "  estimator.fit(X_train, y_train, **fit_params)\n",
            "/usr/local/lib/python3.6/dist-packages/sklearn/model_selection/_validation.py:515: DataConversionWarning: A column-vector y was passed when a 1d array was expected. Please change the shape of y to (n_samples,), for example using ravel().\n",
            "  estimator.fit(X_train, y_train, **fit_params)\n",
            "/usr/local/lib/python3.6/dist-packages/sklearn/model_selection/_validation.py:515: DataConversionWarning: A column-vector y was passed when a 1d array was expected. Please change the shape of y to (n_samples,), for example using ravel().\n",
            "  estimator.fit(X_train, y_train, **fit_params)\n",
            "/usr/local/lib/python3.6/dist-packages/sklearn/model_selection/_validation.py:515: DataConversionWarning: A column-vector y was passed when a 1d array was expected. Please change the shape of y to (n_samples,), for example using ravel().\n",
            "  estimator.fit(X_train, y_train, **fit_params)\n",
            "/usr/local/lib/python3.6/dist-packages/sklearn/model_selection/_validation.py:515: DataConversionWarning: A column-vector y was passed when a 1d array was expected. Please change the shape of y to (n_samples,), for example using ravel().\n",
            "  estimator.fit(X_train, y_train, **fit_params)\n",
            "/usr/local/lib/python3.6/dist-packages/sklearn/model_selection/_validation.py:515: DataConversionWarning: A column-vector y was passed when a 1d array was expected. Please change the shape of y to (n_samples,), for example using ravel().\n",
            "  estimator.fit(X_train, y_train, **fit_params)\n",
            "/usr/local/lib/python3.6/dist-packages/sklearn/model_selection/_validation.py:515: DataConversionWarning: A column-vector y was passed when a 1d array was expected. Please change the shape of y to (n_samples,), for example using ravel().\n",
            "  estimator.fit(X_train, y_train, **fit_params)\n",
            "/usr/local/lib/python3.6/dist-packages/sklearn/model_selection/_validation.py:515: DataConversionWarning: A column-vector y was passed when a 1d array was expected. Please change the shape of y to (n_samples,), for example using ravel().\n",
            "  estimator.fit(X_train, y_train, **fit_params)\n",
            "/usr/local/lib/python3.6/dist-packages/sklearn/model_selection/_validation.py:515: DataConversionWarning: A column-vector y was passed when a 1d array was expected. Please change the shape of y to (n_samples,), for example using ravel().\n",
            "  estimator.fit(X_train, y_train, **fit_params)\n",
            "/usr/local/lib/python3.6/dist-packages/sklearn/model_selection/_validation.py:515: DataConversionWarning: A column-vector y was passed when a 1d array was expected. Please change the shape of y to (n_samples,), for example using ravel().\n",
            "  estimator.fit(X_train, y_train, **fit_params)\n",
            "/usr/local/lib/python3.6/dist-packages/sklearn/model_selection/_validation.py:515: DataConversionWarning: A column-vector y was passed when a 1d array was expected. Please change the shape of y to (n_samples,), for example using ravel().\n",
            "  estimator.fit(X_train, y_train, **fit_params)\n",
            "/usr/local/lib/python3.6/dist-packages/sklearn/model_selection/_validation.py:515: DataConversionWarning: A column-vector y was passed when a 1d array was expected. Please change the shape of y to (n_samples,), for example using ravel().\n",
            "  estimator.fit(X_train, y_train, **fit_params)\n",
            "/usr/local/lib/python3.6/dist-packages/sklearn/model_selection/_validation.py:515: DataConversionWarning: A column-vector y was passed when a 1d array was expected. Please change the shape of y to (n_samples,), for example using ravel().\n",
            "  estimator.fit(X_train, y_train, **fit_params)\n",
            "/usr/local/lib/python3.6/dist-packages/sklearn/model_selection/_validation.py:515: DataConversionWarning: A column-vector y was passed when a 1d array was expected. Please change the shape of y to (n_samples,), for example using ravel().\n",
            "  estimator.fit(X_train, y_train, **fit_params)\n",
            "/usr/local/lib/python3.6/dist-packages/sklearn/model_selection/_validation.py:515: DataConversionWarning: A column-vector y was passed when a 1d array was expected. Please change the shape of y to (n_samples,), for example using ravel().\n",
            "  estimator.fit(X_train, y_train, **fit_params)\n",
            "/usr/local/lib/python3.6/dist-packages/sklearn/model_selection/_validation.py:515: DataConversionWarning: A column-vector y was passed when a 1d array was expected. Please change the shape of y to (n_samples,), for example using ravel().\n",
            "  estimator.fit(X_train, y_train, **fit_params)\n",
            "/usr/local/lib/python3.6/dist-packages/sklearn/model_selection/_validation.py:515: DataConversionWarning: A column-vector y was passed when a 1d array was expected. Please change the shape of y to (n_samples,), for example using ravel().\n",
            "  estimator.fit(X_train, y_train, **fit_params)\n",
            "/usr/local/lib/python3.6/dist-packages/sklearn/model_selection/_validation.py:515: DataConversionWarning: A column-vector y was passed when a 1d array was expected. Please change the shape of y to (n_samples,), for example using ravel().\n",
            "  estimator.fit(X_train, y_train, **fit_params)\n",
            "/usr/local/lib/python3.6/dist-packages/sklearn/model_selection/_validation.py:515: DataConversionWarning: A column-vector y was passed when a 1d array was expected. Please change the shape of y to (n_samples,), for example using ravel().\n",
            "  estimator.fit(X_train, y_train, **fit_params)\n",
            "/usr/local/lib/python3.6/dist-packages/sklearn/model_selection/_validation.py:515: DataConversionWarning: A column-vector y was passed when a 1d array was expected. Please change the shape of y to (n_samples,), for example using ravel().\n",
            "  estimator.fit(X_train, y_train, **fit_params)\n",
            "[Parallel(n_jobs=1)]: Done  17 out of  17 | elapsed:   49.5s finished\n",
            "\n",
            "[2020-05-06 03:34:11] Features: 9/12 -- score: 0.7912115446281834[Parallel(n_jobs=1)]: Using backend SequentialBackend with 1 concurrent workers.\n",
            "/usr/local/lib/python3.6/dist-packages/sklearn/model_selection/_validation.py:515: DataConversionWarning: A column-vector y was passed when a 1d array was expected. Please change the shape of y to (n_samples,), for example using ravel().\n",
            "  estimator.fit(X_train, y_train, **fit_params)\n",
            "/usr/local/lib/python3.6/dist-packages/sklearn/model_selection/_validation.py:515: DataConversionWarning: A column-vector y was passed when a 1d array was expected. Please change the shape of y to (n_samples,), for example using ravel().\n",
            "  estimator.fit(X_train, y_train, **fit_params)\n",
            "[Parallel(n_jobs=1)]: Done   1 out of   1 | elapsed:    2.6s remaining:    0.0s\n",
            "/usr/local/lib/python3.6/dist-packages/sklearn/model_selection/_validation.py:515: DataConversionWarning: A column-vector y was passed when a 1d array was expected. Please change the shape of y to (n_samples,), for example using ravel().\n",
            "  estimator.fit(X_train, y_train, **fit_params)\n",
            "/usr/local/lib/python3.6/dist-packages/sklearn/model_selection/_validation.py:515: DataConversionWarning: A column-vector y was passed when a 1d array was expected. Please change the shape of y to (n_samples,), for example using ravel().\n",
            "  estimator.fit(X_train, y_train, **fit_params)\n",
            "/usr/local/lib/python3.6/dist-packages/sklearn/model_selection/_validation.py:515: DataConversionWarning: A column-vector y was passed when a 1d array was expected. Please change the shape of y to (n_samples,), for example using ravel().\n",
            "  estimator.fit(X_train, y_train, **fit_params)\n",
            "/usr/local/lib/python3.6/dist-packages/sklearn/model_selection/_validation.py:515: DataConversionWarning: A column-vector y was passed when a 1d array was expected. Please change the shape of y to (n_samples,), for example using ravel().\n",
            "  estimator.fit(X_train, y_train, **fit_params)\n",
            "/usr/local/lib/python3.6/dist-packages/sklearn/model_selection/_validation.py:515: DataConversionWarning: A column-vector y was passed when a 1d array was expected. Please change the shape of y to (n_samples,), for example using ravel().\n",
            "  estimator.fit(X_train, y_train, **fit_params)\n",
            "/usr/local/lib/python3.6/dist-packages/sklearn/model_selection/_validation.py:515: DataConversionWarning: A column-vector y was passed when a 1d array was expected. Please change the shape of y to (n_samples,), for example using ravel().\n",
            "  estimator.fit(X_train, y_train, **fit_params)\n",
            "/usr/local/lib/python3.6/dist-packages/sklearn/model_selection/_validation.py:515: DataConversionWarning: A column-vector y was passed when a 1d array was expected. Please change the shape of y to (n_samples,), for example using ravel().\n",
            "  estimator.fit(X_train, y_train, **fit_params)\n",
            "/usr/local/lib/python3.6/dist-packages/sklearn/model_selection/_validation.py:515: DataConversionWarning: A column-vector y was passed when a 1d array was expected. Please change the shape of y to (n_samples,), for example using ravel().\n",
            "  estimator.fit(X_train, y_train, **fit_params)\n",
            "/usr/local/lib/python3.6/dist-packages/sklearn/model_selection/_validation.py:515: DataConversionWarning: A column-vector y was passed when a 1d array was expected. Please change the shape of y to (n_samples,), for example using ravel().\n",
            "  estimator.fit(X_train, y_train, **fit_params)\n",
            "/usr/local/lib/python3.6/dist-packages/sklearn/model_selection/_validation.py:515: DataConversionWarning: A column-vector y was passed when a 1d array was expected. Please change the shape of y to (n_samples,), for example using ravel().\n",
            "  estimator.fit(X_train, y_train, **fit_params)\n",
            "/usr/local/lib/python3.6/dist-packages/sklearn/model_selection/_validation.py:515: DataConversionWarning: A column-vector y was passed when a 1d array was expected. Please change the shape of y to (n_samples,), for example using ravel().\n",
            "  estimator.fit(X_train, y_train, **fit_params)\n",
            "/usr/local/lib/python3.6/dist-packages/sklearn/model_selection/_validation.py:515: DataConversionWarning: A column-vector y was passed when a 1d array was expected. Please change the shape of y to (n_samples,), for example using ravel().\n",
            "  estimator.fit(X_train, y_train, **fit_params)\n",
            "/usr/local/lib/python3.6/dist-packages/sklearn/model_selection/_validation.py:515: DataConversionWarning: A column-vector y was passed when a 1d array was expected. Please change the shape of y to (n_samples,), for example using ravel().\n",
            "  estimator.fit(X_train, y_train, **fit_params)\n",
            "/usr/local/lib/python3.6/dist-packages/sklearn/model_selection/_validation.py:515: DataConversionWarning: A column-vector y was passed when a 1d array was expected. Please change the shape of y to (n_samples,), for example using ravel().\n",
            "  estimator.fit(X_train, y_train, **fit_params)\n",
            "/usr/local/lib/python3.6/dist-packages/sklearn/model_selection/_validation.py:515: DataConversionWarning: A column-vector y was passed when a 1d array was expected. Please change the shape of y to (n_samples,), for example using ravel().\n",
            "  estimator.fit(X_train, y_train, **fit_params)\n",
            "/usr/local/lib/python3.6/dist-packages/sklearn/model_selection/_validation.py:515: DataConversionWarning: A column-vector y was passed when a 1d array was expected. Please change the shape of y to (n_samples,), for example using ravel().\n",
            "  estimator.fit(X_train, y_train, **fit_params)\n",
            "/usr/local/lib/python3.6/dist-packages/sklearn/model_selection/_validation.py:515: DataConversionWarning: A column-vector y was passed when a 1d array was expected. Please change the shape of y to (n_samples,), for example using ravel().\n",
            "  estimator.fit(X_train, y_train, **fit_params)\n",
            "/usr/local/lib/python3.6/dist-packages/sklearn/model_selection/_validation.py:515: DataConversionWarning: A column-vector y was passed when a 1d array was expected. Please change the shape of y to (n_samples,), for example using ravel().\n",
            "  estimator.fit(X_train, y_train, **fit_params)\n",
            "/usr/local/lib/python3.6/dist-packages/sklearn/model_selection/_validation.py:515: DataConversionWarning: A column-vector y was passed when a 1d array was expected. Please change the shape of y to (n_samples,), for example using ravel().\n",
            "  estimator.fit(X_train, y_train, **fit_params)\n",
            "/usr/local/lib/python3.6/dist-packages/sklearn/model_selection/_validation.py:515: DataConversionWarning: A column-vector y was passed when a 1d array was expected. Please change the shape of y to (n_samples,), for example using ravel().\n",
            "  estimator.fit(X_train, y_train, **fit_params)\n",
            "/usr/local/lib/python3.6/dist-packages/sklearn/model_selection/_validation.py:515: DataConversionWarning: A column-vector y was passed when a 1d array was expected. Please change the shape of y to (n_samples,), for example using ravel().\n",
            "  estimator.fit(X_train, y_train, **fit_params)\n",
            "/usr/local/lib/python3.6/dist-packages/sklearn/model_selection/_validation.py:515: DataConversionWarning: A column-vector y was passed when a 1d array was expected. Please change the shape of y to (n_samples,), for example using ravel().\n",
            "  estimator.fit(X_train, y_train, **fit_params)\n",
            "/usr/local/lib/python3.6/dist-packages/sklearn/model_selection/_validation.py:515: DataConversionWarning: A column-vector y was passed when a 1d array was expected. Please change the shape of y to (n_samples,), for example using ravel().\n",
            "  estimator.fit(X_train, y_train, **fit_params)\n",
            "/usr/local/lib/python3.6/dist-packages/sklearn/model_selection/_validation.py:515: DataConversionWarning: A column-vector y was passed when a 1d array was expected. Please change the shape of y to (n_samples,), for example using ravel().\n",
            "  estimator.fit(X_train, y_train, **fit_params)\n",
            "/usr/local/lib/python3.6/dist-packages/sklearn/model_selection/_validation.py:515: DataConversionWarning: A column-vector y was passed when a 1d array was expected. Please change the shape of y to (n_samples,), for example using ravel().\n",
            "  estimator.fit(X_train, y_train, **fit_params)\n",
            "/usr/local/lib/python3.6/dist-packages/sklearn/model_selection/_validation.py:515: DataConversionWarning: A column-vector y was passed when a 1d array was expected. Please change the shape of y to (n_samples,), for example using ravel().\n",
            "  estimator.fit(X_train, y_train, **fit_params)\n",
            "/usr/local/lib/python3.6/dist-packages/sklearn/model_selection/_validation.py:515: DataConversionWarning: A column-vector y was passed when a 1d array was expected. Please change the shape of y to (n_samples,), for example using ravel().\n",
            "  estimator.fit(X_train, y_train, **fit_params)\n",
            "/usr/local/lib/python3.6/dist-packages/sklearn/model_selection/_validation.py:515: DataConversionWarning: A column-vector y was passed when a 1d array was expected. Please change the shape of y to (n_samples,), for example using ravel().\n",
            "  estimator.fit(X_train, y_train, **fit_params)\n",
            "/usr/local/lib/python3.6/dist-packages/sklearn/model_selection/_validation.py:515: DataConversionWarning: A column-vector y was passed when a 1d array was expected. Please change the shape of y to (n_samples,), for example using ravel().\n",
            "  estimator.fit(X_train, y_train, **fit_params)\n",
            "/usr/local/lib/python3.6/dist-packages/sklearn/model_selection/_validation.py:515: DataConversionWarning: A column-vector y was passed when a 1d array was expected. Please change the shape of y to (n_samples,), for example using ravel().\n",
            "  estimator.fit(X_train, y_train, **fit_params)\n",
            "[Parallel(n_jobs=1)]: Done  16 out of  16 | elapsed:   41.8s finished\n",
            "\n",
            "[2020-05-06 03:34:53] Features: 10/12 -- score: 0.7948181794037337[Parallel(n_jobs=1)]: Using backend SequentialBackend with 1 concurrent workers.\n",
            "/usr/local/lib/python3.6/dist-packages/sklearn/model_selection/_validation.py:515: DataConversionWarning: A column-vector y was passed when a 1d array was expected. Please change the shape of y to (n_samples,), for example using ravel().\n",
            "  estimator.fit(X_train, y_train, **fit_params)\n",
            "/usr/local/lib/python3.6/dist-packages/sklearn/model_selection/_validation.py:515: DataConversionWarning: A column-vector y was passed when a 1d array was expected. Please change the shape of y to (n_samples,), for example using ravel().\n",
            "  estimator.fit(X_train, y_train, **fit_params)\n",
            "[Parallel(n_jobs=1)]: Done   1 out of   1 | elapsed:    2.6s remaining:    0.0s\n",
            "/usr/local/lib/python3.6/dist-packages/sklearn/model_selection/_validation.py:515: DataConversionWarning: A column-vector y was passed when a 1d array was expected. Please change the shape of y to (n_samples,), for example using ravel().\n",
            "  estimator.fit(X_train, y_train, **fit_params)\n",
            "/usr/local/lib/python3.6/dist-packages/sklearn/model_selection/_validation.py:515: DataConversionWarning: A column-vector y was passed when a 1d array was expected. Please change the shape of y to (n_samples,), for example using ravel().\n",
            "  estimator.fit(X_train, y_train, **fit_params)\n",
            "/usr/local/lib/python3.6/dist-packages/sklearn/model_selection/_validation.py:515: DataConversionWarning: A column-vector y was passed when a 1d array was expected. Please change the shape of y to (n_samples,), for example using ravel().\n",
            "  estimator.fit(X_train, y_train, **fit_params)\n",
            "/usr/local/lib/python3.6/dist-packages/sklearn/model_selection/_validation.py:515: DataConversionWarning: A column-vector y was passed when a 1d array was expected. Please change the shape of y to (n_samples,), for example using ravel().\n",
            "  estimator.fit(X_train, y_train, **fit_params)\n",
            "/usr/local/lib/python3.6/dist-packages/sklearn/model_selection/_validation.py:515: DataConversionWarning: A column-vector y was passed when a 1d array was expected. Please change the shape of y to (n_samples,), for example using ravel().\n",
            "  estimator.fit(X_train, y_train, **fit_params)\n",
            "/usr/local/lib/python3.6/dist-packages/sklearn/model_selection/_validation.py:515: DataConversionWarning: A column-vector y was passed when a 1d array was expected. Please change the shape of y to (n_samples,), for example using ravel().\n",
            "  estimator.fit(X_train, y_train, **fit_params)\n",
            "/usr/local/lib/python3.6/dist-packages/sklearn/model_selection/_validation.py:515: DataConversionWarning: A column-vector y was passed when a 1d array was expected. Please change the shape of y to (n_samples,), for example using ravel().\n",
            "  estimator.fit(X_train, y_train, **fit_params)\n",
            "/usr/local/lib/python3.6/dist-packages/sklearn/model_selection/_validation.py:515: DataConversionWarning: A column-vector y was passed when a 1d array was expected. Please change the shape of y to (n_samples,), for example using ravel().\n",
            "  estimator.fit(X_train, y_train, **fit_params)\n",
            "/usr/local/lib/python3.6/dist-packages/sklearn/model_selection/_validation.py:515: DataConversionWarning: A column-vector y was passed when a 1d array was expected. Please change the shape of y to (n_samples,), for example using ravel().\n",
            "  estimator.fit(X_train, y_train, **fit_params)\n",
            "/usr/local/lib/python3.6/dist-packages/sklearn/model_selection/_validation.py:515: DataConversionWarning: A column-vector y was passed when a 1d array was expected. Please change the shape of y to (n_samples,), for example using ravel().\n",
            "  estimator.fit(X_train, y_train, **fit_params)\n",
            "/usr/local/lib/python3.6/dist-packages/sklearn/model_selection/_validation.py:515: DataConversionWarning: A column-vector y was passed when a 1d array was expected. Please change the shape of y to (n_samples,), for example using ravel().\n",
            "  estimator.fit(X_train, y_train, **fit_params)\n",
            "/usr/local/lib/python3.6/dist-packages/sklearn/model_selection/_validation.py:515: DataConversionWarning: A column-vector y was passed when a 1d array was expected. Please change the shape of y to (n_samples,), for example using ravel().\n",
            "  estimator.fit(X_train, y_train, **fit_params)\n",
            "/usr/local/lib/python3.6/dist-packages/sklearn/model_selection/_validation.py:515: DataConversionWarning: A column-vector y was passed when a 1d array was expected. Please change the shape of y to (n_samples,), for example using ravel().\n",
            "  estimator.fit(X_train, y_train, **fit_params)\n",
            "/usr/local/lib/python3.6/dist-packages/sklearn/model_selection/_validation.py:515: DataConversionWarning: A column-vector y was passed when a 1d array was expected. Please change the shape of y to (n_samples,), for example using ravel().\n",
            "  estimator.fit(X_train, y_train, **fit_params)\n",
            "/usr/local/lib/python3.6/dist-packages/sklearn/model_selection/_validation.py:515: DataConversionWarning: A column-vector y was passed when a 1d array was expected. Please change the shape of y to (n_samples,), for example using ravel().\n",
            "  estimator.fit(X_train, y_train, **fit_params)\n",
            "/usr/local/lib/python3.6/dist-packages/sklearn/model_selection/_validation.py:515: DataConversionWarning: A column-vector y was passed when a 1d array was expected. Please change the shape of y to (n_samples,), for example using ravel().\n",
            "  estimator.fit(X_train, y_train, **fit_params)\n",
            "/usr/local/lib/python3.6/dist-packages/sklearn/model_selection/_validation.py:515: DataConversionWarning: A column-vector y was passed when a 1d array was expected. Please change the shape of y to (n_samples,), for example using ravel().\n",
            "  estimator.fit(X_train, y_train, **fit_params)\n",
            "/usr/local/lib/python3.6/dist-packages/sklearn/model_selection/_validation.py:515: DataConversionWarning: A column-vector y was passed when a 1d array was expected. Please change the shape of y to (n_samples,), for example using ravel().\n",
            "  estimator.fit(X_train, y_train, **fit_params)\n",
            "/usr/local/lib/python3.6/dist-packages/sklearn/model_selection/_validation.py:515: DataConversionWarning: A column-vector y was passed when a 1d array was expected. Please change the shape of y to (n_samples,), for example using ravel().\n",
            "  estimator.fit(X_train, y_train, **fit_params)\n",
            "/usr/local/lib/python3.6/dist-packages/sklearn/model_selection/_validation.py:515: DataConversionWarning: A column-vector y was passed when a 1d array was expected. Please change the shape of y to (n_samples,), for example using ravel().\n",
            "  estimator.fit(X_train, y_train, **fit_params)\n",
            "/usr/local/lib/python3.6/dist-packages/sklearn/model_selection/_validation.py:515: DataConversionWarning: A column-vector y was passed when a 1d array was expected. Please change the shape of y to (n_samples,), for example using ravel().\n",
            "  estimator.fit(X_train, y_train, **fit_params)\n",
            "/usr/local/lib/python3.6/dist-packages/sklearn/model_selection/_validation.py:515: DataConversionWarning: A column-vector y was passed when a 1d array was expected. Please change the shape of y to (n_samples,), for example using ravel().\n",
            "  estimator.fit(X_train, y_train, **fit_params)\n",
            "/usr/local/lib/python3.6/dist-packages/sklearn/model_selection/_validation.py:515: DataConversionWarning: A column-vector y was passed when a 1d array was expected. Please change the shape of y to (n_samples,), for example using ravel().\n",
            "  estimator.fit(X_train, y_train, **fit_params)\n",
            "/usr/local/lib/python3.6/dist-packages/sklearn/model_selection/_validation.py:515: DataConversionWarning: A column-vector y was passed when a 1d array was expected. Please change the shape of y to (n_samples,), for example using ravel().\n",
            "  estimator.fit(X_train, y_train, **fit_params)\n",
            "/usr/local/lib/python3.6/dist-packages/sklearn/model_selection/_validation.py:515: DataConversionWarning: A column-vector y was passed when a 1d array was expected. Please change the shape of y to (n_samples,), for example using ravel().\n",
            "  estimator.fit(X_train, y_train, **fit_params)\n",
            "/usr/local/lib/python3.6/dist-packages/sklearn/model_selection/_validation.py:515: DataConversionWarning: A column-vector y was passed when a 1d array was expected. Please change the shape of y to (n_samples,), for example using ravel().\n",
            "  estimator.fit(X_train, y_train, **fit_params)\n",
            "/usr/local/lib/python3.6/dist-packages/sklearn/model_selection/_validation.py:515: DataConversionWarning: A column-vector y was passed when a 1d array was expected. Please change the shape of y to (n_samples,), for example using ravel().\n",
            "  estimator.fit(X_train, y_train, **fit_params)\n",
            "/usr/local/lib/python3.6/dist-packages/sklearn/model_selection/_validation.py:515: DataConversionWarning: A column-vector y was passed when a 1d array was expected. Please change the shape of y to (n_samples,), for example using ravel().\n",
            "  estimator.fit(X_train, y_train, **fit_params)\n",
            "[Parallel(n_jobs=1)]: Done  15 out of  15 | elapsed:   38.3s finished\n",
            "\n",
            "[2020-05-06 03:35:32] Features: 11/12 -- score: 0.7946077851590393[Parallel(n_jobs=1)]: Using backend SequentialBackend with 1 concurrent workers.\n",
            "/usr/local/lib/python3.6/dist-packages/sklearn/model_selection/_validation.py:515: DataConversionWarning: A column-vector y was passed when a 1d array was expected. Please change the shape of y to (n_samples,), for example using ravel().\n",
            "  estimator.fit(X_train, y_train, **fit_params)\n",
            "/usr/local/lib/python3.6/dist-packages/sklearn/model_selection/_validation.py:515: DataConversionWarning: A column-vector y was passed when a 1d array was expected. Please change the shape of y to (n_samples,), for example using ravel().\n",
            "  estimator.fit(X_train, y_train, **fit_params)\n",
            "[Parallel(n_jobs=1)]: Done   1 out of   1 | elapsed:    2.4s remaining:    0.0s\n",
            "/usr/local/lib/python3.6/dist-packages/sklearn/model_selection/_validation.py:515: DataConversionWarning: A column-vector y was passed when a 1d array was expected. Please change the shape of y to (n_samples,), for example using ravel().\n",
            "  estimator.fit(X_train, y_train, **fit_params)\n",
            "/usr/local/lib/python3.6/dist-packages/sklearn/model_selection/_validation.py:515: DataConversionWarning: A column-vector y was passed when a 1d array was expected. Please change the shape of y to (n_samples,), for example using ravel().\n",
            "  estimator.fit(X_train, y_train, **fit_params)\n",
            "/usr/local/lib/python3.6/dist-packages/sklearn/model_selection/_validation.py:515: DataConversionWarning: A column-vector y was passed when a 1d array was expected. Please change the shape of y to (n_samples,), for example using ravel().\n",
            "  estimator.fit(X_train, y_train, **fit_params)\n",
            "/usr/local/lib/python3.6/dist-packages/sklearn/model_selection/_validation.py:515: DataConversionWarning: A column-vector y was passed when a 1d array was expected. Please change the shape of y to (n_samples,), for example using ravel().\n",
            "  estimator.fit(X_train, y_train, **fit_params)\n",
            "/usr/local/lib/python3.6/dist-packages/sklearn/model_selection/_validation.py:515: DataConversionWarning: A column-vector y was passed when a 1d array was expected. Please change the shape of y to (n_samples,), for example using ravel().\n",
            "  estimator.fit(X_train, y_train, **fit_params)\n",
            "/usr/local/lib/python3.6/dist-packages/sklearn/model_selection/_validation.py:515: DataConversionWarning: A column-vector y was passed when a 1d array was expected. Please change the shape of y to (n_samples,), for example using ravel().\n",
            "  estimator.fit(X_train, y_train, **fit_params)\n",
            "/usr/local/lib/python3.6/dist-packages/sklearn/model_selection/_validation.py:515: DataConversionWarning: A column-vector y was passed when a 1d array was expected. Please change the shape of y to (n_samples,), for example using ravel().\n",
            "  estimator.fit(X_train, y_train, **fit_params)\n",
            "/usr/local/lib/python3.6/dist-packages/sklearn/model_selection/_validation.py:515: DataConversionWarning: A column-vector y was passed when a 1d array was expected. Please change the shape of y to (n_samples,), for example using ravel().\n",
            "  estimator.fit(X_train, y_train, **fit_params)\n",
            "/usr/local/lib/python3.6/dist-packages/sklearn/model_selection/_validation.py:515: DataConversionWarning: A column-vector y was passed when a 1d array was expected. Please change the shape of y to (n_samples,), for example using ravel().\n",
            "  estimator.fit(X_train, y_train, **fit_params)\n",
            "/usr/local/lib/python3.6/dist-packages/sklearn/model_selection/_validation.py:515: DataConversionWarning: A column-vector y was passed when a 1d array was expected. Please change the shape of y to (n_samples,), for example using ravel().\n",
            "  estimator.fit(X_train, y_train, **fit_params)\n",
            "/usr/local/lib/python3.6/dist-packages/sklearn/model_selection/_validation.py:515: DataConversionWarning: A column-vector y was passed when a 1d array was expected. Please change the shape of y to (n_samples,), for example using ravel().\n",
            "  estimator.fit(X_train, y_train, **fit_params)\n",
            "/usr/local/lib/python3.6/dist-packages/sklearn/model_selection/_validation.py:515: DataConversionWarning: A column-vector y was passed when a 1d array was expected. Please change the shape of y to (n_samples,), for example using ravel().\n",
            "  estimator.fit(X_train, y_train, **fit_params)\n",
            "/usr/local/lib/python3.6/dist-packages/sklearn/model_selection/_validation.py:515: DataConversionWarning: A column-vector y was passed when a 1d array was expected. Please change the shape of y to (n_samples,), for example using ravel().\n",
            "  estimator.fit(X_train, y_train, **fit_params)\n",
            "/usr/local/lib/python3.6/dist-packages/sklearn/model_selection/_validation.py:515: DataConversionWarning: A column-vector y was passed when a 1d array was expected. Please change the shape of y to (n_samples,), for example using ravel().\n",
            "  estimator.fit(X_train, y_train, **fit_params)\n",
            "/usr/local/lib/python3.6/dist-packages/sklearn/model_selection/_validation.py:515: DataConversionWarning: A column-vector y was passed when a 1d array was expected. Please change the shape of y to (n_samples,), for example using ravel().\n",
            "  estimator.fit(X_train, y_train, **fit_params)\n",
            "/usr/local/lib/python3.6/dist-packages/sklearn/model_selection/_validation.py:515: DataConversionWarning: A column-vector y was passed when a 1d array was expected. Please change the shape of y to (n_samples,), for example using ravel().\n",
            "  estimator.fit(X_train, y_train, **fit_params)\n",
            "/usr/local/lib/python3.6/dist-packages/sklearn/model_selection/_validation.py:515: DataConversionWarning: A column-vector y was passed when a 1d array was expected. Please change the shape of y to (n_samples,), for example using ravel().\n",
            "  estimator.fit(X_train, y_train, **fit_params)\n",
            "/usr/local/lib/python3.6/dist-packages/sklearn/model_selection/_validation.py:515: DataConversionWarning: A column-vector y was passed when a 1d array was expected. Please change the shape of y to (n_samples,), for example using ravel().\n",
            "  estimator.fit(X_train, y_train, **fit_params)\n",
            "/usr/local/lib/python3.6/dist-packages/sklearn/model_selection/_validation.py:515: DataConversionWarning: A column-vector y was passed when a 1d array was expected. Please change the shape of y to (n_samples,), for example using ravel().\n",
            "  estimator.fit(X_train, y_train, **fit_params)\n",
            "/usr/local/lib/python3.6/dist-packages/sklearn/model_selection/_validation.py:515: DataConversionWarning: A column-vector y was passed when a 1d array was expected. Please change the shape of y to (n_samples,), for example using ravel().\n",
            "  estimator.fit(X_train, y_train, **fit_params)\n",
            "/usr/local/lib/python3.6/dist-packages/sklearn/model_selection/_validation.py:515: DataConversionWarning: A column-vector y was passed when a 1d array was expected. Please change the shape of y to (n_samples,), for example using ravel().\n",
            "  estimator.fit(X_train, y_train, **fit_params)\n",
            "/usr/local/lib/python3.6/dist-packages/sklearn/model_selection/_validation.py:515: DataConversionWarning: A column-vector y was passed when a 1d array was expected. Please change the shape of y to (n_samples,), for example using ravel().\n",
            "  estimator.fit(X_train, y_train, **fit_params)\n",
            "/usr/local/lib/python3.6/dist-packages/sklearn/model_selection/_validation.py:515: DataConversionWarning: A column-vector y was passed when a 1d array was expected. Please change the shape of y to (n_samples,), for example using ravel().\n",
            "  estimator.fit(X_train, y_train, **fit_params)\n",
            "/usr/local/lib/python3.6/dist-packages/sklearn/model_selection/_validation.py:515: DataConversionWarning: A column-vector y was passed when a 1d array was expected. Please change the shape of y to (n_samples,), for example using ravel().\n",
            "  estimator.fit(X_train, y_train, **fit_params)\n",
            "/usr/local/lib/python3.6/dist-packages/sklearn/model_selection/_validation.py:515: DataConversionWarning: A column-vector y was passed when a 1d array was expected. Please change the shape of y to (n_samples,), for example using ravel().\n",
            "  estimator.fit(X_train, y_train, **fit_params)\n",
            "/usr/local/lib/python3.6/dist-packages/sklearn/model_selection/_validation.py:515: DataConversionWarning: A column-vector y was passed when a 1d array was expected. Please change the shape of y to (n_samples,), for example using ravel().\n",
            "  estimator.fit(X_train, y_train, **fit_params)\n",
            "[Parallel(n_jobs=1)]: Done  14 out of  14 | elapsed:   33.7s finished\n",
            "\n",
            "[2020-05-06 03:36:05] Features: 12/12 -- score: 0.7969507251248384"
          ],
          "name": "stderr"
        },
        {
          "output_type": "execute_result",
          "data": {
            "text/plain": [
              "Index(['age', 'balance', 'housing', 'loan', 'duration', 'campaign',\n",
              "       'job_admin.', 'job_self-employed', 'job_technician', 'marital_single',\n",
              "       'education_primary', 'education_tertiary'],\n",
              "      dtype='object')"
            ]
          },
          "metadata": {
            "tags": []
          },
          "execution_count": 130
        }
      ]
    },
    {
      "cell_type": "markdown",
      "metadata": {
        "id": "jB3fJ5Pehk6x",
        "colab_type": "text"
      },
      "source": [
        "##PCA"
      ]
    },
    {
      "cell_type": "code",
      "metadata": {
        "id": "FEeBunLphoMQ",
        "colab_type": "code",
        "outputId": "1fe53b52-f913-4cdc-965c-968806b8c39b",
        "colab": {
          "base_uri": "https://localhost:8080/",
          "height": 1000
        }
      },
      "source": [
        "from sklearn.preprocessing import StandardScaler\n",
        "from sklearn.decomposition import PCA\n",
        "pca = PCA()\n",
        "pca_X=pca.fit_transform(df_features)\n",
        "pca.get_covariance()"
      ],
      "execution_count": 0,
      "outputs": [
        {
          "output_type": "execute_result",
          "data": {
            "text/plain": [
              "array([[ 1.12758107e+02, -2.52601487e-02,  3.16147670e+03,\n",
              "        -9.78809172e-01, -6.09800220e-02, -1.27117159e+01,\n",
              "         1.56600674e-01, -2.52605500e+01,  3.15118913e-02,\n",
              "        -1.88302212e-01, -1.92041535e-01,  4.12708563e-02,\n",
              "         1.50278685e-01, -1.01806596e-01,  1.03612962e+00,\n",
              "        -1.57769504e-02, -2.01769901e-01, -2.98632276e-01,\n",
              "        -2.72492568e-01,  7.32539056e-04,  1.48794460e+00,\n",
              "        -2.04616520e+00,  7.46981283e-01, -4.98804455e-01,\n",
              "        -3.94990756e-01],\n",
              "       [-2.52601487e-02,  1.77020202e-02, -2.70386137e+01,\n",
              "        -3.98321555e-04,  3.76941844e-03, -3.43373369e-01,\n",
              "         6.93363998e-03, -3.99385751e-01, -5.61741979e-03,\n",
              "        -4.25027174e-04,  5.65478006e-04,  6.23633399e-04,\n",
              "        -7.80728154e-06, -1.43672963e-04, -3.27630872e-04,\n",
              "         1.00332227e-04,  2.60030714e-06, -3.07651805e-04,\n",
              "        -1.53682311e-04,  1.44024726e-04, -9.41728017e-04,\n",
              "         1.86683462e-04,  7.74133207e-05,  8.79167025e-04,\n",
              "        -9.23946613e-04],\n",
              "       [ 3.16147670e+03, -2.70386137e+01,  9.27059895e+06,\n",
              "        -1.04037974e+02, -9.42091968e+01,  1.69057505e+04,\n",
              "        -1.37513232e+02,  1.04732171e+03,  1.16939527e+02,\n",
              "        -2.58988235e+01, -6.10150556e+01,  5.23617452e+00,\n",
              "         8.26203240e-01,  8.39619305e+01,  3.11453011e+01,\n",
              "         9.97828845e+00, -3.35539511e+01,  5.35054410e-01,\n",
              "        -1.84236855e+01,  4.59620679e+00,  3.83160191e+01,\n",
              "        -1.71932010e+01, -1.68694507e+01, -1.06434246e+02,\n",
              "         1.16547586e+02],\n",
              "       [-9.78809172e-01, -3.98321555e-04, -1.04037974e+02,\n",
              "         2.46887558e-01,  7.53170133e-03,  6.49453773e-01,\n",
              "        -3.63263823e-02,  6.17809297e+00,  4.24347190e-02,\n",
              "         6.80736046e-03,  3.62438138e-02,  9.39363523e-04,\n",
              "        -6.44192312e-03, -1.28095005e-02, -1.69745110e-02,\n",
              "        -2.49211431e-03,  1.01094492e-02, -6.02468953e-03,\n",
              "        -2.38227518e-03, -4.00922694e-03,  4.30037034e-03,\n",
              "        -4.58240068e-03,  1.90118607e-03,  2.52475675e-02,\n",
              "        -2.24552897e-02],\n",
              "       [-6.09800220e-02,  3.76941844e-03, -9.42091968e+01,\n",
              "         7.53170133e-03,  1.34556941e-01, -1.17251382e+00,\n",
              "         1.13412579e-02, -8.35723640e-01, -9.33117698e-03,\n",
              "         3.59364746e-03,  2.75770327e-03,  2.60436196e-03,\n",
              "        -1.03253378e-03, -5.80451617e-03, -1.18895778e-03,\n",
              "        -5.30803657e-04,  3.76950112e-03, -3.05889075e-03,\n",
              "         2.02962461e-03, -2.20692593e-03,  6.62676851e-03,\n",
              "        -8.54450017e-03, -1.63042927e-03,  1.29490134e-02,\n",
              "        -7.67911061e-03],\n",
              "       [-1.27117159e+01, -3.43373369e-01,  1.69057505e+04,\n",
              "         6.49453773e-01, -1.17251382e+00,  6.63205741e+04,\n",
              "        -6.74717938e+01, -4.03490729e+01,  7.13653523e-01,\n",
              "        -1.28861503e+00,  1.02001565e+00, -6.09710160e-02,\n",
              "        -3.38403427e-01, -8.71807312e-01,  1.46217181e+00,\n",
              "         3.49048817e-01,  1.06183733e-01, -2.38729680e-01,\n",
              "        -8.83563749e-01,  8.75591839e-01, -2.85943493e+00,\n",
              "         2.35795642e+00, -3.37939827e-01,  2.68242046e-01,\n",
              "         1.04575886e-01],\n",
              "       [ 1.56600674e-01,  6.93363998e-03, -1.37513232e+02,\n",
              "        -3.63263823e-02,  1.13412579e-02, -6.74717938e+01,\n",
              "         9.59773339e+00, -2.74923864e+01, -2.34458911e-01,\n",
              "        -2.15620448e-02,  1.14422188e-02,  1.17604382e-03,\n",
              "         1.56685653e-03,  2.10262122e-02, -2.08877516e-02,\n",
              "         3.11646982e-03, -4.18036041e-03, -9.63243834e-03,\n",
              "         2.40235019e-02, -9.56169825e-03,  4.75744377e-02,\n",
              "        -3.22610489e-02,  1.06818768e-02, -3.23519344e-02,\n",
              "         1.81631366e-02],\n",
              "       [-2.52605500e+01, -3.99385751e-01,  1.04732171e+03,\n",
              "         6.17809297e+00, -8.35723640e-01, -4.03490729e+01,\n",
              "        -2.74923864e+01,  1.00257658e+04,  1.04899902e+02,\n",
              "         8.76267012e-01,  8.25674370e-01, -2.53642340e-01,\n",
              "        -5.12680970e-01, -3.20571928e-01, -1.37909368e-01,\n",
              "        -1.90364308e-01,  1.65145380e-01,  3.49467759e-01,\n",
              "        -5.04576400e-01, -1.74403226e-01, -1.35279120e+00,\n",
              "         1.26020306e+00, -6.23740751e-01,  1.10630382e+00,\n",
              "        -3.45306563e-01],\n",
              "       [ 3.15118913e-02, -5.61741979e-03,  1.16939527e+02,\n",
              "         4.24347190e-02, -9.33117698e-03,  7.13653523e-01,\n",
              "        -2.34458911e-01,  1.04899902e+02,  5.30584065e+00,\n",
              "         1.04434382e-02, -1.61846287e-02, -3.36077981e-03,\n",
              "        -5.71999518e-03,  1.83433210e-02,  2.92297908e-03,\n",
              "        -1.00266767e-03, -7.26970338e-03,  7.73405610e-03,\n",
              "        -9.66968854e-04, -3.27718103e-03, -1.43092294e-02,\n",
              "         1.76435316e-02, -1.37977312e-02, -6.45129157e-03,\n",
              "         2.40238624e-02],\n",
              "       [-1.88302212e-01, -4.25027174e-04, -2.58988235e+01,\n",
              "         6.80736046e-03,  3.59364746e-03, -1.28861503e+00,\n",
              "        -2.15620448e-02,  8.76267012e-01,  1.04434382e-02,\n",
              "         1.01295461e-01, -2.46205652e-02, -3.76189688e-03,\n",
              "        -3.13702228e-03, -2.39273844e-02, -5.72759551e-03,\n",
              "        -3.99464369e-03, -1.05090246e-02, -2.37300556e-03,\n",
              "        -1.92193212e-02, -3.29640325e-03, -9.28105196e-03,\n",
              "         5.86476551e-03, -1.27091770e-02,  3.46223274e-02,\n",
              "        -2.09975555e-02],\n",
              "       [-1.92041535e-01,  5.65478006e-04, -6.10150556e+01,\n",
              "         3.62438138e-02,  2.75770327e-03,  1.02001565e+00,\n",
              "         1.14422188e-02,  8.25674370e-01, -1.61846287e-02,\n",
              "        -2.46205652e-02,  1.68925359e-01, -7.08001942e-03,\n",
              "        -5.90398391e-03, -4.50321612e-02, -1.07795319e-02,\n",
              "        -7.51805693e-03, -1.97783461e-02, -4.46607815e-03,\n",
              "        -3.61714240e-02, -6.20394438e-03,  2.45517918e-02,\n",
              "        -1.63490708e-02,  5.05036917e-02,  8.32999317e-03,\n",
              "        -6.00340190e-02],\n",
              "       [ 4.12708563e-02,  6.23633399e-04,  5.23617452e+00,\n",
              "         9.39363523e-04,  2.60436196e-03, -6.09710160e-02,\n",
              "         1.17604382e-03, -2.53642340e-01, -3.36077981e-03,\n",
              "        -3.76189688e-03, -7.08001942e-03,  3.18091624e-02,\n",
              "        -9.02098651e-04, -6.88068471e-03, -1.64705754e-03,\n",
              "        -1.14872078e-03, -3.02203048e-03, -6.82393980e-04,\n",
              "        -5.52680924e-03, -9.47931083e-04,  3.86917483e-03,\n",
              "        -4.04038904e-03, -9.36318008e-04, -4.89093165e-03,\n",
              "         5.49717112e-03],\n",
              "       [ 1.50278685e-01, -7.80728154e-06,  8.26203240e-01,\n",
              "        -6.44192312e-03, -1.03253378e-03, -3.38403427e-01,\n",
              "         1.56685653e-03, -5.12680970e-01, -5.71999518e-03,\n",
              "        -3.13702228e-03, -5.90398391e-03, -9.02098651e-04,\n",
              "         2.66753059e-02, -5.73775995e-03, -1.37347098e-03,\n",
              "        -9.57911076e-04, -2.52005232e-03, -5.69044072e-04,\n",
              "        -4.60877166e-03, -7.90473801e-04,  3.66297023e-03,\n",
              "        -4.57400435e-03,  9.71240745e-03, -5.33864583e-03,\n",
              "        -4.24255497e-03],\n",
              "       [-1.01806596e-01, -1.43672963e-04,  8.39619305e+01,\n",
              "        -1.28095005e-02, -5.80451617e-03, -8.71807312e-01,\n",
              "         2.10262122e-02, -3.20571928e-01,  1.83433210e-02,\n",
              "        -2.39273844e-02, -4.50321612e-02, -6.88068471e-03,\n",
              "        -5.73775995e-03,  1.65437203e-01, -1.04760391e-02,\n",
              "        -7.30638948e-03, -1.92214958e-02, -4.34033777e-03,\n",
              "        -3.51530341e-02, -6.02927517e-03, -6.48272079e-03,\n",
              "         6.00247611e-03, -2.51981377e-02, -8.25654930e-02,\n",
              "         1.11003591e-01],\n",
              "       [ 1.03612962e+00, -3.27630872e-04,  3.11453011e+01,\n",
              "        -1.69745110e-02, -1.18895778e-03,  1.46217181e+00,\n",
              "        -2.08877516e-02, -1.37909368e-01,  2.92297908e-03,\n",
              "        -5.72759551e-03, -1.07795319e-02, -1.64705754e-03,\n",
              "        -1.37347098e-03, -1.04760391e-02,  4.75697243e-02,\n",
              "        -1.74896022e-03, -4.60112778e-03, -1.03896434e-03,\n",
              "        -8.41472503e-03, -1.44325217e-03,  8.14473193e-03,\n",
              "        -1.17778365e-02,  9.99617801e-03, -3.93431803e-03,\n",
              "        -6.63713745e-03],\n",
              "       [-1.57769504e-02,  1.00332227e-04,  9.97828845e+00,\n",
              "        -2.49211431e-03, -5.30803657e-04,  3.49048817e-01,\n",
              "         3.11646982e-03, -1.90364308e-01, -1.00266767e-03,\n",
              "        -3.99464369e-03, -7.51805693e-03, -1.14872078e-03,\n",
              "        -9.57911076e-04, -7.30638948e-03, -1.74896022e-03,\n",
              "         3.37061097e-02, -3.20900211e-03, -7.24613379e-04,\n",
              "        -5.86875036e-03, -1.00657914e-03,  9.41109129e-04,\n",
              "        -1.53151486e-05, -2.41698867e-03, -5.16108913e-03,\n",
              "         8.14998587e-03],\n",
              "       [-2.01769901e-01,  2.60030714e-06, -3.35539511e+01,\n",
              "         1.01094492e-02,  3.76950112e-03,  1.06183733e-01,\n",
              "        -4.18036041e-03,  1.65145380e-01, -7.26970338e-03,\n",
              "        -1.05090246e-02, -1.97783461e-02, -3.02203048e-03,\n",
              "        -2.52005232e-03, -1.92214958e-02, -4.60112778e-03,\n",
              "        -3.20900211e-03,  8.34401517e-02, -1.90629764e-03,\n",
              "        -1.54393851e-02, -2.64808723e-03, -2.06658566e-03,\n",
              "         5.05441978e-04, -6.29223398e-03,  2.93119532e-02,\n",
              "        -2.25635877e-02],\n",
              "       [-2.98632276e-01, -3.07651805e-04,  5.35054410e-01,\n",
              "        -6.02468953e-03, -3.05889075e-03, -2.38729680e-01,\n",
              "        -9.63243834e-03,  3.49467759e-01,  7.73405610e-03,\n",
              "        -2.37300556e-03, -4.46607815e-03, -6.82393980e-04,\n",
              "        -5.69044072e-04, -4.34033777e-03, -1.03896434e-03,\n",
              "        -7.24613379e-04, -1.90629764e-03,  2.03171679e-02,\n",
              "        -3.48631275e-03, -5.97955182e-04, -1.12942557e-02,\n",
              "         1.35510679e-02, -2.17073249e-03,  5.88903276e-04,\n",
              "        -1.17137844e-03],\n",
              "       [-2.72492568e-01, -1.53682311e-04, -1.84236855e+01,\n",
              "        -2.38227518e-03,  2.02962461e-03, -8.83563749e-01,\n",
              "         2.40235019e-02, -5.04576400e-01, -9.66968854e-04,\n",
              "        -1.92193212e-02, -3.61714240e-02, -5.52680924e-03,\n",
              "        -4.60877166e-03, -3.51530341e-02, -8.41472503e-03,\n",
              "        -5.86875036e-03, -1.54393851e-02, -3.48631275e-03,\n",
              "         1.39801885e-01, -4.84292699e-03, -1.15214820e-02,\n",
              "         1.04145310e-02, -2.19686614e-02,  2.94241876e-02,\n",
              "        -5.90631709e-03],\n",
              "       [ 7.32539056e-04,  1.44024726e-04,  4.59620679e+00,\n",
              "        -4.00922694e-03, -2.20692593e-03,  8.75591839e-01,\n",
              "        -9.56169825e-03, -1.74403226e-01, -3.27718103e-03,\n",
              "        -3.29640325e-03, -6.20394438e-03, -9.47931083e-04,\n",
              "        -7.90473801e-04, -6.02927517e-03, -1.44325217e-03,\n",
              "        -1.00657914e-03, -2.64808723e-03, -5.97955182e-04,\n",
              "        -4.84292699e-03,  2.79904223e-02, -1.17936086e-03,\n",
              "         7.16364314e-04,  1.31721530e-03,  1.31184737e-03,\n",
              "        -2.08671541e-03],\n",
              "       [ 1.48794460e+00, -9.41728017e-04,  3.83160191e+01,\n",
              "         4.30037034e-03,  6.62676851e-03, -2.85943493e+00,\n",
              "         4.75744377e-02, -1.35279120e+00, -1.43092294e-02,\n",
              "        -9.28105196e-03,  2.45517918e-02,  3.86917483e-03,\n",
              "         3.66297023e-03, -6.48272079e-03,  8.14473193e-03,\n",
              "         9.41109129e-04, -2.06658566e-03, -1.12942557e-02,\n",
              "        -1.15214820e-02, -1.17936086e-03,  2.39614931e-01,\n",
              "        -1.70288102e-01,  2.48209674e-02, -4.33649920e-03,\n",
              "        -2.14181140e-02],\n",
              "       [-2.04616520e+00,  1.86683462e-04, -1.71932010e+01,\n",
              "        -4.58240068e-03, -8.54450017e-03,  2.35795642e+00,\n",
              "        -3.22610489e-02,  1.26020306e+00,  1.76435316e-02,\n",
              "         5.86476551e-03, -1.63490708e-02, -4.04038904e-03,\n",
              "        -4.57400435e-03,  6.00247611e-03, -1.17778365e-02,\n",
              "        -1.53151486e-05,  5.05441978e-04,  1.35510679e-02,\n",
              "         1.04145310e-02,  7.16364314e-04, -1.70288102e-01,\n",
              "         2.02870234e-01, -2.40017434e-02,  1.17789608e-03,\n",
              "         2.27649537e-02],\n",
              "       [ 7.46981283e-01,  7.74133207e-05, -1.68694507e+01,\n",
              "         1.90118607e-03, -1.63042927e-03, -3.37939827e-01,\n",
              "         1.06818768e-02, -6.23740751e-01, -1.37977312e-02,\n",
              "        -1.27091770e-02,  5.05036917e-02, -9.36318008e-04,\n",
              "         9.71240745e-03, -2.51981377e-02,  9.99617801e-03,\n",
              "        -2.41698867e-03, -6.29223398e-03, -2.17073249e-03,\n",
              "        -2.19686614e-02,  1.31721530e-03,  2.48209674e-02,\n",
              "        -2.40017434e-02,  1.28574234e-01, -7.77679713e-02,\n",
              "        -4.45820096e-02],\n",
              "       [-4.98804455e-01,  8.79167025e-04, -1.06434246e+02,\n",
              "         2.52475675e-02,  1.29490134e-02,  2.68242046e-01,\n",
              "        -3.23519344e-02,  1.10630382e+00, -6.45129157e-03,\n",
              "         3.46223274e-02,  8.32999317e-03, -4.89093165e-03,\n",
              "        -5.33864583e-03, -8.25654930e-02, -3.93431803e-03,\n",
              "        -5.16108913e-03,  2.93119532e-02,  5.88903276e-04,\n",
              "         2.94241876e-02,  1.31184737e-03, -4.33649920e-03,\n",
              "         1.17789608e-03, -7.77679713e-02,  2.49831452e-01,\n",
              "        -1.50984059e-01],\n",
              "       [-3.94990756e-01, -9.23946613e-04,  1.16547586e+02,\n",
              "        -2.24552897e-02, -7.67911061e-03,  1.04575886e-01,\n",
              "         1.81631366e-02, -3.45306563e-01,  2.40238624e-02,\n",
              "        -2.09975555e-02, -6.00340190e-02,  5.49717112e-03,\n",
              "        -4.24255497e-03,  1.11003591e-01, -6.63713745e-03,\n",
              "         8.14998587e-03, -2.25635877e-02, -1.17137844e-03,\n",
              "        -5.90631709e-03, -2.08671541e-03, -2.14181140e-02,\n",
              "         2.27649537e-02, -4.45820096e-02, -1.50984059e-01,\n",
              "         2.07650259e-01]])"
            ]
          },
          "metadata": {
            "tags": []
          },
          "execution_count": 94
        }
      ]
    },
    {
      "cell_type": "code",
      "metadata": {
        "id": "7MlzrdKUid5b",
        "colab_type": "code",
        "outputId": "88696684-c235-49f9-eab1-efbb97e47d41",
        "colab": {
          "base_uri": "https://localhost:8080/",
          "height": 34
        }
      },
      "source": [
        "explained_variance=pca.explained_variance_ratio_\n",
        "explained_variance.shape"
      ],
      "execution_count": 0,
      "outputs": [
        {
          "output_type": "execute_result",
          "data": {
            "text/plain": [
              "(25,)"
            ]
          },
          "metadata": {
            "tags": []
          },
          "execution_count": 95
        }
      ]
    },
    {
      "cell_type": "code",
      "metadata": {
        "id": "jC-xJA2Yiouh",
        "colab_type": "code",
        "outputId": "02c14ea2-4e11-4a9c-8e0d-0f77a4f5ba80",
        "colab": {
          "base_uri": "https://localhost:8080/",
          "height": 297
        }
      },
      "source": [
        "plt.figure(figsize=(6, 4))\n",
        "plt.bar(range(25), explained_variance, alpha=0.5, align='center',label='individual explained variance')\n",
        "plt.ylabel('Explained variance ratio')\n",
        "plt.xlabel('Principal components')\n",
        "plt.legend(loc='best')\n",
        "plt.tight_layout()"
      ],
      "execution_count": 0,
      "outputs": [
        {
          "output_type": "display_data",
          "data": {
            "image/png": "[encoded data removed]",
            "text/plain": [
              "<Figure size 432x288 with 1 Axes>"
            ]
          },
          "metadata": {
            "tags": [],
            "needs_background": "light"
          }
        }
      ]
    },
    {
      "cell_type": "code",
      "metadata": {
        "id": "VRiG-OZSqWxc",
        "colab_type": "code",
        "outputId": "261e421a-8de8-4c51-9743-3e9a793c46c4",
        "colab": {
          "base_uri": "https://localhost:8080/",
          "height": 1000
        }
      },
      "source": [
        "pca = PCA(n_components=2)\n",
        "pca_X=pca.fit_transform(df_features)\n",
        "pca.get_covariance()"
      ],
      "execution_count": 0,
      "outputs": [
        {
          "output_type": "execute_result",
          "data": {
            "text/plain": [
              "array([[ 4.42578445e+02, -9.13904799e-03,  3.16136114e+03,\n",
              "        -3.57090874e-02, -3.18491744e-02, -1.26008039e+01,\n",
              "        -2.82735898e-02,  3.71318590e-01,  3.97646920e-02,\n",
              "        -8.48763524e-03, -2.11199576e-02,  1.80506763e-03,\n",
              "         3.75819282e-04,  2.89156643e-02,  1.02316341e-02,\n",
              "         3.31097604e-03, -1.14885800e-02,  2.48895200e-04,\n",
              "        -6.04733270e-03,  1.32704003e-03,  1.38776646e-02,\n",
              "        -6.52510570e-03, -5.66754101e-03, -3.64229927e-02,\n",
              "         3.97735650e-02],\n",
              "       [-9.13904799e-03,  4.41495297e+02, -2.70373808e+01,\n",
              "         2.99746982e-04,  2.79160735e-04, -3.41121171e-01,\n",
              "         6.96929540e-04, -2.83880132e-03, -3.42942723e-04,\n",
              "         8.10002359e-05,  1.72970730e-04, -1.49614245e-05,\n",
              "        -9.14745293e-07, -2.40361152e-04, -9.70211036e-05,\n",
              "        -3.05583467e-05,  9.71225783e-05, -5.04334767e-07,\n",
              "         5.74722557e-05, -1.72228100e-05, -9.88555673e-05,\n",
              "         3.96283999e-05,  5.05497819e-05,  3.08379607e-04,\n",
              "        -3.39432838e-04],\n",
              "       [ 3.16136114e+03, -2.70373808e+01,  9.27059895e+06,\n",
              "        -1.04032626e+02, -9.42048288e+01,  1.69057513e+04,\n",
              "        -1.37510713e+02,  1.04841158e+03,  1.16946036e+02,\n",
              "        -2.58975667e+01, -6.10121021e+01,  5.23590876e+00,\n",
              "         8.26152262e-01,  8.39578414e+01,  3.11441698e+01,\n",
              "         9.97778905e+00, -3.35523978e+01,  5.34964155e-01,\n",
              "        -1.84229680e+01,  4.59597839e+00,  3.83145066e+01,\n",
              "        -1.71929051e+01, -1.68684657e+01, -1.06429208e+02,\n",
              "         1.16541851e+02],\n",
              "       [-3.57090874e-02,  2.99746982e-04, -1.04032626e+02,\n",
              "         4.41496395e+02,  1.04468518e-03,  6.39551918e-01,\n",
              "         7.02401635e-04, -1.23879579e-02, -1.30712684e-03,\n",
              "         2.75093777e-04,  6.98841824e-04, -5.96389751e-05,\n",
              "        -1.35192885e-05, -9.55019640e-04, -3.31930691e-04,\n",
              "        -1.07833161e-04,  3.78628517e-04, -9.00430751e-06,\n",
              "         1.96120766e-04, -4.07271069e-05, -4.66615767e-04,\n",
              "         2.22829882e-04,  1.85463568e-04,  1.20015738e-03,\n",
              "        -1.30921528e-03],\n",
              "       [-3.18491744e-02,  2.79160735e-04, -9.42048288e+01,\n",
              "         1.04468518e-03,  4.41496189e+02, -1.16523678e+00,\n",
              "         2.40463625e-03, -9.90857177e-03, -1.19474770e-03,\n",
              "         2.81787804e-04,  6.03069847e-04, -5.21539892e-05,\n",
              "        -3.30661419e-06, -8.37837225e-04, -3.37551006e-04,\n",
              "        -1.06356328e-04,  3.38457587e-04, -1.84158315e-06,\n",
              "         1.99948593e-04, -5.97034433e-05, -3.45466884e-04,\n",
              "         1.38915158e-04,  1.76019828e-04,  1.07463212e-03,\n",
              "        -1.18270463e-03],\n",
              "       [-1.26008039e+01, -3.41121171e-01,  1.69057513e+04,\n",
              "         6.39551918e-01, -1.16523678e+00,  6.63205692e+04,\n",
              "        -6.70132284e+01, -4.75058179e+01,  6.32400641e-01,\n",
              "        -1.28092967e+00,  1.01189819e+00, -6.03242716e-02,\n",
              "        -3.35800499e-01, -8.64722609e-01,  1.45265161e+00,\n",
              "         3.46989690e-01,  1.05001071e-01, -2.37299831e-01,\n",
              "        -8.77477704e-01,  8.69955394e-01, -2.83938189e+00,\n",
              "         2.34171071e+00, -3.35650119e-01,  2.64493716e-01,\n",
              "         1.05660927e-01],\n",
              "       [-2.82735898e-02,  6.96929540e-04, -1.37510713e+02,\n",
              "         7.02401635e-04,  2.40463625e-03, -6.70132284e+01,\n",
              "         4.41564946e+02,  3.45520555e-02, -2.15969027e-03,\n",
              "         1.63498581e-03, -2.33722896e-04, -6.82493520e-06,\n",
              "         3.29735274e-04, -2.13439638e-04, -1.87721746e-03,\n",
              "        -4.81365790e-04,  3.29209085e-04,  2.33648055e-04,\n",
              "         1.12887703e-03, -9.41710919e-04,  2.38130019e-03,\n",
              "        -2.15097728e-03,  5.59342180e-04,  1.11378590e-03,\n",
              "        -1.62038930e-03],\n",
              "       [ 3.71318590e-01, -2.83880132e-03,  1.04841158e+03,\n",
              "        -1.23879579e-02, -9.90857177e-03, -4.75058179e+01,\n",
              "         3.45520555e-02,  4.41650874e+02,  1.29115033e-02,\n",
              "        -2.00302634e-03, -7.74309649e-03,  6.44595042e-04,\n",
              "         3.46576172e-04,  1.02591046e-02,  2.47469950e-03,\n",
              "         8.81688555e-04, -3.91934177e-03,  2.39322861e-04,\n",
              "        -1.45023669e-03, -1.26810067e-04,  6.51652933e-03,\n",
              "        -3.72537482e-03, -1.67893287e-03, -1.23808066e-02,\n",
              "         1.32605463e-02],\n",
              "       [ 3.97646920e-02, -3.42942723e-04,  1.16946036e+02,\n",
              "        -1.30712684e-03, -1.19474770e-03,  6.32400641e-01,\n",
              "        -2.15969027e-03,  1.29115033e-02,  4.41496695e+02,\n",
              "        -3.34558784e-04, -7.62538380e-04,  6.56079369e-05,\n",
              "         8.27519232e-06,  1.05267674e-03,  4.01778502e-04,\n",
              "         1.27965833e-04, -4.22216544e-04,  5.23210451e-06,\n",
              "        -2.37783065e-04,  6.34637378e-05,  4.64832266e-04,\n",
              "        -2.01789319e-04, -2.14741785e-04, -1.33971995e-03,\n",
              "         1.46953290e-03],\n",
              "       [-8.48763524e-03,  8.10002359e-05, -2.58975667e+01,\n",
              "         2.75093777e-04,  2.81787804e-04, -1.28092967e+00,\n",
              "         1.63498581e-03, -2.00302634e-03, -3.34558784e-04,\n",
              "         4.41495312e+02,  1.49403335e-04, -1.33181873e-05,\n",
              "         4.01164427e-06, -2.15479091e-04, -1.13157943e-04,\n",
              "        -3.40345566e-05,  9.06199741e-05,  2.96971148e-06,\n",
              "         6.72778400e-05, -2.89815824e-05, -5.25308853e-05,\n",
              "         3.57034214e-06,  5.28367991e-05,  2.88734011e-04,\n",
              "        -3.23574702e-04],\n",
              "       [-2.11199576e-02,  1.72970730e-04, -6.10121021e+01,\n",
              "         6.98841824e-04,  6.03069847e-04,  1.01189819e+00,\n",
              "        -2.33722896e-04, -7.74309649e-03, -7.62538380e-04,\n",
              "         1.49403335e-04,  4.41495638e+02, -3.56522620e-05,\n",
              "        -1.11907723e-05, -5.69934673e-04, -1.81168335e-04,\n",
              "        -6.00612376e-05,  2.23661811e-04, -7.58513015e-06,\n",
              "         1.06857930e-04, -1.55529638e-05, -3.01792006e-04,\n",
              "         1.53633187e-04,  1.05820403e-04,  7.08292306e-04,\n",
              "        -7.68850168e-04],\n",
              "       [ 1.80506763e-03, -1.49614245e-05,  5.23590876e+00,\n",
              "        -5.96389751e-05, -5.21539892e-05, -6.03242716e-02,\n",
              "        -6.82493520e-06,  6.44595042e-04,  6.56079369e-05,\n",
              "        -1.33181873e-05, -3.56522620e-05,  4.41495220e+02,\n",
              "         8.24545062e-07,  4.85005544e-05,  1.61094742e-05,\n",
              "         5.28669934e-06, -1.91271896e-05,  5.54993646e-07,\n",
              "        -9.51008055e-06,  1.68163706e-06,  2.47276129e-05,\n",
              "        -1.22288883e-05, -9.20401260e-06, -6.05992527e-05,\n",
              "         6.59377996e-05],\n",
              "       [ 3.75819282e-04, -9.14745293e-07,  8.26152262e-01,\n",
              "        -1.35192885e-05, -3.30661419e-06, -3.35800499e-01,\n",
              "         3.29735274e-04,  3.46576172e-04,  8.27519232e-06,\n",
              "         4.01164427e-06, -1.11907723e-05,  8.24545062e-07,\n",
              "         4.41495219e+02,  1.26961341e-05, -4.37470120e-06,\n",
              "        -7.95025901e-07, -3.84148023e-06,  1.26823987e-06,\n",
              "         2.68092338e-06, -4.00381391e-06,  1.83172089e-05,\n",
              "        -1.36882314e-05,  5.84739808e-08, -1.18340263e-05,\n",
              "         1.09336160e-05],\n",
              "       [ 2.89156643e-02, -2.40361152e-04,  8.39578414e+01,\n",
              "        -9.55019640e-04, -8.37837225e-04, -8.64722609e-01,\n",
              "        -2.13439638e-04,  1.02591046e-02,  1.05267674e-03,\n",
              "        -2.15479091e-04, -5.69934673e-04,  4.85005544e-05,\n",
              "         1.26961341e-05,  4.41495993e+02,  2.60490001e-04,\n",
              "         8.52844593e-05, -3.06445760e-04,  8.52814524e-06,\n",
              "        -1.53808809e-04,  2.83072138e-05,  3.91975480e-04,\n",
              "        -1.92393596e-04, -1.48061370e-04, -9.70995152e-04,\n",
              "         1.05714669e-03],\n",
              "       [ 1.02316341e-02, -9.70211036e-05,  3.11441698e+01,\n",
              "        -3.31930691e-04, -3.37551006e-04,  1.45265161e+00,\n",
              "        -1.87721746e-03,  2.47469950e-03,  4.01778502e-04,\n",
              "        -1.13157943e-04, -1.81168335e-04,  1.61094742e-05,\n",
              "        -4.37470120e-06,  2.60490001e-04,  4.41495351e+02,\n",
              "         4.04913224e-05, -1.09200275e-04, -3.25370188e-06,\n",
              "        -7.97827194e-05,  3.37044133e-05,  6.70514783e-05,\n",
              "        -7.45719472e-06, -6.31345912e-05, -3.47840144e-04,\n",
              "         3.89270363e-04],\n",
              "       [ 3.31097604e-03, -3.05583467e-05,  9.97778905e+00,\n",
              "        -1.07833161e-04, -1.06356328e-04,  3.46989690e-01,\n",
              "        -4.81365790e-04,  8.81688555e-04,  1.27965833e-04,\n",
              "        -3.40345566e-05, -6.00612376e-05,  5.28669934e-06,\n",
              "        -7.95025901e-07,  8.52844593e-05,  4.04913224e-05,\n",
              "         4.41495229e+02, -3.52837802e-05, -6.13956583e-07,\n",
              "        -2.40429363e-05,  9.24881991e-06,  2.67127277e-05,\n",
              "        -6.65612653e-06, -1.96784737e-05, -1.12263602e-04,\n",
              "         1.24904358e-04],\n",
              "       [-1.14885800e-02,  9.71225783e-05, -3.35523978e+01,\n",
              "         3.78628517e-04,  3.38457587e-04,  1.05001071e-01,\n",
              "         3.29209085e-04, -3.91934177e-03, -4.22216544e-04,\n",
              "         9.06199741e-05,  2.23661811e-04, -1.91271896e-05,\n",
              "        -3.84148023e-06, -3.06445760e-04, -1.09200275e-04,\n",
              "        -3.52837802e-05,  4.41495339e+02, -2.53761521e-06,\n",
              "         6.45502608e-05, -1.44602139e-05, -1.46017947e-04,\n",
              "         6.82171928e-05,  6.02842223e-05,  3.86367151e-04,\n",
              "        -4.22081178e-04],\n",
              "       [ 2.48895200e-04, -5.04334767e-07,  5.34964155e-01,\n",
              "        -9.00430751e-06, -1.84158315e-06, -2.37299831e-01,\n",
              "         2.33648055e-04,  2.39322861e-04,  5.23210451e-06,\n",
              "         2.96971148e-06, -7.58513015e-06,  5.54993646e-07,\n",
              "         1.26823987e-06,  8.52814524e-06, -3.25370188e-06,\n",
              "        -6.13956583e-07, -2.53761521e-06,  4.41495218e+02,\n",
              "         1.99046975e-06, -2.85242584e-06,  1.27383584e-05,\n",
              "        -9.57923571e-06,  1.29803116e-07, -7.80125676e-06,\n",
              "         7.11214865e-06],\n",
              "       [-6.04733270e-03,  5.74722557e-05, -1.84229680e+01,\n",
              "         1.96120766e-04,  1.99948593e-04, -8.77477704e-01,\n",
              "         1.12887703e-03, -1.45023669e-03, -2.37783065e-04,\n",
              "         6.72778400e-05,  1.06857930e-04, -9.51008055e-06,\n",
              "         2.68092338e-06, -1.53808809e-04, -7.97827194e-05,\n",
              "        -2.40429363e-05,  6.45502608e-05,  1.99046975e-06,\n",
              "         4.41495264e+02, -2.01753043e-05, -3.88603580e-05,\n",
              "         3.75608493e-06,  3.74306964e-05,  2.05634152e-04,\n",
              "        -2.30238809e-04],\n",
              "       [ 1.32704003e-03, -1.72228100e-05,  4.59597839e+00,\n",
              "        -4.07271069e-05, -5.97034433e-05,  8.69955394e-01,\n",
              "        -9.41710919e-04, -1.26810067e-04,  6.34637378e-05,\n",
              "        -2.89815824e-05, -1.55529638e-05,  1.68163706e-06,\n",
              "        -4.00381391e-06,  2.83072138e-05,  3.37044133e-05,\n",
              "         9.24881991e-06, -1.44602139e-05, -2.85242584e-06,\n",
              "        -2.01753043e-05,  4.41495231e+02, -1.90697266e-05,\n",
              "         2.25258023e-05, -1.23523035e-05, -4.67654530e-05,\n",
              "         5.63810090e-05],\n",
              "       [ 1.38776646e-02, -9.88555673e-05,  3.83145066e+01,\n",
              "        -4.66615767e-04, -3.45466884e-04, -2.83938189e+00,\n",
              "         2.38130019e-03,  6.51652933e-03,  4.64832266e-04,\n",
              "        -5.25308853e-05, -3.01792006e-04,  2.47276129e-05,\n",
              "         1.83172089e-05,  3.91975480e-04,  6.70514783e-05,\n",
              "         2.67127277e-05, -1.46017947e-04,  1.27383584e-05,\n",
              "        -3.88603580e-05, -1.90697266e-05,  4.41495504e+02,\n",
              "        -1.75904913e-04, -5.62487901e-05, -4.60143657e-04,\n",
              "         4.86401161e-04],\n",
              "       [-6.52510570e-03,  3.96283999e-05, -1.71929051e+01,\n",
              "         2.22829882e-04,  1.38915158e-04,  2.34171071e+00,\n",
              "        -2.15097728e-03, -3.72537482e-03, -2.01789319e-04,\n",
              "         3.57034214e-06,  1.53633187e-04, -1.22288883e-05,\n",
              "        -1.36882314e-05, -1.92393596e-04, -7.45719472e-06,\n",
              "        -6.65612653e-06,  6.82171928e-05, -9.57923571e-06,\n",
              "         3.75608493e-06,  2.25258023e-05, -1.75904913e-04,\n",
              "         4.41495334e+02,  2.02974567e-05,  2.13915718e-04,\n",
              "        -2.19995987e-04],\n",
              "       [-5.66754101e-03,  5.05497819e-05, -1.68684657e+01,\n",
              "         1.85463568e-04,  1.76019828e-04, -3.35650119e-01,\n",
              "         5.59342180e-04, -1.67893287e-03, -2.14741785e-04,\n",
              "         5.28367991e-05,  1.05820403e-04, -9.20401260e-06,\n",
              "         5.84739808e-08, -1.48061370e-04, -6.31345912e-05,\n",
              "        -1.96784737e-05,  6.02842223e-05,  1.29803116e-07,\n",
              "         3.74306964e-05, -1.23523035e-05, -5.62487901e-05,\n",
              "         2.02974567e-05,  4.41495249e+02,  1.91540856e-04,\n",
              "        -2.11570836e-04],\n",
              "       [-3.64229927e-02,  3.08379607e-04, -1.06429208e+02,\n",
              "         1.20015738e-03,  1.07463212e-03,  2.64493716e-01,\n",
              "         1.11378590e-03, -1.23808066e-02, -1.33971995e-03,\n",
              "         2.88734011e-04,  7.08292306e-04, -6.05992527e-05,\n",
              "        -1.18340263e-05, -9.70995152e-04, -3.47840144e-04,\n",
              "        -1.12263602e-04,  3.86367151e-04, -7.80125676e-06,\n",
              "         2.05634152e-04, -4.67654530e-05, -4.60143657e-04,\n",
              "         2.13915718e-04,  1.91540856e-04,  4.41496442e+02,\n",
              "        -1.33874281e-03],\n",
              "       [ 3.97735650e-02, -3.39432838e-04,  1.16541851e+02,\n",
              "        -1.30921528e-03, -1.18270463e-03,  1.05660927e-01,\n",
              "        -1.62038930e-03,  1.32605463e-02,  1.46953290e-03,\n",
              "        -3.23574702e-04, -7.68850168e-04,  6.59377996e-05,\n",
              "         1.09336160e-05,  1.05714669e-03,  3.89270363e-04,\n",
              "         1.24904358e-04, -4.22081178e-04,  7.11214865e-06,\n",
              "        -2.30238809e-04,  5.63810090e-05,  4.86401161e-04,\n",
              "        -2.19995987e-04, -2.11570836e-04, -1.33874281e-03,\n",
              "         4.41496682e+02]])"
            ]
          },
          "metadata": {
            "tags": []
          },
          "execution_count": 97
        }
      ]
    },
    {
      "cell_type": "code",
      "metadata": {
        "id": "pj6IvRrLrFMe",
        "colab_type": "code",
        "outputId": "4087249d-01f2-4b3d-fb9e-cf0bad1539b4",
        "colab": {
          "base_uri": "https://localhost:8080/",
          "height": 34
        }
      },
      "source": [
        "explained_variance=pca.explained_variance_ratio_\n",
        "explained_variance"
      ],
      "execution_count": 0,
      "outputs": [
        {
          "output_type": "execute_result",
          "data": {
            "text/plain": [
              "array([0.99182161, 0.00709202])"
            ]
          },
          "metadata": {
            "tags": []
          },
          "execution_count": 98
        }
      ]
    },
    {
      "cell_type": "code",
      "metadata": {
        "id": "9Bv5sYEC-Ho6",
        "colab_type": "code",
        "outputId": "8831e853-5e00-49c7-fe31-253eeb57d5fe",
        "colab": {
          "base_uri": "https://localhost:8080/",
          "height": 298
        }
      },
      "source": [
        "plt.figure(figsize=(8,4))\n",
        "plt.title('PCA Components')\n",
        "plt.scatter(pca_X[:,0], pca_X[:,1])"
      ],
      "execution_count": 0,
      "outputs": [
        {
          "output_type": "execute_result",
          "data": {
            "text/plain": [
              "<matplotlib.collections.PathCollection at 0x7f9ae30ea128>"
            ]
          },
          "metadata": {
            "tags": []
          },
          "execution_count": 122
        },
        {
          "output_type": "display_data",
          "data": {
            "image/png": "[encoded data removed]",
            "text/plain": [
              "<Figure size 576x288 with 1 Axes>"
            ]
          },
          "metadata": {
            "tags": [],
            "needs_background": "light"
          }
        }
      ]
    },
    {
      "cell_type": "markdown",
      "metadata": {
        "id": "vfkp4TxbscoU",
        "colab_type": "text"
      },
      "source": [
        "##ICA"
      ]
    },
    {
      "cell_type": "code",
      "metadata": {
        "id": "NbxNOShDsbrr",
        "colab_type": "code",
        "outputId": "1de97fed-8013-466f-b9a7-f5f20c1562ce",
        "colab": {
          "base_uri": "https://localhost:8080/",
          "height": 34
        }
      },
      "source": [
        "from sklearn.decomposition import FastICA \n",
        "ica = FastICA(n_components=3, random_state=2) \n",
        "ica_X=ica.fit_transform(df_features)\n",
        "ica_X.shape"
      ],
      "execution_count": 0,
      "outputs": [
        {
          "output_type": "execute_result",
          "data": {
            "text/plain": [
              "(45211, 3)"
            ]
          },
          "metadata": {
            "tags": []
          },
          "execution_count": 99
        }
      ]
    },
    {
      "cell_type": "code",
      "metadata": {
        "id": "BgiIoQrC-LJO",
        "colab_type": "code",
        "outputId": "82aac747-99a0-479c-a8c1-03baa2d49e20",
        "colab": {
          "base_uri": "https://localhost:8080/",
          "height": 298
        }
      },
      "source": [
        "plt.figure(figsize=(8,4))\n",
        "plt.title('ICA Components')\n",
        "plt.scatter(ica_X[:,0], ica_X[:,1])\n",
        "plt.scatter(ica_X[:,1], ica_X[:,2])\n",
        "plt.scatter(ica_X[:,2], ica_X[:,0])"
      ],
      "execution_count": 0,
      "outputs": [
        {
          "output_type": "execute_result",
          "data": {
            "text/plain": [
              "<matplotlib.collections.PathCollection at 0x7f9ae8654be0>"
            ]
          },
          "metadata": {
            "tags": []
          },
          "execution_count": 100
        },
        {
          "output_type": "display_data",
          "data": {
            "image/png": "[encoded data removed]",
            "text/plain": [
              "<Figure size 576x288 with 1 Axes>"
            ]
          },
          "metadata": {
            "tags": [],
            "needs_background": "light"
          }
        }
      ]
    },
    {
      "cell_type": "markdown",
      "metadata": {
        "id": "qued0LK8Q3Fa",
        "colab_type": "text"
      },
      "source": [
        "##RCA"
      ]
    },
    {
      "cell_type": "code",
      "metadata": {
        "id": "4hjuMoimQ6FM",
        "colab_type": "code",
        "outputId": "a7d8e3f4-ce36-41b2-9db0-47e8cf61d7b4",
        "colab": {
          "base_uri": "https://localhost:8080/",
          "height": 34
        }
      },
      "source": [
        "from sklearn.random_projection import GaussianRandomProjection\n",
        "rca = GaussianRandomProjection(n_components=3, eps=0.1, random_state=2)\n",
        "rca_X=rca.fit_transform(df_features)\n",
        "rca_X.shape"
      ],
      "execution_count": 0,
      "outputs": [
        {
          "output_type": "execute_result",
          "data": {
            "text/plain": [
              "(45211, 3)"
            ]
          },
          "metadata": {
            "tags": []
          },
          "execution_count": 90
        }
      ]
    },
    {
      "cell_type": "code",
      "metadata": {
        "id": "diAGVRd7Uidu",
        "colab_type": "code",
        "outputId": "a03b593e-c764-4206-83b3-4009290800f9",
        "colab": {
          "base_uri": "https://localhost:8080/",
          "height": 516
        }
      },
      "source": [
        "plt.figure(figsize=(12,8))\n",
        "plt.title('RCA Components')\n",
        "plt.scatter(rca_X[:,0], rca_X[:,1])\n",
        "plt.scatter(rca_X[:,1], rca_X[:,2])\n",
        "plt.scatter(rca_X[:,2], rca_X[:,0])"
      ],
      "execution_count": 0,
      "outputs": [
        {
          "output_type": "execute_result",
          "data": {
            "text/plain": [
              "<matplotlib.collections.PathCollection at 0x7f9ae3781128>"
            ]
          },
          "metadata": {
            "tags": []
          },
          "execution_count": 91
        },
        {
          "output_type": "display_data",
          "data": {
            "image/png": "[encoded data removed]",
            "text/plain": [
              "<Figure size 864x576 with 1 Axes>"
            ]
          },
          "metadata": {
            "tags": [],
            "needs_background": "light"
          }
        }
      ]
    },
    {
      "cell_type": "markdown",
      "metadata": {
        "id": "xAKQSGpqwwAG",
        "colab_type": "text"
      },
      "source": [
        "#K-Means"
      ]
    },
    {
      "cell_type": "code",
      "metadata": {
        "id": "WxzSjvMJwvWA",
        "colab_type": "code",
        "outputId": "9d81e39a-a348-455b-e94b-6728c1ad294d",
        "colab": {
          "base_uri": "https://localhost:8080/",
          "height": 265
        }
      },
      "source": [
        "# plot data\n",
        "plt.scatter(\n",
        "   df_features[:, 0], df_features[:, 1],\n",
        "   c='white', marker='o',\n",
        "   edgecolor='black', s=50\n",
        ")\n",
        "plt.show()"
      ],
      "execution_count": 0,
      "outputs": [
        {
          "output_type": "display_data",
          "data": {
            "image/png": "[encoded data removed]",
            "text/plain": [
              "<Figure size 432x288 with 1 Axes>"
            ]
          },
          "metadata": {
            "tags": [],
            "needs_background": "light"
          }
        }
      ]
    },
    {
      "cell_type": "code",
      "metadata": {
        "id": "unn_wtJ3w08y",
        "colab_type": "code",
        "outputId": "c8628474-bc46-4d76-b5dc-c6ae43c446c5",
        "colab": {
          "base_uri": "https://localhost:8080/",
          "height": 295
        }
      },
      "source": [
        "##Determining number of clusters\n",
        "from sklearn.cluster import KMeans \n",
        "Sum_of_squared_distances = []\n",
        "K = range(1,16)\n",
        "for k in K:\n",
        "    km = KMeans(n_clusters=k, n_init=10, max_iter=300, init = 'k-means++', random_state = 2)\n",
        "    km=km.fit(df_features)\n",
        "    Sum_of_squared_distances.append(km.inertia_)\n",
        "##Checking out which SSE is low for different types of k means value\n",
        "plt.plot(K,Sum_of_squared_distances, 'bx-')\n",
        "plt.xlabel('k')\n",
        "plt.ylabel('Sum_of_squared_distances')\n",
        "plt.title('Elbow method for optimal k')\n",
        "plt.show()"
      ],
      "execution_count": 0,
      "outputs": [
        {
          "output_type": "display_data",
          "data": {
            "image/png": "[encoded data removed]",
            "text/plain": [
              "<Figure size 432x288 with 1 Axes>"
            ]
          },
          "metadata": {
            "tags": [],
            "needs_background": "light"
          }
        }
      ]
    },
    {
      "cell_type": "code",
      "metadata": {
        "id": "AXntBAaew6Zj",
        "colab_type": "code",
        "outputId": "f46253c4-ca4a-4275-a54b-aef1a705a05e",
        "colab": {
          "base_uri": "https://localhost:8080/",
          "height": 282
        }
      },
      "source": [
        "# Fitting K-Means to the dataset\n",
        "from scipy import stats\n",
        "\n",
        "kmeans = KMeans(n_clusters = 2, n_init=10, max_iter=300, init = 'k-means++', random_state = 2)\n",
        "prediction = kmeans.fit_predict(df_features)\n",
        "print(prediction)\n",
        "\n",
        "plt.scatter(df_features[:, 0], df_features[:, 1], c=prediction, s=50)\n",
        "centers = kmeans.cluster_centers_"
      ],
      "execution_count": 0,
      "outputs": [
        {
          "output_type": "stream",
          "text": [
            "[0 0 0 ... 0 0 0]\n"
          ],
          "name": "stdout"
        },
        {
          "output_type": "display_data",
          "data": {
            "image/png": "[encoded data removed]",
            "text/plain": [
              "<Figure size 432x288 with 1 Axes>"
            ]
          },
          "metadata": {
            "tags": [],
            "needs_background": "light"
          }
        }
      ]
    },
    {
      "cell_type": "code",
      "metadata": {
        "id": "OmRGwiEy9PKs",
        "colab_type": "code",
        "outputId": "5ad3b396-64c5-45eb-c49c-b1f0e9afb9bf",
        "colab": {
          "base_uri": "https://localhost:8080/",
          "height": 282
        }
      },
      "source": [
        "centers = kmeans.cluster_centers_\n",
        "plt.scatter(centers[:, 0], centers[:, 1], c='red', s=200, alpha=0.5)"
      ],
      "execution_count": 0,
      "outputs": [
        {
          "output_type": "execute_result",
          "data": {
            "text/plain": [
              "<matplotlib.collections.PathCollection at 0x7f9ae85bd6d8>"
            ]
          },
          "metadata": {
            "tags": []
          },
          "execution_count": 102
        },
        {
          "output_type": "display_data",
          "data": {
            "image/png": "[encoded data removed]",
            "text/plain": [
              "<Figure size 432x288 with 1 Axes>"
            ]
          },
          "metadata": {
            "tags": [],
            "needs_background": "light"
          }
        }
      ]
    },
    {
      "cell_type": "markdown",
      "metadata": {
        "id": "0XWPeUfZAzJT",
        "colab_type": "text"
      },
      "source": [
        "##With Feature Selection"
      ]
    },
    {
      "cell_type": "code",
      "metadata": {
        "id": "TH4wjuGvA8WN",
        "colab_type": "code",
        "outputId": "e11966af-f5cf-4fb4-c48e-cf87c11a81ed",
        "colab": {
          "base_uri": "https://localhost:8080/",
          "height": 134
        }
      },
      "source": [
        "df_fs=df_features1[['age', 'balance', 'housing', 'loan', 'duration', 'campaign',\n",
        "       'job_admin.', 'job_self-employed', 'job_technician', 'marital_single',\n",
        "       'education_primary', 'education_tertiary']].values\n",
        "df_fs"
      ],
      "execution_count": 0,
      "outputs": [
        {
          "output_type": "execute_result",
          "data": {
            "text/plain": [
              "array([[  58, 2143,    1, ...,    0,    0,    1],\n",
              "       [  44,   29,    1, ...,    1,    0,    0],\n",
              "       [  33,    2,    1, ...,    0,    0,    0],\n",
              "       ...,\n",
              "       [  72, 5715,    0, ...,    0,    0,    0],\n",
              "       [  57,  668,    0, ...,    0,    0,    0],\n",
              "       [  37, 2971,    0, ...,    0,    0,    0]])"
            ]
          },
          "metadata": {
            "tags": []
          },
          "execution_count": 134
        }
      ]
    },
    {
      "cell_type": "code",
      "metadata": {
        "id": "aHR4S99qGnrp",
        "colab_type": "code",
        "outputId": "28d651d1-8eae-4ba5-8b09-8b351b08e7a4",
        "colab": {
          "base_uri": "https://localhost:8080/",
          "height": 295
        }
      },
      "source": [
        "##Determining number of clusters\n",
        "from sklearn.cluster import KMeans \n",
        "Sum_of_squared_distances = []\n",
        "K = range(1,16)\n",
        "for k in K:\n",
        "    km = KMeans(n_clusters=k, n_init=10, max_iter=300, init = 'k-means++', random_state = 2)\n",
        "    km=km.fit(df_fs)\n",
        "    Sum_of_squared_distances.append(km.inertia_)\n",
        "##Checking out which SSE is low for different types of k means value\n",
        "plt.plot(K,Sum_of_squared_distances, 'bx-')\n",
        "plt.xlabel('k')\n",
        "plt.ylabel('Sum_of_squared_distances')\n",
        "plt.title('Elbow method for optimal k')\n",
        "plt.show()"
      ],
      "execution_count": 0,
      "outputs": [
        {
          "output_type": "display_data",
          "data": {
            "image/png": "[encoded data removed]",
            "text/plain": [
              "<Figure size 432x288 with 1 Axes>"
            ]
          },
          "metadata": {
            "tags": [],
            "needs_background": "light"
          }
        }
      ]
    },
    {
      "cell_type": "code",
      "metadata": {
        "id": "OrYjQ6ADHF1d",
        "colab_type": "code",
        "outputId": "36778d2c-a1eb-4f27-fdd5-3497258a659a",
        "colab": {
          "base_uri": "https://localhost:8080/",
          "height": 298
        }
      },
      "source": [
        "# Fitting K-Means to the dataset\n",
        "from scipy import stats\n",
        "\n",
        "kmeans = KMeans(n_clusters = 2, n_init=10, max_iter=300, init = 'k-means++', random_state = 2)\n",
        "prediction = kmeans.fit_predict(df_fs)\n",
        "print(prediction)\n",
        "\n",
        "plt.scatter(df_fs[:, 0], df_fs[:, 1], c=prediction, s=50, cmap='viridis_r')"
      ],
      "execution_count": 0,
      "outputs": [
        {
          "output_type": "stream",
          "text": [
            "[0 0 0 ... 0 0 0]\n"
          ],
          "name": "stdout"
        },
        {
          "output_type": "execute_result",
          "data": {
            "text/plain": [
              "<matplotlib.collections.PathCollection at 0x7f9ae52cd208>"
            ]
          },
          "metadata": {
            "tags": []
          },
          "execution_count": 136
        },
        {
          "output_type": "display_data",
          "data": {
            "image/png": "[encoded data removed]",
            "text/plain": [
              "<Figure size 432x288 with 1 Axes>"
            ]
          },
          "metadata": {
            "tags": [],
            "needs_background": "light"
          }
        }
      ]
    },
    {
      "cell_type": "code",
      "metadata": {
        "id": "mS7erpXUHKiW",
        "colab_type": "code",
        "outputId": "c7f8fd99-fc8b-49a5-a408-36c6139904e3",
        "colab": {
          "base_uri": "https://localhost:8080/",
          "height": 282
        }
      },
      "source": [
        "centers = kmeans.cluster_centers_\n",
        "plt.scatter(centers[:, 0], centers[:, 1], c='red', s=200, alpha=0.5)"
      ],
      "execution_count": 0,
      "outputs": [
        {
          "output_type": "execute_result",
          "data": {
            "text/plain": [
              "<matplotlib.collections.PathCollection at 0x7f9ae37428d0>"
            ]
          },
          "metadata": {
            "tags": []
          },
          "execution_count": 137
        },
        {
          "output_type": "display_data",
          "data": {
            "image/png": "[encoded data removed]",
            "text/plain": [
              "<Figure size 432x288 with 1 Axes>"
            ]
          },
          "metadata": {
            "tags": [],
            "needs_background": "light"
          }
        }
      ]
    },
    {
      "cell_type": "markdown",
      "metadata": {
        "id": "1GhrxCjtriTc",
        "colab_type": "text"
      },
      "source": [
        "##With PCA"
      ]
    },
    {
      "cell_type": "code",
      "metadata": {
        "id": "wPeO-fV5rh_d",
        "colab_type": "code",
        "outputId": "15cc0d17-70ca-4321-c1cf-491e00a3a106",
        "colab": {
          "base_uri": "https://localhost:8080/",
          "height": 295
        }
      },
      "source": [
        "##Determining number of clusters\n",
        "from sklearn.cluster import KMeans \n",
        "Sum_of_squared_distances = []\n",
        "K = range(1,16)\n",
        "for k in K:\n",
        "    km = KMeans(n_clusters=k, n_init=10, max_iter=300, init = 'k-means++', random_state = 2)\n",
        "    km=km.fit(pca_X)\n",
        "    Sum_of_squared_distances.append(km.inertia_)\n",
        "##Checking out which SSE is low for different types of k means value\n",
        "plt.plot(K,Sum_of_squared_distances, 'bx-')\n",
        "plt.xlabel('k')\n",
        "plt.ylabel('Sum_of_squared_distances')\n",
        "plt.title('Elbow method for optimal k')\n",
        "plt.show()"
      ],
      "execution_count": 0,
      "outputs": [
        {
          "output_type": "display_data",
          "data": {
            "image/png": "[encoded data removed]",
            "text/plain": [
              "<Figure size 432x288 with 1 Axes>"
            ]
          },
          "metadata": {
            "tags": [],
            "needs_background": "light"
          }
        }
      ]
    },
    {
      "cell_type": "code",
      "metadata": {
        "id": "vjOAtJ6usTUm",
        "colab_type": "code",
        "outputId": "08e9e133-c71d-414c-fc77-aa3552441005",
        "colab": {
          "base_uri": "https://localhost:8080/",
          "height": 298
        }
      },
      "source": [
        "# Fitting K-Means to the dataset\n",
        "from scipy import stats\n",
        "\n",
        "kmeans = KMeans(n_clusters = 2, n_init=10, max_iter=300, init = 'k-means++', random_state = 2)\n",
        "prediction = kmeans.fit_predict(pca_X)\n",
        "print(prediction)\n",
        "\n",
        "plt.scatter(pca_X[:, 0], pca_X[:, 1], c=prediction, s=50, cmap='viridis_r')\n",
        "centers = kmeans.cluster_centers_\n",
        "centers = kmeans.cluster_centers_\n",
        "plt.scatter(centers[:, 0], centers[:, 1], c='red', s=200, alpha=0.5)"
      ],
      "execution_count": 0,
      "outputs": [
        {
          "output_type": "stream",
          "text": [
            "[0 0 0 ... 0 0 0]\n"
          ],
          "name": "stdout"
        },
        {
          "output_type": "execute_result",
          "data": {
            "text/plain": [
              "<matplotlib.collections.PathCollection at 0x7f9ae35fd3c8>"
            ]
          },
          "metadata": {
            "tags": []
          },
          "execution_count": 107
        },
        {
          "output_type": "display_data",
          "data": {
            "image/png": "[encoded data removed]",
            "text/plain": [
              "<Figure size 432x288 with 1 Axes>"
            ]
          },
          "metadata": {
            "tags": [],
            "needs_background": "light"
          }
        }
      ]
    },
    {
      "cell_type": "markdown",
      "metadata": {
        "id": "eCL4Or4BN5JW",
        "colab_type": "text"
      },
      "source": [
        "##With ICA"
      ]
    },
    {
      "cell_type": "code",
      "metadata": {
        "id": "z5CqO12qPWWZ",
        "colab_type": "code",
        "outputId": "f0603282-29ad-499d-81f3-938f90c85675",
        "colab": {
          "base_uri": "https://localhost:8080/",
          "height": 295
        }
      },
      "source": [
        "##Determining number of clusters\n",
        "from sklearn.cluster import KMeans \n",
        "Sum_of_squared_distances = []\n",
        "K = range(1,16)\n",
        "for k in K:\n",
        "    km = KMeans(n_clusters=k, n_init=10, max_iter=300, init = 'k-means++', random_state = 2)\n",
        "    km=km.fit(ica_X)\n",
        "    Sum_of_squared_distances.append(km.inertia_)\n",
        "##Checking out which SSE is low for different types of k means value\n",
        "plt.plot(K,Sum_of_squared_distances, 'bx-')\n",
        "plt.xlabel('k')\n",
        "plt.ylabel('Sum_of_squared_distances')\n",
        "plt.title('Elbow method for optimal k')\n",
        "plt.show()"
      ],
      "execution_count": 0,
      "outputs": [
        {
          "output_type": "display_data",
          "data": {
            "image/png": "[encoded data removed]",
            "text/plain": [
              "<Figure size 432x288 with 1 Axes>"
            ]
          },
          "metadata": {
            "tags": [],
            "needs_background": "light"
          }
        }
      ]
    },
    {
      "cell_type": "code",
      "metadata": {
        "id": "Hpq7po3UPeVy",
        "colab_type": "code",
        "outputId": "2b06a6dc-e95a-4abb-eddc-9aa45a1ab9ad",
        "colab": {
          "base_uri": "https://localhost:8080/",
          "height": 298
        }
      },
      "source": [
        "# Fitting K-Means to the dataset\n",
        "from scipy import stats\n",
        "\n",
        "kmeans = KMeans(n_clusters = 2, n_init=10, max_iter=300, init = 'k-means++', random_state = 2)\n",
        "prediction = kmeans.fit_predict(ica_X)\n",
        "print(prediction)\n",
        "\n",
        "plt.scatter(ica_X[:, 0], ica_X[:, 1], c=prediction, s=50, cmap='viridis_r')\n",
        "centers = kmeans.cluster_centers_\n",
        "centers = kmeans.cluster_centers_\n",
        "plt.scatter(centers[:, 0], centers[:, 1], c='red', s=200, alpha=0.5)"
      ],
      "execution_count": 0,
      "outputs": [
        {
          "output_type": "stream",
          "text": [
            "[0 0 0 ... 1 0 1]\n"
          ],
          "name": "stdout"
        },
        {
          "output_type": "execute_result",
          "data": {
            "text/plain": [
              "<matplotlib.collections.PathCollection at 0x7f9ae33dab00>"
            ]
          },
          "metadata": {
            "tags": []
          },
          "execution_count": 113
        },
        {
          "output_type": "display_data",
          "data": {
            "image/png": "[encoded data removed]",
            "text/plain": [
              "<Figure size 432x288 with 1 Axes>"
            ]
          },
          "metadata": {
            "tags": [],
            "needs_background": "light"
          }
        }
      ]
    },
    {
      "cell_type": "markdown",
      "metadata": {
        "id": "N_YpUzP5U15i",
        "colab_type": "text"
      },
      "source": [
        "##With RCA"
      ]
    },
    {
      "cell_type": "code",
      "metadata": {
        "id": "E15NXUvnU1aJ",
        "colab_type": "code",
        "outputId": "4757c80a-e07a-4ed1-905a-808f5e48827b",
        "colab": {
          "base_uri": "https://localhost:8080/",
          "height": 295
        }
      },
      "source": [
        "##Determining number of clusters\n",
        "from sklearn.cluster import KMeans \n",
        "Sum_of_squared_distances = []\n",
        "K = range(1,16)\n",
        "for k in K:\n",
        "    km = KMeans(n_clusters=k, n_init=10, max_iter=300, init = 'k-means++', random_state = 2)\n",
        "    km=km.fit(rca_X)\n",
        "    Sum_of_squared_distances.append(km.inertia_)\n",
        "##Checking out which SSE is low for different types of k means value\n",
        "plt.plot(K,Sum_of_squared_distances, 'bx-')\n",
        "plt.xlabel('k')\n",
        "plt.ylabel('Sum_of_squared_distances')\n",
        "plt.title('Elbow method for optimal k')\n",
        "plt.show()"
      ],
      "execution_count": 0,
      "outputs": [
        {
          "output_type": "display_data",
          "data": {
            "image/png": "[encoded data removed]",
            "text/plain": [
              "<Figure size 432x288 with 1 Axes>"
            ]
          },
          "metadata": {
            "tags": [],
            "needs_background": "light"
          }
        }
      ]
    },
    {
      "cell_type": "code",
      "metadata": {
        "id": "n3vQx6QbVjl_",
        "colab_type": "code",
        "outputId": "5efb2775-e12e-48ab-fdd1-dd9b57da8a2f",
        "colab": {
          "base_uri": "https://localhost:8080/",
          "height": 298
        }
      },
      "source": [
        "# Fitting K-Means to the dataset\n",
        "from scipy import stats\n",
        "\n",
        "kmeans = KMeans(n_clusters = 2, n_init=10, max_iter=300, init = 'k-means++', random_state = 2)\n",
        "prediction = kmeans.fit_predict(rca_X)\n",
        "print(prediction)\n",
        "\n",
        "plt.scatter(rca_X[:, 0], rca_X[:, 1], c=prediction, s=50, cmap='viridis_r')\n",
        "centers = kmeans.cluster_centers_\n",
        "centers = kmeans.cluster_centers_\n",
        "plt.scatter(centers[:, 0], centers[:, 1], c='red', s=200, alpha=0.5)"
      ],
      "execution_count": 0,
      "outputs": [
        {
          "output_type": "stream",
          "text": [
            "[0 0 0 ... 0 0 0]\n"
          ],
          "name": "stdout"
        },
        {
          "output_type": "execute_result",
          "data": {
            "text/plain": [
              "<matplotlib.collections.PathCollection at 0x7f9ae31eddd8>"
            ]
          },
          "metadata": {
            "tags": []
          },
          "execution_count": 117
        },
        {
          "output_type": "display_data",
          "data": {
            "image/png": "[encoded data removed]",
            "text/plain": [
              "<Figure size 432x288 with 1 Axes>"
            ]
          },
          "metadata": {
            "tags": [],
            "needs_background": "light"
          }
        }
      ]
    },
    {
      "cell_type": "markdown",
      "metadata": {
        "id": "gcwsN5gNaOTZ",
        "colab_type": "text"
      },
      "source": [
        "#Expectation Maximization"
      ]
    },
    {
      "cell_type": "code",
      "metadata": {
        "id": "8wG2T4BiaN3J",
        "colab_type": "code",
        "outputId": "3eed2bda-73bf-42e8-8f5f-53f22ec19e36",
        "colab": {
          "base_uri": "https://localhost:8080/",
          "height": 282
        }
      },
      "source": [
        "## Expectation maximization analysis\n",
        "from sklearn.mixture import GaussianMixture\n",
        "em = GaussianMixture(n_components=2,random_state=2,covariance_type='tied')\n",
        "em_pred = em.fit_predict(df_features)\n",
        "em_probs = em.predict_proba(df_features)\n",
        "#em.means_\n",
        "#em.covariances_\n",
        "plt.scatter(df_features[:, 0], df_features[:, 1], c=em_pred, s=50, cmap='viridis_r')"
      ],
      "execution_count": 0,
      "outputs": [
        {
          "output_type": "execute_result",
          "data": {
            "text/plain": [
              "<matplotlib.collections.PathCollection at 0x7f9ae31d3eb8>"
            ]
          },
          "metadata": {
            "tags": []
          },
          "execution_count": 118
        },
        {
          "output_type": "display_data",
          "data": {
            "image/png": "[encoded data removed]",
            "text/plain": [
              "<Figure size 432x288 with 1 Axes>"
            ]
          },
          "metadata": {
            "tags": [],
            "needs_background": "light"
          }
        }
      ]
    },
    {
      "cell_type": "markdown",
      "metadata": {
        "id": "H5xfZO-cA6b7",
        "colab_type": "text"
      },
      "source": [
        "##With Feature Selection"
      ]
    },
    {
      "cell_type": "code",
      "metadata": {
        "id": "68OBFJfjA7s2",
        "colab_type": "code",
        "outputId": "36ba31d1-e56a-4303-8af6-58686c4b3f57",
        "colab": {
          "base_uri": "https://localhost:8080/",
          "height": 282
        }
      },
      "source": [
        "## Expectation maximization analysis\n",
        "from sklearn.mixture import GaussianMixture\n",
        "em = GaussianMixture(n_components=2,random_state=2,covariance_type='tied')\n",
        "em_pred = em.fit_predict(df_fs)\n",
        "em_probs = em.predict_proba(df_fs)\n",
        "#em.means_\n",
        "#em.covariances_\n",
        "plt.scatter(df_fs[:, 0], df_fs[:, 1], c=em_pred, s=50, cmap='viridis_r')"
      ],
      "execution_count": 0,
      "outputs": [
        {
          "output_type": "execute_result",
          "data": {
            "text/plain": [
              "<matplotlib.collections.PathCollection at 0x7f9ae86d5c18>"
            ]
          },
          "metadata": {
            "tags": []
          },
          "execution_count": 138
        },
        {
          "output_type": "display_data",
          "data": {
            "image/png": "[encoded data removed]",
            "text/plain": [
              "<Figure size 432x288 with 1 Axes>"
            ]
          },
          "metadata": {
            "tags": [],
            "needs_background": "light"
          }
        }
      ]
    },
    {
      "cell_type": "markdown",
      "metadata": {
        "id": "oW7LEJprhVWE",
        "colab_type": "text"
      },
      "source": [
        "##With PCA"
      ]
    },
    {
      "cell_type": "code",
      "metadata": {
        "id": "UzrdQ54DhVDp",
        "colab_type": "code",
        "outputId": "bf7a667c-ed53-4b10-9607-db3261fa8813",
        "colab": {
          "base_uri": "https://localhost:8080/",
          "height": 282
        }
      },
      "source": [
        "## Expectation maximization analysis\n",
        "from sklearn.mixture import GaussianMixture\n",
        "em = GaussianMixture(n_components=2,random_state=2,covariance_type='tied')\n",
        "em_pred = em.fit_predict(pca_X)\n",
        "em_probs = em.predict_proba(pca_X)\n",
        "#em.means_\n",
        "#em.covariances_\n",
        "plt.scatter(pca_X[:, 0], pca_X[:, 1], c=em_pred, s=50, cmap='viridis_r')"
      ],
      "execution_count": 0,
      "outputs": [
        {
          "output_type": "execute_result",
          "data": {
            "text/plain": [
              "<matplotlib.collections.PathCollection at 0x7f9ae3139668>"
            ]
          },
          "metadata": {
            "tags": []
          },
          "execution_count": 119
        },
        {
          "output_type": "display_data",
          "data": {
            "image/png": "[encoded data removed]",
            "text/plain": [
              "<Figure size 432x288 with 1 Axes>"
            ]
          },
          "metadata": {
            "tags": [],
            "needs_background": "light"
          }
        }
      ]
    },
    {
      "cell_type": "markdown",
      "metadata": {
        "id": "d1bRXS0YhsuN",
        "colab_type": "text"
      },
      "source": [
        "##With ICA"
      ]
    },
    {
      "cell_type": "code",
      "metadata": {
        "id": "RN4ojSjghvDG",
        "colab_type": "code",
        "outputId": "68422d8d-d00c-43f6-f5a3-65fd9a487281",
        "colab": {
          "base_uri": "https://localhost:8080/",
          "height": 282
        }
      },
      "source": [
        "## Expectation maximization analysis\n",
        "from sklearn.mixture import GaussianMixture\n",
        "em = GaussianMixture(n_components=2,random_state=2,covariance_type='tied')\n",
        "em_pred = em.fit_predict(ica_X)\n",
        "em_probs = em.predict_proba(ica_X)\n",
        "#em.means_\n",
        "#em.covariances_\n",
        "plt.scatter(ica_X[:, 0], ica_X[:, 1], c=em_pred, s=50, cmap='viridis_r')"
      ],
      "execution_count": 0,
      "outputs": [
        {
          "output_type": "execute_result",
          "data": {
            "text/plain": [
              "<matplotlib.collections.PathCollection at 0x7f9ae310fdd8>"
            ]
          },
          "metadata": {
            "tags": []
          },
          "execution_count": 120
        },
        {
          "output_type": "display_data",
          "data": {
            "image/png": "[encoded data removed]",
            "text/plain": [
              "<Figure size 432x288 with 1 Axes>"
            ]
          },
          "metadata": {
            "tags": [],
            "needs_background": "light"
          }
        }
      ]
    },
    {
      "cell_type": "markdown",
      "metadata": {
        "id": "6f0zvr5vhviJ",
        "colab_type": "text"
      },
      "source": [
        "##With RCA"
      ]
    },
    {
      "cell_type": "code",
      "metadata": {
        "id": "19Ty1iP_h5G8",
        "colab_type": "code",
        "outputId": "64d02201-19a1-42bb-8983-3f17ec9254b1",
        "colab": {
          "base_uri": "https://localhost:8080/",
          "height": 282
        }
      },
      "source": [
        "## Expectation maximization analysis\n",
        "from sklearn.mixture import GaussianMixture\n",
        "em = GaussianMixture(n_components=2,random_state=2,covariance_type='tied')\n",
        "em_pred = em.fit_predict(rca_X)\n",
        "em_probs = em.predict_proba(rca_X)\n",
        "#em.means_\n",
        "#em.covariances_\n",
        "plt.scatter(rca_X[:, 0], rca_X[:, 1], c=em_pred, s=50, cmap='viridis_r')"
      ],
      "execution_count": 0,
      "outputs": [
        {
          "output_type": "execute_result",
          "data": {
            "text/plain": [
              "<matplotlib.collections.PathCollection at 0x7f9ae306e9b0>"
            ]
          },
          "metadata": {
            "tags": []
          },
          "execution_count": 121
        },
        {
          "output_type": "display_data",
          "data": {
            "image/png": "[encoded data removed]",
            "text/plain": [
              "<Figure size 432x288 with 1 Axes>"
            ]
          },
          "metadata": {
            "tags": [],
            "needs_background": "light"
          }
        }
      ]
    },
    {
      "cell_type": "markdown",
      "metadata": {
        "id": "XnHDFv2VeHZC",
        "colab_type": "text"
      },
      "source": [
        "#ANN after PCA"
      ]
    },
    {
      "cell_type": "code",
      "metadata": {
        "id": "pnb_4LdW9RF4",
        "colab_type": "code",
        "colab": {}
      },
      "source": [
        "x1_train, x1_test, y1_train, y1_test = train_test_split(pca_X, df_target, test_size = 0.3, random_state = 0)"
      ],
      "execution_count": 0,
      "outputs": []
    },
    {
      "cell_type": "code",
      "metadata": {
        "id": "jeZgHCtqeKOS",
        "colab_type": "code",
        "outputId": "2efa2261-cd67-489c-d2ee-1f31d5787711",
        "colab": {
          "base_uri": "https://localhost:8080/",
          "height": 1000
        }
      },
      "source": [
        "# Initialising the ANN\n",
        "classifier = Sequential()\n",
        "\n",
        "# Adding the input layer and the first hidden layer\n",
        "classifier.add(Dense(32,activation=\"softmax\"))\n",
        "\n",
        "# Adding the second hidden layer\n",
        "classifier.add(Dense(16,activation=\"softmax\"))\n",
        "\n",
        "# Adding the output layer\n",
        "classifier.add(Dense(1,activation=\"sigmoid\"))\n",
        "\n",
        "# Compiling the ANN\n",
        "classifier.compile(optimizer = 'adam', loss = 'binary_crossentropy', metrics = ['accuracy'])\n",
        "\n",
        "# Fitting the ANN to the Training set\n",
        "history=classifier.fit(x1_train, y1_train, batch_size = 10, epochs=100,validation_split=0.3)"
      ],
      "execution_count": 0,
      "outputs": [
        {
          "output_type": "stream",
          "text": [
            "Train on 22152 samples, validate on 9495 samples\n",
            "Epoch 1/100\n",
            "22152/22152 [==============================] - 4s 171us/step - loss: 0.4009 - accuracy: 0.8840 - val_loss: 0.3545 - val_accuracy: 0.8815\n",
            "Epoch 2/100\n",
            "22152/22152 [==============================] - 3s 153us/step - loss: 0.3334 - accuracy: 0.8840 - val_loss: 0.3192 - val_accuracy: 0.8815\n",
            "Epoch 3/100\n",
            "22152/22152 [==============================] - 3s 152us/step - loss: 0.3172 - accuracy: 0.8840 - val_loss: 0.3134 - val_accuracy: 0.8815\n",
            "Epoch 4/100\n",
            "22152/22152 [==============================] - 3s 156us/step - loss: 0.3148 - accuracy: 0.8840 - val_loss: 0.3153 - val_accuracy: 0.8815\n",
            "Epoch 5/100\n",
            "22152/22152 [==============================] - 4s 168us/step - loss: 0.3140 - accuracy: 0.8840 - val_loss: 0.3176 - val_accuracy: 0.8815\n",
            "Epoch 6/100\n",
            "22152/22152 [==============================] - 4s 158us/step - loss: 0.3167 - accuracy: 0.8840 - val_loss: 0.3115 - val_accuracy: 0.8815\n",
            "Epoch 7/100\n",
            "22152/22152 [==============================] - 3s 154us/step - loss: 0.3119 - accuracy: 0.8840 - val_loss: 0.3119 - val_accuracy: 0.8815\n",
            "Epoch 8/100\n",
            "22152/22152 [==============================] - 3s 152us/step - loss: 0.3141 - accuracy: 0.8840 - val_loss: 0.3140 - val_accuracy: 0.8815\n",
            "Epoch 9/100\n",
            "22152/22152 [==============================] - 3s 152us/step - loss: 0.3137 - accuracy: 0.8840 - val_loss: 0.3151 - val_accuracy: 0.8815\n",
            "Epoch 10/100\n",
            "22152/22152 [==============================] - 3s 152us/step - loss: 0.3178 - accuracy: 0.8840 - val_loss: 0.3119 - val_accuracy: 0.8815\n",
            "Epoch 11/100\n",
            "22152/22152 [==============================] - 3s 155us/step - loss: 0.3136 - accuracy: 0.8840 - val_loss: 0.3120 - val_accuracy: 0.8815\n",
            "Epoch 12/100\n",
            "22152/22152 [==============================] - 3s 154us/step - loss: 0.3122 - accuracy: 0.8840 - val_loss: 0.3080 - val_accuracy: 0.8815\n",
            "Epoch 13/100\n",
            "22152/22152 [==============================] - 3s 153us/step - loss: 0.3119 - accuracy: 0.8840 - val_loss: 0.3121 - val_accuracy: 0.8815\n",
            "Epoch 14/100\n",
            "22152/22152 [==============================] - 3s 153us/step - loss: 0.3131 - accuracy: 0.8840 - val_loss: 0.3118 - val_accuracy: 0.8815\n",
            "Epoch 15/100\n",
            "22152/22152 [==============================] - 3s 153us/step - loss: 0.3109 - accuracy: 0.8840 - val_loss: 0.3091 - val_accuracy: 0.8815\n",
            "Epoch 16/100\n",
            "22152/22152 [==============================] - 3s 153us/step - loss: 0.3152 - accuracy: 0.8840 - val_loss: 0.3134 - val_accuracy: 0.8815\n",
            "Epoch 17/100\n",
            "22152/22152 [==============================] - 3s 151us/step - loss: 0.3138 - accuracy: 0.8840 - val_loss: 0.3113 - val_accuracy: 0.8815\n",
            "Epoch 18/100\n",
            "22152/22152 [==============================] - 3s 152us/step - loss: 0.3118 - accuracy: 0.8840 - val_loss: 0.3134 - val_accuracy: 0.8815\n",
            "Epoch 19/100\n",
            "22152/22152 [==============================] - 3s 153us/step - loss: 0.3114 - accuracy: 0.8840 - val_loss: 0.3104 - val_accuracy: 0.8815\n",
            "Epoch 20/100\n",
            "22152/22152 [==============================] - 3s 153us/step - loss: 0.3116 - accuracy: 0.8840 - val_loss: 0.3100 - val_accuracy: 0.8815\n",
            "Epoch 21/100\n",
            "22152/22152 [==============================] - 3s 153us/step - loss: 0.3122 - accuracy: 0.8840 - val_loss: 0.3112 - val_accuracy: 0.8815\n",
            "Epoch 22/100\n",
            "22152/22152 [==============================] - 3s 153us/step - loss: 0.3124 - accuracy: 0.8840 - val_loss: 0.3137 - val_accuracy: 0.8815\n",
            "Epoch 23/100\n",
            "22152/22152 [==============================] - 3s 158us/step - loss: 0.3132 - accuracy: 0.8840 - val_loss: 0.3094 - val_accuracy: 0.8815\n",
            "Epoch 24/100\n",
            "22152/22152 [==============================] - 4s 159us/step - loss: 0.3106 - accuracy: 0.8840 - val_loss: 0.3118 - val_accuracy: 0.8815\n",
            "Epoch 25/100\n",
            "22152/22152 [==============================] - 3s 153us/step - loss: 0.3091 - accuracy: 0.8840 - val_loss: 0.3084 - val_accuracy: 0.8815\n",
            "Epoch 26/100\n",
            "22152/22152 [==============================] - 3s 154us/step - loss: 0.3098 - accuracy: 0.8840 - val_loss: 0.3095 - val_accuracy: 0.8815\n",
            "Epoch 27/100\n",
            "22152/22152 [==============================] - 3s 152us/step - loss: 0.3090 - accuracy: 0.8840 - val_loss: 0.3123 - val_accuracy: 0.8815\n",
            "Epoch 28/100\n",
            "22152/22152 [==============================] - 3s 155us/step - loss: 0.3143 - accuracy: 0.8840 - val_loss: 0.3143 - val_accuracy: 0.8815\n",
            "Epoch 29/100\n",
            "22152/22152 [==============================] - 3s 156us/step - loss: 0.3144 - accuracy: 0.8840 - val_loss: 0.3145 - val_accuracy: 0.8815\n",
            "Epoch 30/100\n",
            "22152/22152 [==============================] - 4s 164us/step - loss: 0.3114 - accuracy: 0.8840 - val_loss: 0.3094 - val_accuracy: 0.8815\n",
            "Epoch 31/100\n",
            "22152/22152 [==============================] - 4s 175us/step - loss: 0.3114 - accuracy: 0.8840 - val_loss: 0.3110 - val_accuracy: 0.8815\n",
            "Epoch 32/100\n",
            "22152/22152 [==============================] - 4s 176us/step - loss: 0.3106 - accuracy: 0.8840 - val_loss: 0.3089 - val_accuracy: 0.8815\n",
            "Epoch 33/100\n",
            "22152/22152 [==============================] - 3s 157us/step - loss: 0.3087 - accuracy: 0.8840 - val_loss: 0.3085 - val_accuracy: 0.8815\n",
            "Epoch 34/100\n",
            "22152/22152 [==============================] - 3s 154us/step - loss: 0.3097 - accuracy: 0.8840 - val_loss: 0.3070 - val_accuracy: 0.8815\n",
            "Epoch 35/100\n",
            "22152/22152 [==============================] - 3s 155us/step - loss: 0.3072 - accuracy: 0.8840 - val_loss: 0.3063 - val_accuracy: 0.8815\n",
            "Epoch 36/100\n",
            "22152/22152 [==============================] - 3s 155us/step - loss: 0.3075 - accuracy: 0.8840 - val_loss: 0.3110 - val_accuracy: 0.8815\n",
            "Epoch 37/100\n",
            "22152/22152 [==============================] - 3s 156us/step - loss: 0.3084 - accuracy: 0.8840 - val_loss: 0.3056 - val_accuracy: 0.8815\n",
            "Epoch 38/100\n",
            "22152/22152 [==============================] - 3s 154us/step - loss: 0.3097 - accuracy: 0.8840 - val_loss: 0.3086 - val_accuracy: 0.8815\n",
            "Epoch 39/100\n",
            "22152/22152 [==============================] - 3s 153us/step - loss: 0.3117 - accuracy: 0.8840 - val_loss: 0.3111 - val_accuracy: 0.8815\n",
            "Epoch 40/100\n",
            "22152/22152 [==============================] - 3s 154us/step - loss: 0.3110 - accuracy: 0.8840 - val_loss: 0.3080 - val_accuracy: 0.8815\n",
            "Epoch 41/100\n",
            "22152/22152 [==============================] - 3s 155us/step - loss: 0.3114 - accuracy: 0.8840 - val_loss: 0.3103 - val_accuracy: 0.8815\n",
            "Epoch 42/100\n",
            "22152/22152 [==============================] - 3s 155us/step - loss: 0.3109 - accuracy: 0.8840 - val_loss: 0.3102 - val_accuracy: 0.8815\n",
            "Epoch 43/100\n",
            "22152/22152 [==============================] - 4s 160us/step - loss: 0.3111 - accuracy: 0.8840 - val_loss: 0.3143 - val_accuracy: 0.8815\n",
            "Epoch 44/100\n",
            "22152/22152 [==============================] - 3s 156us/step - loss: 0.3096 - accuracy: 0.8840 - val_loss: 0.3055 - val_accuracy: 0.8815\n",
            "Epoch 45/100\n",
            "22152/22152 [==============================] - 3s 155us/step - loss: 0.3105 - accuracy: 0.8840 - val_loss: 0.3143 - val_accuracy: 0.8815\n",
            "Epoch 46/100\n",
            "22152/22152 [==============================] - 3s 156us/step - loss: 0.3133 - accuracy: 0.8840 - val_loss: 0.3106 - val_accuracy: 0.8815\n",
            "Epoch 47/100\n",
            "22152/22152 [==============================] - 3s 155us/step - loss: 0.3126 - accuracy: 0.8840 - val_loss: 0.3114 - val_accuracy: 0.8815\n",
            "Epoch 48/100\n",
            "22152/22152 [==============================] - 3s 155us/step - loss: 0.3109 - accuracy: 0.8840 - val_loss: 0.3110 - val_accuracy: 0.8815\n",
            "Epoch 49/100\n",
            "22152/22152 [==============================] - 3s 156us/step - loss: 0.3116 - accuracy: 0.8840 - val_loss: 0.3083 - val_accuracy: 0.8815\n",
            "Epoch 50/100\n",
            "22152/22152 [==============================] - 3s 155us/step - loss: 0.3078 - accuracy: 0.8840 - val_loss: 0.3066 - val_accuracy: 0.8815\n",
            "Epoch 51/100\n",
            "22152/22152 [==============================] - 3s 155us/step - loss: 0.3081 - accuracy: 0.8840 - val_loss: 0.3098 - val_accuracy: 0.8815\n",
            "Epoch 52/100\n",
            "22152/22152 [==============================] - 3s 155us/step - loss: 0.3128 - accuracy: 0.8840 - val_loss: 0.3067 - val_accuracy: 0.8815\n",
            "Epoch 53/100\n",
            "22152/22152 [==============================] - 4s 161us/step - loss: 0.3091 - accuracy: 0.8840 - val_loss: 0.3043 - val_accuracy: 0.8815\n",
            "Epoch 54/100\n",
            "22152/22152 [==============================] - 3s 154us/step - loss: 0.3069 - accuracy: 0.8840 - val_loss: 0.3048 - val_accuracy: 0.8815\n",
            "Epoch 55/100\n",
            "22152/22152 [==============================] - 3s 155us/step - loss: 0.3076 - accuracy: 0.8840 - val_loss: 0.3086 - val_accuracy: 0.8815\n",
            "Epoch 56/100\n",
            "22152/22152 [==============================] - 3s 156us/step - loss: 0.3056 - accuracy: 0.8840 - val_loss: 0.3060 - val_accuracy: 0.8815\n",
            "Epoch 57/100\n",
            "22152/22152 [==============================] - 3s 155us/step - loss: 0.3092 - accuracy: 0.8840 - val_loss: 0.3058 - val_accuracy: 0.8815\n",
            "Epoch 58/100\n",
            "22152/22152 [==============================] - 3s 155us/step - loss: 0.3072 - accuracy: 0.8840 - val_loss: 0.3095 - val_accuracy: 0.8815\n",
            "Epoch 59/100\n",
            "22152/22152 [==============================] - 3s 155us/step - loss: 0.3074 - accuracy: 0.8840 - val_loss: 0.3077 - val_accuracy: 0.8815\n",
            "Epoch 60/100\n",
            "22152/22152 [==============================] - 3s 154us/step - loss: 0.3064 - accuracy: 0.8840 - val_loss: 0.3070 - val_accuracy: 0.8815\n",
            "Epoch 61/100\n",
            "22152/22152 [==============================] - 3s 154us/step - loss: 0.3118 - accuracy: 0.8840 - val_loss: 0.3050 - val_accuracy: 0.8815\n",
            "Epoch 62/100\n",
            "22152/22152 [==============================] - 3s 154us/step - loss: 0.3083 - accuracy: 0.8840 - val_loss: 0.3070 - val_accuracy: 0.8815\n",
            "Epoch 63/100\n",
            "22152/22152 [==============================] - 3s 153us/step - loss: 0.3070 - accuracy: 0.8840 - val_loss: 0.3080 - val_accuracy: 0.8815\n",
            "Epoch 64/100\n",
            "22152/22152 [==============================] - 3s 155us/step - loss: 0.3066 - accuracy: 0.8840 - val_loss: 0.3059 - val_accuracy: 0.8815\n",
            "Epoch 65/100\n",
            "22152/22152 [==============================] - 3s 153us/step - loss: 0.3079 - accuracy: 0.8840 - val_loss: 0.3081 - val_accuracy: 0.8815\n",
            "Epoch 66/100\n",
            "22152/22152 [==============================] - 3s 153us/step - loss: 0.3082 - accuracy: 0.8840 - val_loss: 0.3089 - val_accuracy: 0.8815\n",
            "Epoch 67/100\n",
            "22152/22152 [==============================] - 3s 154us/step - loss: 0.3083 - accuracy: 0.8840 - val_loss: 0.3060 - val_accuracy: 0.8815\n",
            "Epoch 68/100\n",
            "22152/22152 [==============================] - 3s 154us/step - loss: 0.3062 - accuracy: 0.8840 - val_loss: 0.3064 - val_accuracy: 0.8815\n",
            "Epoch 69/100\n",
            "22152/22152 [==============================] - 3s 155us/step - loss: 0.3074 - accuracy: 0.8840 - val_loss: 0.3079 - val_accuracy: 0.8815\n",
            "Epoch 70/100\n",
            "22152/22152 [==============================] - 3s 154us/step - loss: 0.3093 - accuracy: 0.8840 - val_loss: 0.3095 - val_accuracy: 0.8815\n",
            "Epoch 71/100\n",
            "22152/22152 [==============================] - 3s 155us/step - loss: 0.3100 - accuracy: 0.8840 - val_loss: 0.3079 - val_accuracy: 0.8815\n",
            "Epoch 72/100\n",
            "22152/22152 [==============================] - 3s 152us/step - loss: 0.3078 - accuracy: 0.8840 - val_loss: 0.3071 - val_accuracy: 0.8815\n",
            "Epoch 73/100\n",
            "22152/22152 [==============================] - 3s 154us/step - loss: 0.3071 - accuracy: 0.8840 - val_loss: 0.3078 - val_accuracy: 0.8815\n",
            "Epoch 74/100\n",
            "22152/22152 [==============================] - 3s 153us/step - loss: 0.3064 - accuracy: 0.8840 - val_loss: 0.3071 - val_accuracy: 0.8815\n",
            "Epoch 75/100\n",
            "22152/22152 [==============================] - 3s 153us/step - loss: 0.3088 - accuracy: 0.8840 - val_loss: 0.3071 - val_accuracy: 0.8815\n",
            "Epoch 76/100\n",
            "22152/22152 [==============================] - 3s 154us/step - loss: 0.3071 - accuracy: 0.8840 - val_loss: 0.3071 - val_accuracy: 0.8815\n",
            "Epoch 77/100\n",
            "22152/22152 [==============================] - 3s 153us/step - loss: 0.3070 - accuracy: 0.8840 - val_loss: 0.3046 - val_accuracy: 0.8815\n",
            "Epoch 78/100\n",
            "22152/22152 [==============================] - 3s 154us/step - loss: 0.3066 - accuracy: 0.8840 - val_loss: 0.3064 - val_accuracy: 0.8815\n",
            "Epoch 79/100\n",
            "22152/22152 [==============================] - 3s 155us/step - loss: 0.3078 - accuracy: 0.8840 - val_loss: 0.3076 - val_accuracy: 0.8815\n",
            "Epoch 80/100\n",
            "22152/22152 [==============================] - 3s 153us/step - loss: 0.3073 - accuracy: 0.8840 - val_loss: 0.3090 - val_accuracy: 0.8815\n",
            "Epoch 81/100\n",
            "22152/22152 [==============================] - 3s 154us/step - loss: 0.3089 - accuracy: 0.8840 - val_loss: 0.3104 - val_accuracy: 0.8815\n",
            "Epoch 82/100\n",
            "22152/22152 [==============================] - 3s 154us/step - loss: 0.3091 - accuracy: 0.8840 - val_loss: 0.3098 - val_accuracy: 0.8815\n",
            "Epoch 83/100\n",
            "22152/22152 [==============================] - 3s 154us/step - loss: 0.3107 - accuracy: 0.8840 - val_loss: 0.3081 - val_accuracy: 0.8815\n",
            "Epoch 84/100\n",
            "22152/22152 [==============================] - 3s 154us/step - loss: 0.3106 - accuracy: 0.8840 - val_loss: 0.3103 - val_accuracy: 0.8815\n",
            "Epoch 85/100\n",
            "22152/22152 [==============================] - 3s 154us/step - loss: 0.3122 - accuracy: 0.8840 - val_loss: 0.3142 - val_accuracy: 0.8815\n",
            "Epoch 86/100\n",
            "22152/22152 [==============================] - 3s 154us/step - loss: 0.3126 - accuracy: 0.8840 - val_loss: 0.3113 - val_accuracy: 0.8815\n",
            "Epoch 87/100\n",
            "22152/22152 [==============================] - 3s 154us/step - loss: 0.3138 - accuracy: 0.8840 - val_loss: 0.3117 - val_accuracy: 0.8815\n",
            "Epoch 88/100\n",
            "22152/22152 [==============================] - 3s 154us/step - loss: 0.3117 - accuracy: 0.8840 - val_loss: 0.3109 - val_accuracy: 0.8815\n",
            "Epoch 89/100\n",
            "22152/22152 [==============================] - 3s 153us/step - loss: 0.3115 - accuracy: 0.8840 - val_loss: 0.3107 - val_accuracy: 0.8815\n",
            "Epoch 90/100\n",
            "22152/22152 [==============================] - 3s 153us/step - loss: 0.3117 - accuracy: 0.8840 - val_loss: 0.3114 - val_accuracy: 0.8815\n",
            "Epoch 91/100\n",
            "22152/22152 [==============================] - 3s 154us/step - loss: 0.3113 - accuracy: 0.8840 - val_loss: 0.3124 - val_accuracy: 0.8815\n",
            "Epoch 92/100\n",
            "22152/22152 [==============================] - 3s 154us/step - loss: 0.3112 - accuracy: 0.8840 - val_loss: 0.3115 - val_accuracy: 0.8815\n",
            "Epoch 93/100\n",
            "22152/22152 [==============================] - 3s 154us/step - loss: 0.3101 - accuracy: 0.8840 - val_loss: 0.3100 - val_accuracy: 0.8815\n",
            "Epoch 94/100\n",
            "22152/22152 [==============================] - 4s 170us/step - loss: 0.3101 - accuracy: 0.8840 - val_loss: 0.3096 - val_accuracy: 0.8815\n",
            "Epoch 95/100\n",
            "22152/22152 [==============================] - 4s 161us/step - loss: 0.3108 - accuracy: 0.8840 - val_loss: 0.3096 - val_accuracy: 0.8815\n",
            "Epoch 96/100\n",
            "22152/22152 [==============================] - 3s 150us/step - loss: 0.3091 - accuracy: 0.8840 - val_loss: 0.3064 - val_accuracy: 0.8815\n",
            "Epoch 97/100\n",
            "22152/22152 [==============================] - 3s 151us/step - loss: 0.3075 - accuracy: 0.8840 - val_loss: 0.3076 - val_accuracy: 0.8815\n",
            "Epoch 98/100\n",
            "22152/22152 [==============================] - 3s 150us/step - loss: 0.3077 - accuracy: 0.8840 - val_loss: 0.3067 - val_accuracy: 0.8815\n",
            "Epoch 99/100\n",
            "22152/22152 [==============================] - 3s 149us/step - loss: 0.3074 - accuracy: 0.8840 - val_loss: 0.3074 - val_accuracy: 0.8815\n",
            "Epoch 100/100\n",
            "22152/22152 [==============================] - 3s 150us/step - loss: 0.3079 - accuracy: 0.8840 - val_loss: 0.3063 - val_accuracy: 0.8815\n"
          ],
          "name": "stdout"
        }
      ]
    },
    {
      "cell_type": "code",
      "metadata": {
        "id": "v0bZIPzVAD8v",
        "colab_type": "code",
        "colab": {}
      },
      "source": [
        "# Making the Confusion Matrix\n",
        "def confusionmat(y,y_hat):\n",
        "  from sklearn.metrics import confusion_matrix,accuracy_score\n",
        "  cm = confusion_matrix(y, y_hat)\n",
        "  accu=accuracy_score(y,y_hat)\n",
        "  print(cm,\"\\n\")\n",
        "  print(\"The accuracy is\",accu)\n",
        "\n",
        "#Accuracy and Loss Curves\n",
        "def learningcurve(history):\n",
        "  # list all data in history\n",
        "  print(history.history.keys())\n",
        "  # summarize history for accuracy\n",
        "  plt.plot(history.history['accuracy'])\n",
        "  plt.plot(history.history['val_accuracy'])\n",
        "  plt.title('model accuracy')\n",
        "  plt.ylabel('accuracy')\n",
        "  plt.xlabel('epoch')\n",
        "  plt.legend(['train', 'test'], loc='upper left')\n",
        "  plt.show()\n",
        "  # summarize history for loss\n",
        "  plt.plot(history.history['loss'])\n",
        "  plt.plot(history.history['val_loss'])\n",
        "  plt.title('model loss')\n",
        "  plt.ylabel('loss')\n",
        "  plt.xlabel('epoch')\n",
        "  plt.legend(['train', 'test'], loc='upper left')\n",
        "  plt.show()"
      ],
      "execution_count": 0,
      "outputs": []
    },
    {
      "cell_type": "code",
      "metadata": {
        "id": "fpbI8-Ex9Vhd",
        "colab_type": "code",
        "outputId": "c7bd442f-778f-4f2e-facf-f00f78bd7e4a",
        "colab": {
          "base_uri": "https://localhost:8080/",
          "height": 942
        }
      },
      "source": [
        "# Predicting the Test set results\n",
        "y_pred = classifier.predict_classes(x1_test)\n",
        "pre_score = sk.average_precision_score(y1_test, y_pred)\n",
        "classifier.summary()\n",
        "test_results = classifier.evaluate(x1_test, y1_test)\n",
        "print(\"For epoch = {0}, the model test accuracy is {1}.\".format(100,test_results[1]))\n",
        "print(\"The model test average precision score is {}.\".format(pre_score))\n",
        "confusionmat(y1_test,y_pred)\n",
        "learningcurve(history)"
      ],
      "execution_count": 0,
      "outputs": [
        {
          "output_type": "stream",
          "text": [
            "Model: \"sequential_1\"\n",
            "_________________________________________________________________\n",
            "Layer (type)                 Output Shape              Param #   \n",
            "=================================================================\n",
            "dense_1 (Dense)              (None, 32)                96        \n",
            "_________________________________________________________________\n",
            "dense_2 (Dense)              (None, 16)                528       \n",
            "_________________________________________________________________\n",
            "dense_3 (Dense)              (None, 1)                 17        \n",
            "=================================================================\n",
            "Total params: 641\n",
            "Trainable params: 641\n",
            "Non-trainable params: 0\n",
            "_________________________________________________________________\n",
            "13564/13564 [==============================] - 0s 20us/step\n",
            "For epoch = 100, the model test accuracy is 0.8824093341827393.\n",
            "The model test average precision score is 0.11759068121498083.\n",
            "[[11969     0]\n",
            " [ 1595     0]] \n",
            "\n",
            "The accuracy is 0.8824093187850192\n",
            "dict_keys(['val_loss', 'val_accuracy', 'loss', 'accuracy'])\n"
          ],
          "name": "stdout"
        },
        {
          "output_type": "display_data",
          "data": {
            "image/png": "[encoded data removed]",
            "text/plain": [
              "<Figure size 432x288 with 1 Axes>"
            ]
          },
          "metadata": {
            "tags": [],
            "needs_background": "light"
          }
        },
        {
          "output_type": "display_data",
          "data": {
            "image/png": "[encoded data removed]",
            "text/plain": [
              "<Figure size 432x288 with 1 Axes>"
            ]
          },
          "metadata": {
            "tags": [],
            "needs_background": "light"
          }
        }
      ]
    },
    {
      "cell_type": "markdown",
      "metadata": {
        "id": "3HhzrLU_AjGn",
        "colab_type": "text"
      },
      "source": [
        "#Task 5"
      ]
    },
    {
      "cell_type": "code",
      "metadata": {
        "id": "DgAvyb2v_Fi6",
        "colab_type": "code",
        "outputId": "83407a62-2acc-402b-858d-e394f86046e4",
        "colab": {
          "base_uri": "https://localhost:8080/",
          "height": 402
        }
      },
      "source": [
        "from sklearn.cluster import KMeans\n",
        "\n",
        "kmeans = KMeans(n_clusters = 2, n_init=10, max_iter=300, init = 'k-means++', random_state = 2)\n",
        "prediction = kmeans.fit_predict(x1_train)\n",
        "\n",
        "em = GaussianMixture(n_components=2,random_state=2,covariance_type='tied')\n",
        "em_pred = em.fit_predict(x1_train)\n",
        "em_probs = em.predict_proba(x1_train)\n",
        "\n",
        "train_df = pd.DataFrame()\n",
        "train_df['KM_Pred']=prediction\n",
        "train_df['EM_Prob']=em_probs[:,1]\n",
        "train_df['y']=y1_train\n",
        "train_df"
      ],
      "execution_count": 0,
      "outputs": [
        {
          "output_type": "execute_result",
          "data": {
            "text/html": [
              "<div>\n",
              "<style scoped>\n",
              "    .dataframe tbody tr th:only-of-type {\n",
              "        vertical-align: middle;\n",
              "    }\n",
              "\n",
              "    .dataframe tbody tr th {\n",
              "        vertical-align: top;\n",
              "    }\n",
              "\n",
              "    .dataframe thead th {\n",
              "        text-align: right;\n",
              "    }\n",
              "</style>\n",
              "<table border=\"1\" class=\"dataframe\">\n",
              "  <thead>\n",
              "    <tr style=\"text-align: right;\">\n",
              "      <th></th>\n",
              "      <th>KM_Pred</th>\n",
              "      <th>EM_Prob</th>\n",
              "      <th>y</th>\n",
              "    </tr>\n",
              "  </thead>\n",
              "  <tbody>\n",
              "    <tr>\n",
              "      <th>0</th>\n",
              "      <td>0</td>\n",
              "      <td>2.775327e-15</td>\n",
              "      <td>0</td>\n",
              "    </tr>\n",
              "    <tr>\n",
              "      <th>1</th>\n",
              "      <td>0</td>\n",
              "      <td>1.647200e-16</td>\n",
              "      <td>0</td>\n",
              "    </tr>\n",
              "    <tr>\n",
              "      <th>2</th>\n",
              "      <td>0</td>\n",
              "      <td>1.390953e-16</td>\n",
              "      <td>0</td>\n",
              "    </tr>\n",
              "    <tr>\n",
              "      <th>3</th>\n",
              "      <td>0</td>\n",
              "      <td>6.128975e-14</td>\n",
              "      <td>0</td>\n",
              "    </tr>\n",
              "    <tr>\n",
              "      <th>4</th>\n",
              "      <td>0</td>\n",
              "      <td>5.850140e-16</td>\n",
              "      <td>0</td>\n",
              "    </tr>\n",
              "    <tr>\n",
              "      <th>...</th>\n",
              "      <td>...</td>\n",
              "      <td>...</td>\n",
              "      <td>...</td>\n",
              "    </tr>\n",
              "    <tr>\n",
              "      <th>31642</th>\n",
              "      <td>0</td>\n",
              "      <td>2.922735e-15</td>\n",
              "      <td>0</td>\n",
              "    </tr>\n",
              "    <tr>\n",
              "      <th>31643</th>\n",
              "      <td>0</td>\n",
              "      <td>1.060475e-15</td>\n",
              "      <td>0</td>\n",
              "    </tr>\n",
              "    <tr>\n",
              "      <th>31644</th>\n",
              "      <td>0</td>\n",
              "      <td>2.361378e-16</td>\n",
              "      <td>1</td>\n",
              "    </tr>\n",
              "    <tr>\n",
              "      <th>31645</th>\n",
              "      <td>0</td>\n",
              "      <td>7.166501e-16</td>\n",
              "      <td>0</td>\n",
              "    </tr>\n",
              "    <tr>\n",
              "      <th>31646</th>\n",
              "      <td>0</td>\n",
              "      <td>9.956953e-17</td>\n",
              "      <td>0</td>\n",
              "    </tr>\n",
              "  </tbody>\n",
              "</table>\n",
              "<p>31647 rows × 3 columns</p>\n",
              "</div>"
            ],
            "text/plain": [
              "       KM_Pred       EM_Prob  y\n",
              "0            0  2.775327e-15  0\n",
              "1            0  1.647200e-16  0\n",
              "2            0  1.390953e-16  0\n",
              "3            0  6.128975e-14  0\n",
              "4            0  5.850140e-16  0\n",
              "...        ...           ... ..\n",
              "31642        0  2.922735e-15  0\n",
              "31643        0  1.060475e-15  0\n",
              "31644        0  2.361378e-16  1\n",
              "31645        0  7.166501e-16  0\n",
              "31646        0  9.956953e-17  0\n",
              "\n",
              "[31647 rows x 3 columns]"
            ]
          },
          "metadata": {
            "tags": []
          },
          "execution_count": 174
        }
      ]
    },
    {
      "cell_type": "code",
      "metadata": {
        "id": "qtiC-AlkI_RS",
        "colab_type": "code",
        "outputId": "26de15a9-8579-4ec0-c324-e64c9f8affb3",
        "colab": {
          "base_uri": "https://localhost:8080/",
          "height": 402
        }
      },
      "source": [
        "from sklearn.cluster import KMeans\n",
        "\n",
        "kmeans = KMeans(n_clusters = 2, n_init=10, max_iter=300, init = 'k-means++', random_state = 2)\n",
        "prediction = kmeans.fit_predict(x1_test)\n",
        "\n",
        "em = GaussianMixture(n_components=2,random_state=2,covariance_type='tied')\n",
        "em_pred = em.fit_predict(x1_test)\n",
        "em_probs = em.predict_proba(x1_test)\n",
        "\n",
        "test_df = pd.DataFrame()\n",
        "test_df['KM_Pred']=prediction\n",
        "test_df['EM_Prob']=em_probs[:,1]\n",
        "test_df['y']=y1_test\n",
        "test_df"
      ],
      "execution_count": 0,
      "outputs": [
        {
          "output_type": "execute_result",
          "data": {
            "text/html": [
              "<div>\n",
              "<style scoped>\n",
              "    .dataframe tbody tr th:only-of-type {\n",
              "        vertical-align: middle;\n",
              "    }\n",
              "\n",
              "    .dataframe tbody tr th {\n",
              "        vertical-align: top;\n",
              "    }\n",
              "\n",
              "    .dataframe thead th {\n",
              "        text-align: right;\n",
              "    }\n",
              "</style>\n",
              "<table border=\"1\" class=\"dataframe\">\n",
              "  <thead>\n",
              "    <tr style=\"text-align: right;\">\n",
              "      <th></th>\n",
              "      <th>KM_Pred</th>\n",
              "      <th>EM_Prob</th>\n",
              "      <th>y</th>\n",
              "    </tr>\n",
              "  </thead>\n",
              "  <tbody>\n",
              "    <tr>\n",
              "      <th>0</th>\n",
              "      <td>1</td>\n",
              "      <td>1.000000</td>\n",
              "      <td>0</td>\n",
              "    </tr>\n",
              "    <tr>\n",
              "      <th>1</th>\n",
              "      <td>1</td>\n",
              "      <td>1.000000</td>\n",
              "      <td>1</td>\n",
              "    </tr>\n",
              "    <tr>\n",
              "      <th>2</th>\n",
              "      <td>1</td>\n",
              "      <td>1.000000</td>\n",
              "      <td>0</td>\n",
              "    </tr>\n",
              "    <tr>\n",
              "      <th>3</th>\n",
              "      <td>1</td>\n",
              "      <td>1.000000</td>\n",
              "      <td>0</td>\n",
              "    </tr>\n",
              "    <tr>\n",
              "      <th>4</th>\n",
              "      <td>1</td>\n",
              "      <td>1.000000</td>\n",
              "      <td>0</td>\n",
              "    </tr>\n",
              "    <tr>\n",
              "      <th>...</th>\n",
              "      <td>...</td>\n",
              "      <td>...</td>\n",
              "      <td>...</td>\n",
              "    </tr>\n",
              "    <tr>\n",
              "      <th>13559</th>\n",
              "      <td>1</td>\n",
              "      <td>1.000000</td>\n",
              "      <td>0</td>\n",
              "    </tr>\n",
              "    <tr>\n",
              "      <th>13560</th>\n",
              "      <td>1</td>\n",
              "      <td>1.000000</td>\n",
              "      <td>0</td>\n",
              "    </tr>\n",
              "    <tr>\n",
              "      <th>13561</th>\n",
              "      <td>1</td>\n",
              "      <td>1.000000</td>\n",
              "      <td>0</td>\n",
              "    </tr>\n",
              "    <tr>\n",
              "      <th>13562</th>\n",
              "      <td>0</td>\n",
              "      <td>0.000002</td>\n",
              "      <td>0</td>\n",
              "    </tr>\n",
              "    <tr>\n",
              "      <th>13563</th>\n",
              "      <td>1</td>\n",
              "      <td>1.000000</td>\n",
              "      <td>0</td>\n",
              "    </tr>\n",
              "  </tbody>\n",
              "</table>\n",
              "<p>13564 rows × 3 columns</p>\n",
              "</div>"
            ],
            "text/plain": [
              "       KM_Pred   EM_Prob  y\n",
              "0            1  1.000000  0\n",
              "1            1  1.000000  1\n",
              "2            1  1.000000  0\n",
              "3            1  1.000000  0\n",
              "4            1  1.000000  0\n",
              "...        ...       ... ..\n",
              "13559        1  1.000000  0\n",
              "13560        1  1.000000  0\n",
              "13561        1  1.000000  0\n",
              "13562        0  0.000002  0\n",
              "13563        1  1.000000  0\n",
              "\n",
              "[13564 rows x 3 columns]"
            ]
          },
          "metadata": {
            "tags": []
          },
          "execution_count": 175
        }
      ]
    },
    {
      "cell_type": "code",
      "metadata": {
        "id": "ZXJsMNCTQdoj",
        "colab_type": "code",
        "colab": {}
      },
      "source": [
        "#Creating binary classification target variable\n",
        "train_y=train_df[['y']].values\n",
        "train_x=train_df.drop(columns=['y'],axis=1).values\n",
        "test_y=test_df[['y']]\n",
        "test_x=test_df.drop(columns=['y'],axis=1)"
      ],
      "execution_count": 0,
      "outputs": []
    },
    {
      "cell_type": "code",
      "metadata": {
        "id": "pUIP7trtJGYY",
        "colab_type": "code",
        "outputId": "d97c32a7-5d0d-4c7a-830a-602022af2193",
        "colab": {
          "base_uri": "https://localhost:8080/",
          "height": 1000
        }
      },
      "source": [
        "# Initialising the ANN\n",
        "classifier = Sequential()\n",
        "\n",
        "# Adding the input layer and the first hidden layer\n",
        "classifier.add(Dense(32,activation=\"softmax\"))\n",
        "\n",
        "# Adding the second hidden layer\n",
        "classifier.add(Dense(16,activation=\"softmax\"))\n",
        "\n",
        "# Adding the output layer\n",
        "classifier.add(Dense(1,activation=\"sigmoid\"))\n",
        "\n",
        "# Compiling the ANN\n",
        "classifier.compile(optimizer = 'adam', loss = 'binary_crossentropy', metrics = ['accuracy'])\n",
        "\n",
        "# Fitting the ANN to the Training set\n",
        "history=classifier.fit(train_x, train_y, batch_size = 10, epochs=100,validation_split=0.3)"
      ],
      "execution_count": 0,
      "outputs": [
        {
          "output_type": "stream",
          "text": [
            "Train on 22152 samples, validate on 9495 samples\n",
            "Epoch 1/100\n",
            "22152/22152 [==============================] - 3s 156us/step - loss: 0.4157 - accuracy: 0.8687 - val_loss: 0.3639 - val_accuracy: 0.8815\n",
            "Epoch 2/100\n",
            "22152/22152 [==============================] - 3s 152us/step - loss: 0.3589 - accuracy: 0.8840 - val_loss: 0.3639 - val_accuracy: 0.8815\n",
            "Epoch 3/100\n",
            "22152/22152 [==============================] - 3s 151us/step - loss: 0.3589 - accuracy: 0.8840 - val_loss: 0.3639 - val_accuracy: 0.8815\n",
            "Epoch 4/100\n",
            "22152/22152 [==============================] - 3s 149us/step - loss: 0.3589 - accuracy: 0.8840 - val_loss: 0.3638 - val_accuracy: 0.8815\n",
            "Epoch 5/100\n",
            "22152/22152 [==============================] - 3s 152us/step - loss: 0.3588 - accuracy: 0.8840 - val_loss: 0.3640 - val_accuracy: 0.8815\n",
            "Epoch 6/100\n",
            "22152/22152 [==============================] - 3s 153us/step - loss: 0.3588 - accuracy: 0.8840 - val_loss: 0.3637 - val_accuracy: 0.8815\n",
            "Epoch 7/100\n",
            "22152/22152 [==============================] - 3s 151us/step - loss: 0.3588 - accuracy: 0.8840 - val_loss: 0.3640 - val_accuracy: 0.8815\n",
            "Epoch 8/100\n",
            "22152/22152 [==============================] - 3s 151us/step - loss: 0.3588 - accuracy: 0.8840 - val_loss: 0.3638 - val_accuracy: 0.8815\n",
            "Epoch 9/100\n",
            "22152/22152 [==============================] - 3s 152us/step - loss: 0.3587 - accuracy: 0.8840 - val_loss: 0.3636 - val_accuracy: 0.8815\n",
            "Epoch 10/100\n",
            "22152/22152 [==============================] - 4s 166us/step - loss: 0.3587 - accuracy: 0.8840 - val_loss: 0.3636 - val_accuracy: 0.8815\n",
            "Epoch 11/100\n",
            "22152/22152 [==============================] - 4s 168us/step - loss: 0.3587 - accuracy: 0.8840 - val_loss: 0.3635 - val_accuracy: 0.8815\n",
            "Epoch 12/100\n",
            "22152/22152 [==============================] - 4s 164us/step - loss: 0.3586 - accuracy: 0.8840 - val_loss: 0.3635 - val_accuracy: 0.8815\n",
            "Epoch 13/100\n",
            "22152/22152 [==============================] - 4s 164us/step - loss: 0.3586 - accuracy: 0.8840 - val_loss: 0.3633 - val_accuracy: 0.8815\n",
            "Epoch 14/100\n",
            "22152/22152 [==============================] - 4s 163us/step - loss: 0.3586 - accuracy: 0.8840 - val_loss: 0.3633 - val_accuracy: 0.8815\n",
            "Epoch 15/100\n",
            "22152/22152 [==============================] - 4s 168us/step - loss: 0.3586 - accuracy: 0.8840 - val_loss: 0.3633 - val_accuracy: 0.8815\n",
            "Epoch 16/100\n",
            "22152/22152 [==============================] - 4s 158us/step - loss: 0.3586 - accuracy: 0.8840 - val_loss: 0.3632 - val_accuracy: 0.8815\n",
            "Epoch 17/100\n",
            "22152/22152 [==============================] - 3s 153us/step - loss: 0.3586 - accuracy: 0.8840 - val_loss: 0.3632 - val_accuracy: 0.8815\n",
            "Epoch 18/100\n",
            "22152/22152 [==============================] - 3s 151us/step - loss: 0.3586 - accuracy: 0.8840 - val_loss: 0.3633 - val_accuracy: 0.8815\n",
            "Epoch 19/100\n",
            "22152/22152 [==============================] - 3s 152us/step - loss: 0.3586 - accuracy: 0.8840 - val_loss: 0.3632 - val_accuracy: 0.8815\n",
            "Epoch 20/100\n",
            "22152/22152 [==============================] - 3s 154us/step - loss: 0.3586 - accuracy: 0.8840 - val_loss: 0.3632 - val_accuracy: 0.8815\n",
            "Epoch 21/100\n",
            "22152/22152 [==============================] - 3s 152us/step - loss: 0.3585 - accuracy: 0.8840 - val_loss: 0.3632 - val_accuracy: 0.8815\n",
            "Epoch 22/100\n",
            "22152/22152 [==============================] - 3s 152us/step - loss: 0.3586 - accuracy: 0.8840 - val_loss: 0.3632 - val_accuracy: 0.8815\n",
            "Epoch 23/100\n",
            "22152/22152 [==============================] - 3s 154us/step - loss: 0.3586 - accuracy: 0.8840 - val_loss: 0.3632 - val_accuracy: 0.8815\n",
            "Epoch 24/100\n",
            "22152/22152 [==============================] - 3s 152us/step - loss: 0.3585 - accuracy: 0.8840 - val_loss: 0.3634 - val_accuracy: 0.8815\n",
            "Epoch 25/100\n",
            "22152/22152 [==============================] - 3s 153us/step - loss: 0.3586 - accuracy: 0.8840 - val_loss: 0.3632 - val_accuracy: 0.8815\n",
            "Epoch 26/100\n",
            "22152/22152 [==============================] - 3s 152us/step - loss: 0.3586 - accuracy: 0.8840 - val_loss: 0.3632 - val_accuracy: 0.8815\n",
            "Epoch 27/100\n",
            "22152/22152 [==============================] - 3s 152us/step - loss: 0.3585 - accuracy: 0.8840 - val_loss: 0.3635 - val_accuracy: 0.8815\n",
            "Epoch 28/100\n",
            "22152/22152 [==============================] - 3s 152us/step - loss: 0.3584 - accuracy: 0.8840 - val_loss: 0.3641 - val_accuracy: 0.8815\n",
            "Epoch 29/100\n",
            "22152/22152 [==============================] - 3s 152us/step - loss: 0.3586 - accuracy: 0.8840 - val_loss: 0.3633 - val_accuracy: 0.8815\n",
            "Epoch 30/100\n",
            "22152/22152 [==============================] - 3s 152us/step - loss: 0.3586 - accuracy: 0.8840 - val_loss: 0.3632 - val_accuracy: 0.8815\n",
            "Epoch 31/100\n",
            "22152/22152 [==============================] - 3s 152us/step - loss: 0.3586 - accuracy: 0.8840 - val_loss: 0.3632 - val_accuracy: 0.8815\n",
            "Epoch 32/100\n",
            "22152/22152 [==============================] - 3s 153us/step - loss: 0.3586 - accuracy: 0.8840 - val_loss: 0.3632 - val_accuracy: 0.8815\n",
            "Epoch 33/100\n",
            "22152/22152 [==============================] - 3s 155us/step - loss: 0.3586 - accuracy: 0.8840 - val_loss: 0.3633 - val_accuracy: 0.8815\n",
            "Epoch 34/100\n",
            "22152/22152 [==============================] - 4s 169us/step - loss: 0.3586 - accuracy: 0.8840 - val_loss: 0.3632 - val_accuracy: 0.8815\n",
            "Epoch 35/100\n",
            "22152/22152 [==============================] - 3s 158us/step - loss: 0.3586 - accuracy: 0.8840 - val_loss: 0.3632 - val_accuracy: 0.8815\n",
            "Epoch 36/100\n",
            "22152/22152 [==============================] - 3s 152us/step - loss: 0.3586 - accuracy: 0.8840 - val_loss: 0.3633 - val_accuracy: 0.8815\n",
            "Epoch 37/100\n",
            "22152/22152 [==============================] - 3s 155us/step - loss: 0.3586 - accuracy: 0.8840 - val_loss: 0.3634 - val_accuracy: 0.8815\n",
            "Epoch 38/100\n",
            "22152/22152 [==============================] - 3s 153us/step - loss: 0.3586 - accuracy: 0.8840 - val_loss: 0.3632 - val_accuracy: 0.8815\n",
            "Epoch 39/100\n",
            "22152/22152 [==============================] - 3s 151us/step - loss: 0.3586 - accuracy: 0.8840 - val_loss: 0.3632 - val_accuracy: 0.8815\n",
            "Epoch 40/100\n",
            "22152/22152 [==============================] - 3s 153us/step - loss: 0.3586 - accuracy: 0.8840 - val_loss: 0.3632 - val_accuracy: 0.8815\n",
            "Epoch 41/100\n",
            "22152/22152 [==============================] - 3s 156us/step - loss: 0.3586 - accuracy: 0.8840 - val_loss: 0.3632 - val_accuracy: 0.8815\n",
            "Epoch 42/100\n",
            "22152/22152 [==============================] - 3s 153us/step - loss: 0.3586 - accuracy: 0.8840 - val_loss: 0.3633 - val_accuracy: 0.8815\n",
            "Epoch 43/100\n",
            "22152/22152 [==============================] - 3s 153us/step - loss: 0.3586 - accuracy: 0.8840 - val_loss: 0.3634 - val_accuracy: 0.8815\n",
            "Epoch 44/100\n",
            "22152/22152 [==============================] - 3s 153us/step - loss: 0.3586 - accuracy: 0.8840 - val_loss: 0.3632 - val_accuracy: 0.8815\n",
            "Epoch 45/100\n",
            "22152/22152 [==============================] - 3s 153us/step - loss: 0.3586 - accuracy: 0.8840 - val_loss: 0.3632 - val_accuracy: 0.8815\n",
            "Epoch 46/100\n",
            "22152/22152 [==============================] - 3s 152us/step - loss: 0.3586 - accuracy: 0.8840 - val_loss: 0.3633 - val_accuracy: 0.8815\n",
            "Epoch 47/100\n",
            "22152/22152 [==============================] - 3s 154us/step - loss: 0.3586 - accuracy: 0.8840 - val_loss: 0.3632 - val_accuracy: 0.8815\n",
            "Epoch 48/100\n",
            "22152/22152 [==============================] - 3s 152us/step - loss: 0.3585 - accuracy: 0.8840 - val_loss: 0.3632 - val_accuracy: 0.8815\n",
            "Epoch 49/100\n",
            "22152/22152 [==============================] - 4s 171us/step - loss: 0.3585 - accuracy: 0.8840 - val_loss: 0.3635 - val_accuracy: 0.8815\n",
            "Epoch 50/100\n",
            "22152/22152 [==============================] - 3s 153us/step - loss: 0.3586 - accuracy: 0.8840 - val_loss: 0.3632 - val_accuracy: 0.8815\n",
            "Epoch 51/100\n",
            "22152/22152 [==============================] - 3s 152us/step - loss: 0.3586 - accuracy: 0.8840 - val_loss: 0.3632 - val_accuracy: 0.8815\n",
            "Epoch 52/100\n",
            "22152/22152 [==============================] - 3s 153us/step - loss: 0.3586 - accuracy: 0.8840 - val_loss: 0.3632 - val_accuracy: 0.8815\n",
            "Epoch 53/100\n",
            "22152/22152 [==============================] - 3s 153us/step - loss: 0.3586 - accuracy: 0.8840 - val_loss: 0.3632 - val_accuracy: 0.8815\n",
            "Epoch 54/100\n",
            "22152/22152 [==============================] - 3s 151us/step - loss: 0.3586 - accuracy: 0.8840 - val_loss: 0.3633 - val_accuracy: 0.8815\n",
            "Epoch 55/100\n",
            "22152/22152 [==============================] - 3s 152us/step - loss: 0.3586 - accuracy: 0.8840 - val_loss: 0.3632 - val_accuracy: 0.8815\n",
            "Epoch 56/100\n",
            "22152/22152 [==============================] - 3s 151us/step - loss: 0.3586 - accuracy: 0.8840 - val_loss: 0.3632 - val_accuracy: 0.8815\n",
            "Epoch 57/100\n",
            "22152/22152 [==============================] - 3s 151us/step - loss: 0.3586 - accuracy: 0.8840 - val_loss: 0.3632 - val_accuracy: 0.8815\n",
            "Epoch 58/100\n",
            "22152/22152 [==============================] - 3s 153us/step - loss: 0.3586 - accuracy: 0.8840 - val_loss: 0.3632 - val_accuracy: 0.8815\n",
            "Epoch 59/100\n",
            "22152/22152 [==============================] - 3s 152us/step - loss: 0.3586 - accuracy: 0.8840 - val_loss: 0.3632 - val_accuracy: 0.8815\n",
            "Epoch 60/100\n",
            "22152/22152 [==============================] - 3s 151us/step - loss: 0.3586 - accuracy: 0.8840 - val_loss: 0.3632 - val_accuracy: 0.8815\n",
            "Epoch 61/100\n",
            "22152/22152 [==============================] - 3s 151us/step - loss: 0.3586 - accuracy: 0.8840 - val_loss: 0.3632 - val_accuracy: 0.8815\n",
            "Epoch 62/100\n",
            "22152/22152 [==============================] - 3s 153us/step - loss: 0.3586 - accuracy: 0.8840 - val_loss: 0.3632 - val_accuracy: 0.8815\n",
            "Epoch 63/100\n",
            "22152/22152 [==============================] - 3s 151us/step - loss: 0.3586 - accuracy: 0.8840 - val_loss: 0.3632 - val_accuracy: 0.8815\n",
            "Epoch 64/100\n",
            "22152/22152 [==============================] - 3s 152us/step - loss: 0.3586 - accuracy: 0.8840 - val_loss: 0.3633 - val_accuracy: 0.8815\n",
            "Epoch 65/100\n",
            "22152/22152 [==============================] - 3s 153us/step - loss: 0.3585 - accuracy: 0.8840 - val_loss: 0.3632 - val_accuracy: 0.8815\n",
            "Epoch 66/100\n",
            "22152/22152 [==============================] - 3s 152us/step - loss: 0.3585 - accuracy: 0.8840 - val_loss: 0.3632 - val_accuracy: 0.8815\n",
            "Epoch 67/100\n",
            "22152/22152 [==============================] - 3s 151us/step - loss: 0.3586 - accuracy: 0.8840 - val_loss: 0.3633 - val_accuracy: 0.8815\n",
            "Epoch 68/100\n",
            "22152/22152 [==============================] - 3s 152us/step - loss: 0.3586 - accuracy: 0.8840 - val_loss: 0.3632 - val_accuracy: 0.8815\n",
            "Epoch 69/100\n",
            "22152/22152 [==============================] - 3s 152us/step - loss: 0.3585 - accuracy: 0.8840 - val_loss: 0.3634 - val_accuracy: 0.8815\n",
            "Epoch 70/100\n",
            "22152/22152 [==============================] - 3s 152us/step - loss: 0.3586 - accuracy: 0.8840 - val_loss: 0.3632 - val_accuracy: 0.8815\n",
            "Epoch 71/100\n",
            "22152/22152 [==============================] - 3s 153us/step - loss: 0.3586 - accuracy: 0.8840 - val_loss: 0.3632 - val_accuracy: 0.8815\n",
            "Epoch 72/100\n",
            "22152/22152 [==============================] - 3s 151us/step - loss: 0.3586 - accuracy: 0.8840 - val_loss: 0.3632 - val_accuracy: 0.8815\n",
            "Epoch 73/100\n",
            "22152/22152 [==============================] - 3s 152us/step - loss: 0.3585 - accuracy: 0.8840 - val_loss: 0.3632 - val_accuracy: 0.8815\n",
            "Epoch 74/100\n",
            "22152/22152 [==============================] - 3s 151us/step - loss: 0.3586 - accuracy: 0.8840 - val_loss: 0.3632 - val_accuracy: 0.8815\n",
            "Epoch 75/100\n",
            "22152/22152 [==============================] - 3s 152us/step - loss: 0.3586 - accuracy: 0.8840 - val_loss: 0.3633 - val_accuracy: 0.8815\n",
            "Epoch 76/100\n",
            "22152/22152 [==============================] - 3s 153us/step - loss: 0.3586 - accuracy: 0.8840 - val_loss: 0.3632 - val_accuracy: 0.8815\n",
            "Epoch 77/100\n",
            "22152/22152 [==============================] - 3s 151us/step - loss: 0.3586 - accuracy: 0.8840 - val_loss: 0.3632 - val_accuracy: 0.8815\n",
            "Epoch 78/100\n",
            "22152/22152 [==============================] - 3s 154us/step - loss: 0.3586 - accuracy: 0.8840 - val_loss: 0.3632 - val_accuracy: 0.8815\n",
            "Epoch 79/100\n",
            "22152/22152 [==============================] - 3s 152us/step - loss: 0.3586 - accuracy: 0.8840 - val_loss: 0.3632 - val_accuracy: 0.8815\n",
            "Epoch 80/100\n",
            "22152/22152 [==============================] - 3s 153us/step - loss: 0.3586 - accuracy: 0.8840 - val_loss: 0.3632 - val_accuracy: 0.8815\n",
            "Epoch 81/100\n",
            "22152/22152 [==============================] - 3s 153us/step - loss: 0.3585 - accuracy: 0.8840 - val_loss: 0.3632 - val_accuracy: 0.8815\n",
            "Epoch 82/100\n",
            "22152/22152 [==============================] - 3s 153us/step - loss: 0.3586 - accuracy: 0.8840 - val_loss: 0.3633 - val_accuracy: 0.8815\n",
            "Epoch 83/100\n",
            "22152/22152 [==============================] - 3s 153us/step - loss: 0.3586 - accuracy: 0.8840 - val_loss: 0.3632 - val_accuracy: 0.8815\n",
            "Epoch 84/100\n",
            "22152/22152 [==============================] - 4s 168us/step - loss: 0.3586 - accuracy: 0.8840 - val_loss: 0.3632 - val_accuracy: 0.8815\n",
            "Epoch 85/100\n",
            "22152/22152 [==============================] - 4s 170us/step - loss: 0.3586 - accuracy: 0.8840 - val_loss: 0.3632 - val_accuracy: 0.8815\n",
            "Epoch 86/100\n",
            "22152/22152 [==============================] - 4s 169us/step - loss: 0.3586 - accuracy: 0.8840 - val_loss: 0.3632 - val_accuracy: 0.8815\n",
            "Epoch 87/100\n",
            "22152/22152 [==============================] - 3s 152us/step - loss: 0.3586 - accuracy: 0.8840 - val_loss: 0.3632 - val_accuracy: 0.8815\n",
            "Epoch 88/100\n",
            "22152/22152 [==============================] - 3s 154us/step - loss: 0.3586 - accuracy: 0.8840 - val_loss: 0.3632 - val_accuracy: 0.8815\n",
            "Epoch 89/100\n",
            "22152/22152 [==============================] - 3s 154us/step - loss: 0.3586 - accuracy: 0.8840 - val_loss: 0.3632 - val_accuracy: 0.8815\n",
            "Epoch 90/100\n",
            "22152/22152 [==============================] - 3s 153us/step - loss: 0.3586 - accuracy: 0.8840 - val_loss: 0.3632 - val_accuracy: 0.8815\n",
            "Epoch 91/100\n",
            "22152/22152 [==============================] - 3s 154us/step - loss: 0.3586 - accuracy: 0.8840 - val_loss: 0.3632 - val_accuracy: 0.8815\n",
            "Epoch 92/100\n",
            "22152/22152 [==============================] - 3s 153us/step - loss: 0.3586 - accuracy: 0.8840 - val_loss: 0.3633 - val_accuracy: 0.8815\n",
            "Epoch 93/100\n",
            "22152/22152 [==============================] - 3s 153us/step - loss: 0.3585 - accuracy: 0.8840 - val_loss: 0.3632 - val_accuracy: 0.8815\n",
            "Epoch 94/100\n",
            "22152/22152 [==============================] - 3s 153us/step - loss: 0.3586 - accuracy: 0.8840 - val_loss: 0.3632 - val_accuracy: 0.8815\n",
            "Epoch 95/100\n",
            "22152/22152 [==============================] - 3s 152us/step - loss: 0.3585 - accuracy: 0.8840 - val_loss: 0.3632 - val_accuracy: 0.8815\n",
            "Epoch 96/100\n",
            "22152/22152 [==============================] - 3s 152us/step - loss: 0.3586 - accuracy: 0.8840 - val_loss: 0.3632 - val_accuracy: 0.8815\n",
            "Epoch 97/100\n",
            "22152/22152 [==============================] - 3s 152us/step - loss: 0.3586 - accuracy: 0.8840 - val_loss: 0.3632 - val_accuracy: 0.8815\n",
            "Epoch 98/100\n",
            "22152/22152 [==============================] - 3s 153us/step - loss: 0.3586 - accuracy: 0.8840 - val_loss: 0.3632 - val_accuracy: 0.8815\n",
            "Epoch 99/100\n",
            "22152/22152 [==============================] - 3s 152us/step - loss: 0.3586 - accuracy: 0.8840 - val_loss: 0.3632 - val_accuracy: 0.8815\n",
            "Epoch 100/100\n",
            "22152/22152 [==============================] - 3s 151us/step - loss: 0.3586 - accuracy: 0.8840 - val_loss: 0.3632 - val_accuracy: 0.8815\n"
          ],
          "name": "stdout"
        }
      ]
    },
    {
      "cell_type": "code",
      "metadata": {
        "id": "J-4h_elCSFiA",
        "colab_type": "code",
        "outputId": "aefb3a6d-cca9-495e-9f20-916a798de715",
        "colab": {
          "base_uri": "https://localhost:8080/",
          "height": 942
        }
      },
      "source": [
        "# Predicting the Test set results\n",
        "y_pred = classifier.predict_classes(test_x)\n",
        "pre_score = sk.average_precision_score(test_y, y_pred)\n",
        "classifier.summary()\n",
        "test_results = classifier.evaluate(test_x, test_y)\n",
        "print(\"For epoch = {0}, the model test accuracy is {1}.\".format(100,test_results[1]))\n",
        "print(\"The model test average precision score is {}.\".format(pre_score))\n",
        "confusionmat(test_y,y_pred)\n",
        "learningcurve(history)"
      ],
      "execution_count": 0,
      "outputs": [
        {
          "output_type": "stream",
          "text": [
            "Model: \"sequential_2\"\n",
            "_________________________________________________________________\n",
            "Layer (type)                 Output Shape              Param #   \n",
            "=================================================================\n",
            "dense_4 (Dense)              (None, 32)                96        \n",
            "_________________________________________________________________\n",
            "dense_5 (Dense)              (None, 16)                528       \n",
            "_________________________________________________________________\n",
            "dense_6 (Dense)              (None, 1)                 17        \n",
            "=================================================================\n",
            "Total params: 641\n",
            "Trainable params: 641\n",
            "Non-trainable params: 0\n",
            "_________________________________________________________________\n",
            "13564/13564 [==============================] - 0s 17us/step\n",
            "For epoch = 100, the model test accuracy is 0.8824093341827393.\n",
            "The model test average precision score is 0.11759068121498083.\n",
            "[[11969     0]\n",
            " [ 1595     0]] \n",
            "\n",
            "The accuracy is 0.8824093187850192\n",
            "dict_keys(['val_loss', 'val_accuracy', 'loss', 'accuracy'])\n"
          ],
          "name": "stdout"
        },
        {
          "output_type": "display_data",
          "data": {
            "image/png": "[encoded data removed]",
            "text/plain": [
              "<Figure size 432x288 with 1 Axes>"
            ]
          },
          "metadata": {
            "tags": [],
            "needs_background": "light"
          }
        },
        {
          "output_type": "display_data",
          "data": {
            "image/png": "[encoded data removed]",
            "text/plain": [
              "<Figure size 432x288 with 1 Axes>"
            ]
          },
          "metadata": {
            "tags": [],
            "needs_background": "light"
          }
        }
      ]
    }
  ]
}